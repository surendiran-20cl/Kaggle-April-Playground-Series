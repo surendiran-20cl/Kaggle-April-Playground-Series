{
  "nbformat": 4,
  "nbformat_minor": 0,
  "metadata": {
    "colab": {
      "provenance": [],
      "gpuType": "V28",
      "authorship_tag": "ABX9TyM9S5j5SYnXyg9jkIqPVZGr",
      "include_colab_link": true
    },
    "kernelspec": {
      "name": "python3",
      "display_name": "Python 3"
    },
    "language_info": {
      "name": "python"
    },
    "accelerator": "TPU"
  },
  "cells": [
    {
      "cell_type": "markdown",
      "metadata": {
        "id": "view-in-github",
        "colab_type": "text"
      },
      "source": [
        "<a href=\"https://colab.research.google.com/github/surendiran-20cl/Kaggle-April-Playground-Series/blob/main/Kaggle_2025_April_Playground_Series_Podcast_Listening_Time_Prediction.ipynb\" target=\"_parent\"><img src=\"https://colab.research.google.com/assets/colab-badge.svg\" alt=\"Open In Colab\"/></a>"
      ]
    },
    {
      "cell_type": "code",
      "source": [],
      "metadata": {
        "id": "o-tDLc_hC8Da"
      },
      "execution_count": null,
      "outputs": []
    },
    {
      "cell_type": "markdown",
      "source": [
        "# Problem Statement:\n",
        "Task is it to predict listening time of a podcast episode.\n",
        "\n",
        "# Dataset Link:\n",
        "https://www.kaggle.com/competitions/playground-series-s5e4/data"
      ],
      "metadata": {
        "id": "PdXe8_ltDCDY"
      }
    },
    {
      "cell_type": "code",
      "source": [
        "from google.colab import drive\n",
        "drive.mount('/content/drive')"
      ],
      "metadata": {
        "colab": {
          "base_uri": "https://localhost:8080/"
        },
        "id": "AyYiTAzQDXRI",
        "outputId": "4bf20fe1-28ab-4c7f-ed67-0340a469fb17"
      },
      "execution_count": 1,
      "outputs": [
        {
          "output_type": "stream",
          "name": "stdout",
          "text": [
            "Mounted at /content/drive\n"
          ]
        }
      ]
    },
    {
      "cell_type": "code",
      "execution_count": 2,
      "metadata": {
        "id": "-BqaMHBcBtdO"
      },
      "outputs": [],
      "source": [
        "# 1. Import Libraries\n",
        "\n",
        "# Basic\n",
        "import pandas as pd\n",
        "import numpy as np\n",
        "\n",
        "# Visualization\n",
        "import matplotlib.pyplot as plt\n",
        "import seaborn as sns\n",
        "\n",
        "# Machine Learning\n",
        "from sklearn.model_selection import train_test_split\n",
        "from sklearn.ensemble import RandomForestRegressor\n",
        "from sklearn.metrics import mean_squared_error\n",
        "from sklearn.preprocessing import StandardScaler\n",
        "\n",
        "# Ignore warnings for cleaner output\n",
        "import warnings\n",
        "warnings.filterwarnings('ignore')\n"
      ]
    },
    {
      "cell_type": "code",
      "source": [
        "# 2. Load the Data\n",
        "\n",
        "# Mount Google Drive if needed\n",
        "# from google.colab import drive\n",
        "# drive.mount('/content/drive')\n",
        "\n",
        "# Load datasets\n",
        "train = pd.read_csv('/content/drive/MyDrive/Kaggle Competitions/April Playground Series - Podcast Listening Time Prediction/train.csv')  # <-- update the path if needed\n",
        "test = pd.read_csv('/content/drive/MyDrive/Kaggle Competitions/April Playground Series - Podcast Listening Time Prediction/test.csv')\n",
        "sample_submission = pd.read_csv('/content/drive/MyDrive/Kaggle Competitions/April Playground Series - Podcast Listening Time Prediction/sample_submission.csv')\n",
        "\n",
        "# Check the shapes\n",
        "print(f\"Train shape: {train.shape}\")\n",
        "print(f\"Test shape: {test.shape}\")\n",
        "\n",
        "# Quick view of data\n",
        "train.head()\n"
      ],
      "metadata": {
        "colab": {
          "base_uri": "https://localhost:8080/",
          "height": 297
        },
        "id": "YX_k2hsXDwW5",
        "outputId": "28afc693-fd66-4a7e-a9d0-9ca53e90d735"
      },
      "execution_count": 3,
      "outputs": [
        {
          "output_type": "stream",
          "name": "stdout",
          "text": [
            "Train shape: (750000, 12)\n",
            "Test shape: (250000, 11)\n"
          ]
        },
        {
          "output_type": "execute_result",
          "data": {
            "text/plain": [
              "   id     Podcast_Name Episode_Title  Episode_Length_minutes       Genre  \\\n",
              "0   0  Mystery Matters    Episode 98                     NaN  True Crime   \n",
              "1   1    Joke Junction    Episode 26                  119.80      Comedy   \n",
              "2   2   Study Sessions    Episode 16                   73.90   Education   \n",
              "3   3   Digital Digest    Episode 45                   67.17  Technology   \n",
              "4   4      Mind & Body    Episode 86                  110.51      Health   \n",
              "\n",
              "   Host_Popularity_percentage Publication_Day Publication_Time  \\\n",
              "0                       74.81        Thursday            Night   \n",
              "1                       66.95        Saturday        Afternoon   \n",
              "2                       69.97         Tuesday          Evening   \n",
              "3                       57.22          Monday          Morning   \n",
              "4                       80.07          Monday        Afternoon   \n",
              "\n",
              "   Guest_Popularity_percentage  Number_of_Ads Episode_Sentiment  \\\n",
              "0                          NaN            0.0          Positive   \n",
              "1                        75.95            2.0          Negative   \n",
              "2                         8.97            0.0          Negative   \n",
              "3                        78.70            2.0          Positive   \n",
              "4                        58.68            3.0           Neutral   \n",
              "\n",
              "   Listening_Time_minutes  \n",
              "0                31.41998  \n",
              "1                88.01241  \n",
              "2                44.92531  \n",
              "3                46.27824  \n",
              "4                75.61031  "
            ],
            "text/html": [
              "\n",
              "  <div id=\"df-7235f93e-19d6-48b4-89f6-691f63f48451\" class=\"colab-df-container\">\n",
              "    <div>\n",
              "<style scoped>\n",
              "    .dataframe tbody tr th:only-of-type {\n",
              "        vertical-align: middle;\n",
              "    }\n",
              "\n",
              "    .dataframe tbody tr th {\n",
              "        vertical-align: top;\n",
              "    }\n",
              "\n",
              "    .dataframe thead th {\n",
              "        text-align: right;\n",
              "    }\n",
              "</style>\n",
              "<table border=\"1\" class=\"dataframe\">\n",
              "  <thead>\n",
              "    <tr style=\"text-align: right;\">\n",
              "      <th></th>\n",
              "      <th>id</th>\n",
              "      <th>Podcast_Name</th>\n",
              "      <th>Episode_Title</th>\n",
              "      <th>Episode_Length_minutes</th>\n",
              "      <th>Genre</th>\n",
              "      <th>Host_Popularity_percentage</th>\n",
              "      <th>Publication_Day</th>\n",
              "      <th>Publication_Time</th>\n",
              "      <th>Guest_Popularity_percentage</th>\n",
              "      <th>Number_of_Ads</th>\n",
              "      <th>Episode_Sentiment</th>\n",
              "      <th>Listening_Time_minutes</th>\n",
              "    </tr>\n",
              "  </thead>\n",
              "  <tbody>\n",
              "    <tr>\n",
              "      <th>0</th>\n",
              "      <td>0</td>\n",
              "      <td>Mystery Matters</td>\n",
              "      <td>Episode 98</td>\n",
              "      <td>NaN</td>\n",
              "      <td>True Crime</td>\n",
              "      <td>74.81</td>\n",
              "      <td>Thursday</td>\n",
              "      <td>Night</td>\n",
              "      <td>NaN</td>\n",
              "      <td>0.0</td>\n",
              "      <td>Positive</td>\n",
              "      <td>31.41998</td>\n",
              "    </tr>\n",
              "    <tr>\n",
              "      <th>1</th>\n",
              "      <td>1</td>\n",
              "      <td>Joke Junction</td>\n",
              "      <td>Episode 26</td>\n",
              "      <td>119.80</td>\n",
              "      <td>Comedy</td>\n",
              "      <td>66.95</td>\n",
              "      <td>Saturday</td>\n",
              "      <td>Afternoon</td>\n",
              "      <td>75.95</td>\n",
              "      <td>2.0</td>\n",
              "      <td>Negative</td>\n",
              "      <td>88.01241</td>\n",
              "    </tr>\n",
              "    <tr>\n",
              "      <th>2</th>\n",
              "      <td>2</td>\n",
              "      <td>Study Sessions</td>\n",
              "      <td>Episode 16</td>\n",
              "      <td>73.90</td>\n",
              "      <td>Education</td>\n",
              "      <td>69.97</td>\n",
              "      <td>Tuesday</td>\n",
              "      <td>Evening</td>\n",
              "      <td>8.97</td>\n",
              "      <td>0.0</td>\n",
              "      <td>Negative</td>\n",
              "      <td>44.92531</td>\n",
              "    </tr>\n",
              "    <tr>\n",
              "      <th>3</th>\n",
              "      <td>3</td>\n",
              "      <td>Digital Digest</td>\n",
              "      <td>Episode 45</td>\n",
              "      <td>67.17</td>\n",
              "      <td>Technology</td>\n",
              "      <td>57.22</td>\n",
              "      <td>Monday</td>\n",
              "      <td>Morning</td>\n",
              "      <td>78.70</td>\n",
              "      <td>2.0</td>\n",
              "      <td>Positive</td>\n",
              "      <td>46.27824</td>\n",
              "    </tr>\n",
              "    <tr>\n",
              "      <th>4</th>\n",
              "      <td>4</td>\n",
              "      <td>Mind &amp; Body</td>\n",
              "      <td>Episode 86</td>\n",
              "      <td>110.51</td>\n",
              "      <td>Health</td>\n",
              "      <td>80.07</td>\n",
              "      <td>Monday</td>\n",
              "      <td>Afternoon</td>\n",
              "      <td>58.68</td>\n",
              "      <td>3.0</td>\n",
              "      <td>Neutral</td>\n",
              "      <td>75.61031</td>\n",
              "    </tr>\n",
              "  </tbody>\n",
              "</table>\n",
              "</div>\n",
              "    <div class=\"colab-df-buttons\">\n",
              "\n",
              "  <div class=\"colab-df-container\">\n",
              "    <button class=\"colab-df-convert\" onclick=\"convertToInteractive('df-7235f93e-19d6-48b4-89f6-691f63f48451')\"\n",
              "            title=\"Convert this dataframe to an interactive table.\"\n",
              "            style=\"display:none;\">\n",
              "\n",
              "  <svg xmlns=\"http://www.w3.org/2000/svg\" height=\"24px\" viewBox=\"0 -960 960 960\">\n",
              "    <path d=\"M120-120v-720h720v720H120Zm60-500h600v-160H180v160Zm220 220h160v-160H400v160Zm0 220h160v-160H400v160ZM180-400h160v-160H180v160Zm440 0h160v-160H620v160ZM180-180h160v-160H180v160Zm440 0h160v-160H620v160Z\"/>\n",
              "  </svg>\n",
              "    </button>\n",
              "\n",
              "  <style>\n",
              "    .colab-df-container {\n",
              "      display:flex;\n",
              "      gap: 12px;\n",
              "    }\n",
              "\n",
              "    .colab-df-convert {\n",
              "      background-color: #E8F0FE;\n",
              "      border: none;\n",
              "      border-radius: 50%;\n",
              "      cursor: pointer;\n",
              "      display: none;\n",
              "      fill: #1967D2;\n",
              "      height: 32px;\n",
              "      padding: 0 0 0 0;\n",
              "      width: 32px;\n",
              "    }\n",
              "\n",
              "    .colab-df-convert:hover {\n",
              "      background-color: #E2EBFA;\n",
              "      box-shadow: 0px 1px 2px rgba(60, 64, 67, 0.3), 0px 1px 3px 1px rgba(60, 64, 67, 0.15);\n",
              "      fill: #174EA6;\n",
              "    }\n",
              "\n",
              "    .colab-df-buttons div {\n",
              "      margin-bottom: 4px;\n",
              "    }\n",
              "\n",
              "    [theme=dark] .colab-df-convert {\n",
              "      background-color: #3B4455;\n",
              "      fill: #D2E3FC;\n",
              "    }\n",
              "\n",
              "    [theme=dark] .colab-df-convert:hover {\n",
              "      background-color: #434B5C;\n",
              "      box-shadow: 0px 1px 3px 1px rgba(0, 0, 0, 0.15);\n",
              "      filter: drop-shadow(0px 1px 2px rgba(0, 0, 0, 0.3));\n",
              "      fill: #FFFFFF;\n",
              "    }\n",
              "  </style>\n",
              "\n",
              "    <script>\n",
              "      const buttonEl =\n",
              "        document.querySelector('#df-7235f93e-19d6-48b4-89f6-691f63f48451 button.colab-df-convert');\n",
              "      buttonEl.style.display =\n",
              "        google.colab.kernel.accessAllowed ? 'block' : 'none';\n",
              "\n",
              "      async function convertToInteractive(key) {\n",
              "        const element = document.querySelector('#df-7235f93e-19d6-48b4-89f6-691f63f48451');\n",
              "        const dataTable =\n",
              "          await google.colab.kernel.invokeFunction('convertToInteractive',\n",
              "                                                    [key], {});\n",
              "        if (!dataTable) return;\n",
              "\n",
              "        const docLinkHtml = 'Like what you see? Visit the ' +\n",
              "          '<a target=\"_blank\" href=https://colab.research.google.com/notebooks/data_table.ipynb>data table notebook</a>'\n",
              "          + ' to learn more about interactive tables.';\n",
              "        element.innerHTML = '';\n",
              "        dataTable['output_type'] = 'display_data';\n",
              "        await google.colab.output.renderOutput(dataTable, element);\n",
              "        const docLink = document.createElement('div');\n",
              "        docLink.innerHTML = docLinkHtml;\n",
              "        element.appendChild(docLink);\n",
              "      }\n",
              "    </script>\n",
              "  </div>\n",
              "\n",
              "\n",
              "    <div id=\"df-7ec52d1c-3e58-4f9d-a203-e79aedba8269\">\n",
              "      <button class=\"colab-df-quickchart\" onclick=\"quickchart('df-7ec52d1c-3e58-4f9d-a203-e79aedba8269')\"\n",
              "                title=\"Suggest charts\"\n",
              "                style=\"display:none;\">\n",
              "\n",
              "<svg xmlns=\"http://www.w3.org/2000/svg\" height=\"24px\"viewBox=\"0 0 24 24\"\n",
              "     width=\"24px\">\n",
              "    <g>\n",
              "        <path d=\"M19 3H5c-1.1 0-2 .9-2 2v14c0 1.1.9 2 2 2h14c1.1 0 2-.9 2-2V5c0-1.1-.9-2-2-2zM9 17H7v-7h2v7zm4 0h-2V7h2v10zm4 0h-2v-4h2v4z\"/>\n",
              "    </g>\n",
              "</svg>\n",
              "      </button>\n",
              "\n",
              "<style>\n",
              "  .colab-df-quickchart {\n",
              "      --bg-color: #E8F0FE;\n",
              "      --fill-color: #1967D2;\n",
              "      --hover-bg-color: #E2EBFA;\n",
              "      --hover-fill-color: #174EA6;\n",
              "      --disabled-fill-color: #AAA;\n",
              "      --disabled-bg-color: #DDD;\n",
              "  }\n",
              "\n",
              "  [theme=dark] .colab-df-quickchart {\n",
              "      --bg-color: #3B4455;\n",
              "      --fill-color: #D2E3FC;\n",
              "      --hover-bg-color: #434B5C;\n",
              "      --hover-fill-color: #FFFFFF;\n",
              "      --disabled-bg-color: #3B4455;\n",
              "      --disabled-fill-color: #666;\n",
              "  }\n",
              "\n",
              "  .colab-df-quickchart {\n",
              "    background-color: var(--bg-color);\n",
              "    border: none;\n",
              "    border-radius: 50%;\n",
              "    cursor: pointer;\n",
              "    display: none;\n",
              "    fill: var(--fill-color);\n",
              "    height: 32px;\n",
              "    padding: 0;\n",
              "    width: 32px;\n",
              "  }\n",
              "\n",
              "  .colab-df-quickchart:hover {\n",
              "    background-color: var(--hover-bg-color);\n",
              "    box-shadow: 0 1px 2px rgba(60, 64, 67, 0.3), 0 1px 3px 1px rgba(60, 64, 67, 0.15);\n",
              "    fill: var(--button-hover-fill-color);\n",
              "  }\n",
              "\n",
              "  .colab-df-quickchart-complete:disabled,\n",
              "  .colab-df-quickchart-complete:disabled:hover {\n",
              "    background-color: var(--disabled-bg-color);\n",
              "    fill: var(--disabled-fill-color);\n",
              "    box-shadow: none;\n",
              "  }\n",
              "\n",
              "  .colab-df-spinner {\n",
              "    border: 2px solid var(--fill-color);\n",
              "    border-color: transparent;\n",
              "    border-bottom-color: var(--fill-color);\n",
              "    animation:\n",
              "      spin 1s steps(1) infinite;\n",
              "  }\n",
              "\n",
              "  @keyframes spin {\n",
              "    0% {\n",
              "      border-color: transparent;\n",
              "      border-bottom-color: var(--fill-color);\n",
              "      border-left-color: var(--fill-color);\n",
              "    }\n",
              "    20% {\n",
              "      border-color: transparent;\n",
              "      border-left-color: var(--fill-color);\n",
              "      border-top-color: var(--fill-color);\n",
              "    }\n",
              "    30% {\n",
              "      border-color: transparent;\n",
              "      border-left-color: var(--fill-color);\n",
              "      border-top-color: var(--fill-color);\n",
              "      border-right-color: var(--fill-color);\n",
              "    }\n",
              "    40% {\n",
              "      border-color: transparent;\n",
              "      border-right-color: var(--fill-color);\n",
              "      border-top-color: var(--fill-color);\n",
              "    }\n",
              "    60% {\n",
              "      border-color: transparent;\n",
              "      border-right-color: var(--fill-color);\n",
              "    }\n",
              "    80% {\n",
              "      border-color: transparent;\n",
              "      border-right-color: var(--fill-color);\n",
              "      border-bottom-color: var(--fill-color);\n",
              "    }\n",
              "    90% {\n",
              "      border-color: transparent;\n",
              "      border-bottom-color: var(--fill-color);\n",
              "    }\n",
              "  }\n",
              "</style>\n",
              "\n",
              "      <script>\n",
              "        async function quickchart(key) {\n",
              "          const quickchartButtonEl =\n",
              "            document.querySelector('#' + key + ' button');\n",
              "          quickchartButtonEl.disabled = true;  // To prevent multiple clicks.\n",
              "          quickchartButtonEl.classList.add('colab-df-spinner');\n",
              "          try {\n",
              "            const charts = await google.colab.kernel.invokeFunction(\n",
              "                'suggestCharts', [key], {});\n",
              "          } catch (error) {\n",
              "            console.error('Error during call to suggestCharts:', error);\n",
              "          }\n",
              "          quickchartButtonEl.classList.remove('colab-df-spinner');\n",
              "          quickchartButtonEl.classList.add('colab-df-quickchart-complete');\n",
              "        }\n",
              "        (() => {\n",
              "          let quickchartButtonEl =\n",
              "            document.querySelector('#df-7ec52d1c-3e58-4f9d-a203-e79aedba8269 button');\n",
              "          quickchartButtonEl.style.display =\n",
              "            google.colab.kernel.accessAllowed ? 'block' : 'none';\n",
              "        })();\n",
              "      </script>\n",
              "    </div>\n",
              "\n",
              "    </div>\n",
              "  </div>\n"
            ],
            "application/vnd.google.colaboratory.intrinsic+json": {
              "type": "dataframe",
              "variable_name": "train"
            }
          },
          "metadata": {},
          "execution_count": 3
        }
      ]
    },
    {
      "cell_type": "code",
      "source": [
        "#  3. Basic Data Exploration\n",
        "\n",
        "# Checking missing values\n",
        "print(train.isnull().sum())\n",
        "\n",
        "# Checking data types\n",
        "print(train.dtypes)\n",
        "\n",
        "# Checking target variable distribution\n",
        "plt.figure(figsize=(8,5))\n",
        "sns.histplot(train['Listening_Time_minutes'], bins=50, kde=True)\n",
        "plt.title('Distribution of Listening Time')\n",
        "plt.xlabel('Listening Time (minutes)')\n",
        "plt.show()\n"
      ],
      "metadata": {
        "colab": {
          "base_uri": "https://localhost:8080/",
          "height": 962
        },
        "id": "W9_rauI1EMBk",
        "outputId": "dcb8ab48-39a1-45b9-fea0-9024aa973bfc"
      },
      "execution_count": 4,
      "outputs": [
        {
          "output_type": "stream",
          "name": "stdout",
          "text": [
            "id                                  0\n",
            "Podcast_Name                        0\n",
            "Episode_Title                       0\n",
            "Episode_Length_minutes          87093\n",
            "Genre                               0\n",
            "Host_Popularity_percentage          0\n",
            "Publication_Day                     0\n",
            "Publication_Time                    0\n",
            "Guest_Popularity_percentage    146030\n",
            "Number_of_Ads                       1\n",
            "Episode_Sentiment                   0\n",
            "Listening_Time_minutes              0\n",
            "dtype: int64\n",
            "id                               int64\n",
            "Podcast_Name                    object\n",
            "Episode_Title                   object\n",
            "Episode_Length_minutes         float64\n",
            "Genre                           object\n",
            "Host_Popularity_percentage     float64\n",
            "Publication_Day                 object\n",
            "Publication_Time                object\n",
            "Guest_Popularity_percentage    float64\n",
            "Number_of_Ads                  float64\n",
            "Episode_Sentiment               object\n",
            "Listening_Time_minutes         float64\n",
            "dtype: object\n"
          ]
        },
        {
          "output_type": "display_data",
          "data": {
            "text/plain": [
              "<Figure size 800x500 with 1 Axes>"
            ],
            "image/png": "[encoded data removed]"
          },
          "metadata": {}
        }
      ]
    },
    {
      "cell_type": "code",
      "source": [
        "#  4. Prepare Features and Target\n",
        "\n",
        "# Drop 'id' column (not useful for modeling)\n",
        "X = train.drop(['id', 'Listening_Time_minutes'], axis=1)\n",
        "y = train['Listening_Time_minutes']\n",
        "\n",
        "# Also prepare test data\n",
        "X_test = test.drop(['id'], axis=1)\n"
      ],
      "metadata": {
        "id": "smuC5i5PESZS"
      },
      "execution_count": 4,
      "outputs": []
    },
    {
      "cell_type": "code",
      "source": [
        "# Check which columns are object types (strings)\n",
        "cat_cols = X.select_dtypes(include=['object']).columns\n",
        "print(cat_cols)"
      ],
      "metadata": {
        "colab": {
          "base_uri": "https://localhost:8080/"
        },
        "id": "5oD9_UlHE5hs",
        "outputId": "e4272246-86a7-46ba-f078-50a66d7a246b"
      },
      "execution_count": 5,
      "outputs": [
        {
          "output_type": "stream",
          "name": "stdout",
          "text": [
            "Index(['Podcast_Name', 'Episode_Title', 'Genre', 'Publication_Day',\n",
            "       'Publication_Time', 'Episode_Sentiment'],\n",
            "      dtype='object')\n"
          ]
        }
      ]
    },
    {
      "cell_type": "code",
      "source": [
        "#Encode them\n",
        "# Import LabelEncoder\n",
        "from sklearn.preprocessing import LabelEncoder\n",
        "\n",
        "# Apply Label Encoding to all categorical columns\n",
        "le = LabelEncoder()\n",
        "\n",
        "for col in cat_cols:\n",
        "    X[col] = le.fit_transform(X[col])\n",
        "    X_test[col] = le.transform(X_test[col])  # Apply same transformation to test set\n"
      ],
      "metadata": {
        "id": "vW94_H51E_Nr"
      },
      "execution_count": 6,
      "outputs": []
    },
    {
      "cell_type": "code",
      "source": [
        "# Optional: Feature Scaling (can help RandomForest, but more important for other models)\n",
        "scaler = StandardScaler()\n",
        "X_scaled = scaler.fit_transform(X)\n",
        "X_test_scaled = scaler.transform(X_test)"
      ],
      "metadata": {
        "id": "Th9OmE2TEoo2"
      },
      "execution_count": 7,
      "outputs": []
    },
    {
      "cell_type": "code",
      "source": [
        "# Split into train and validation sets\n",
        "X_train, X_val, y_train, y_val = train_test_split(X_scaled, y, test_size=0.2, random_state=42)\n",
        "\n",
        "print(f\"Train set size: {X_train.shape}\")\n",
        "print(f\"Validation set size: {X_val.shape}\")"
      ],
      "metadata": {
        "colab": {
          "base_uri": "https://localhost:8080/"
        },
        "id": "7KITJdDCEreV",
        "outputId": "e531c29a-91f2-4b11-f4d4-65e194e02f31"
      },
      "execution_count": 8,
      "outputs": [
        {
          "output_type": "stream",
          "name": "stdout",
          "text": [
            "Train set size: (600000, 10)\n",
            "Validation set size: (150000, 10)\n"
          ]
        }
      ]
    },
    {
      "cell_type": "code",
      "source": [
        "#  5. Build and Train a Basic Model (Random Forest)\n",
        "\n",
        "# Initialize the model\n",
        "model = RandomForestRegressor(n_estimators=100, random_state=42)\n",
        "\n",
        "# Train the model\n",
        "model.fit(X_train, y_train)\n",
        "\n",
        "# Predict on validation set\n",
        "val_preds = model.predict(X_val)\n",
        "\n",
        "\n"
      ],
      "metadata": {
        "id": "yqH_yj69FQ62"
      },
      "execution_count": null,
      "outputs": []
    },
    {
      "cell_type": "code",
      "source": [
        "# Calculate RMSE\n",
        "# The squared parameter was added in scikit-learn version 0.22\n",
        "# If you have an older version, use np.sqrt to get RMSE manually.\n",
        "#val_rmse = mean_squared_error(y_val, val_preds, squared=False)\n",
        "val_rmse = np.sqrt(mean_squared_error(y_val, val_preds)) # Calculate RMSE manually\n",
        "print(f\"Validation RMSE: {val_rmse:.4f}\")"
      ],
      "metadata": {
        "colab": {
          "base_uri": "https://localhost:8080/"
        },
        "id": "a7iR9m-1IzC1",
        "outputId": "5d97f900-55be-4f57-c165-910da34b9433"
      },
      "execution_count": 12,
      "outputs": [
        {
          "output_type": "stream",
          "name": "stdout",
          "text": [
            "Validation RMSE: 12.6630\n"
          ]
        }
      ]
    },
    {
      "cell_type": "code",
      "source": [
        "#  6. Feature Importance (Optional but helpful)\n",
        "\n",
        "# Let's see which features are important\n",
        "feature_importances = pd.Series(model.feature_importances_, index=train.drop(['id', 'Listening_Time_minutes'], axis=1).columns)\n",
        "feature_importances.sort_values(ascending=False).plot(kind='bar', figsize=(12,6))\n",
        "plt.title('Feature Importance')\n",
        "plt.show()\n"
      ],
      "metadata": {
        "colab": {
          "base_uri": "https://localhost:8080/",
          "height": 734
        },
        "id": "U07g1b1OFX8C",
        "outputId": "3577b3f7-d4f8-4c32-fc43-80e2b5cef79e"
      },
      "execution_count": 13,
      "outputs": [
        {
          "output_type": "display_data",
          "data": {
            "text/plain": [
              "<Figure size 1200x600 with 1 Axes>"
            ],
            "image/png": "[encoded data removed]"
          },
          "metadata": {}
        }
      ]
    },
    {
      "cell_type": "code",
      "source": [
        "#  7. Make Predictions on Test Set and Submit\n",
        "\n",
        "# Predict on test data\n",
        "test_preds = model.predict(X_test_scaled)\n",
        "\n",
        "# Prepare the submission file\n",
        "submission = sample_submission.copy()\n",
        "submission['Listening_Time_minutes'] = test_preds\n",
        "\n",
        "# Save the file\n",
        "submission.to_csv('submission.csv', index=False)\n",
        "\n",
        "print(\"Submission file saved successfully!\")\n"
      ],
      "metadata": {
        "colab": {
          "base_uri": "https://localhost:8080/"
        },
        "id": "GAI7osdPFphf",
        "outputId": "3432757f-708f-4142-8ff1-98e5f69a1f4d"
      },
      "execution_count": 14,
      "outputs": [
        {
          "output_type": "stream",
          "name": "stdout",
          "text": [
            "Submission file saved successfully!\n"
          ]
        }
      ]
    },
    {
      "cell_type": "code",
      "source": [
        "# Import LightGBM\n",
        "\n",
        "import lightgbm as lgb\n"
      ],
      "metadata": {
        "id": "HHf70x0fJF6n"
      },
      "execution_count": 9,
      "outputs": []
    },
    {
      "cell_type": "code",
      "source": [
        "#  LightGBM Model Training\n",
        "\n",
        "# Set up the dataset for LightGBM\n",
        "# Set free_raw_data=False to prevent the dataset from releasing its raw data\n",
        "train_set = lgb.Dataset(X_train, label=y_train, free_raw_data=False)\n",
        "val_set = lgb.Dataset(X_val, label=y_val, free_raw_data=False)\n",
        "\n",
        "# Set up basic parameters\n",
        "params = {\n",
        "    'objective': 'regression',\n",
        "    'metric': 'rmse',\n",
        "    'boosting_type': 'gbdt',  # Gradient Boosting Decision Trees\n",
        "    'learning_rate': 0.05,\n",
        "    'num_leaves': 31,\n",
        "    'random_state': 42\n",
        "}\n",
        "# Train the model\n",
        "# Removed 'early_stopping_rounds' from lgb.train() and moved it to a callback function\n",
        "lgbm_model = lgb.train(\n",
        "    params,\n",
        "    train_set,\n",
        "    num_boost_round=1000,\n",
        "    valid_sets=[train_set, val_set],\n",
        "    callbacks=[lgb.early_stopping(stopping_rounds=50)], # Use early_stopping callback\n",
        "    # verbose_eval=100 # This parameter is replaced with 'valid_sets' and the callback function\n",
        ")\n",
        "\n",
        "# Print evaluation results every 100 iterations\n",
        "for i in range(0, 1000, 100):\n",
        "    # eval_results = {}  # Store evaluation results # This is no longer needed.\n",
        "    lgbm_model = lgb.train(\n",
        "        params,\n",
        "        train_set,\n",
        "        num_boost_round=100, # train for 100 rounds in each iteration\n",
        "        valid_sets=[train_set, val_set],\n",
        "        callbacks=[lgb.early_stopping(stopping_rounds=50)],\n",
        "        valid_names=['train', 'valid'],\n",
        "        # evals_result=eval_results,  # Removed this line\n",
        "        init_model=lgbm_model if i > 0 else None,  # Use the previous model as a starting point\n",
        "    )\n",
        "    print(f\"Iteration {i + 100}:\")\n",
        "    # The following lines are modified to get the evaluation results from the model\n",
        "    print(f\"Train RMSE: {lgbm_model.best_score['train']['rmse']}\")\n",
        "    print(f\"Valid RMSE: {lgbm_model.best_score['valid']['rmse']}\")"
      ],
      "metadata": {
        "colab": {
          "base_uri": "https://localhost:8080/"
        },
        "collapsed": true,
        "id": "2eV58Me3JopL",
        "outputId": "46e66183-d342-4316-cc8a-a2836cf2f506"
      },
      "execution_count": 20,
      "outputs": [
        {
          "output_type": "stream",
          "name": "stdout",
          "text": [
            "[LightGBM] [Info] Auto-choosing row-wise multi-threading, the overhead of testing was 0.035594 seconds.\n",
            "You can set `force_row_wise=true` to remove the overhead.\n",
            "And if memory is not enough, you can set `force_col_wise=true`.\n",
            "[LightGBM] [Info] Total Bins 950\n",
            "[LightGBM] [Info] Number of data points in the train set: 600000, number of used features: 10\n",
            "[LightGBM] [Info] Start training from score 45.447808\n",
            "Training until validation scores don't improve for 50 rounds\n",
            "Did not meet early stopping. Best iteration is:\n",
            "[1000]\ttraining's rmse: 12.6048\tvalid_1's rmse: 12.9667\n",
            "[LightGBM] [Info] Auto-choosing row-wise multi-threading, the overhead of testing was 0.015371 seconds.\n",
            "You can set `force_row_wise=true` to remove the overhead.\n",
            "And if memory is not enough, you can set `force_col_wise=true`.\n",
            "[LightGBM] [Info] Total Bins 950\n",
            "[LightGBM] [Info] Number of data points in the train set: 600000, number of used features: 10\n",
            "[LightGBM] [Info] Start training from score 45.447808\n",
            "Training until validation scores don't improve for 50 rounds\n",
            "Did not meet early stopping. Best iteration is:\n",
            "[100]\ttrain's rmse: 13.105\tvalid's rmse: 13.0924\n",
            "Iteration 100:\n",
            "Train RMSE: 13.105033182787931\n",
            "Valid RMSE: 13.092432368145868\n",
            "[LightGBM] [Info] Auto-choosing row-wise multi-threading, the overhead of testing was 0.015508 seconds.\n",
            "You can set `force_row_wise=true` to remove the overhead.\n",
            "And if memory is not enough, you can set `force_col_wise=true`.\n",
            "[LightGBM] [Info] Total Bins 950\n",
            "[LightGBM] [Info] Number of data points in the train set: 600000, number of used features: 10\n",
            "Training until validation scores don't improve for 50 rounds\n",
            "Did not meet early stopping. Best iteration is:\n",
            "[199]\ttrain's rmse: 13.0109\tvalid's rmse: 13.0525\n",
            "Iteration 200:\n",
            "Train RMSE: 13.01092180405746\n",
            "Valid RMSE: 13.05248632096772\n",
            "[LightGBM] [Info] Auto-choosing col-wise multi-threading, the overhead of testing was 0.052827 seconds.\n",
            "You can set `force_col_wise=true` to remove the overhead.\n",
            "[LightGBM] [Info] Total Bins 950\n",
            "[LightGBM] [Info] Number of data points in the train set: 600000, number of used features: 10\n",
            "Training until validation scores don't improve for 50 rounds\n",
            "Did not meet early stopping. Best iteration is:\n",
            "[299]\ttrain's rmse: 12.948\tvalid's rmse: 13.037\n",
            "Iteration 300:\n",
            "Train RMSE: 12.947978062357512\n",
            "Valid RMSE: 13.03696443765333\n",
            "[LightGBM] [Info] Auto-choosing row-wise multi-threading, the overhead of testing was 0.015381 seconds.\n",
            "You can set `force_row_wise=true` to remove the overhead.\n",
            "And if memory is not enough, you can set `force_col_wise=true`.\n",
            "[LightGBM] [Info] Total Bins 950\n",
            "[LightGBM] [Info] Number of data points in the train set: 600000, number of used features: 10\n",
            "Training until validation scores don't improve for 50 rounds\n",
            "Did not meet early stopping. Best iteration is:\n",
            "[399]\ttrain's rmse: 12.8923\tvalid's rmse: 13.0253\n",
            "Iteration 400:\n",
            "Train RMSE: 12.89229813178029\n",
            "Valid RMSE: 13.025284552186262\n",
            "[LightGBM] [Info] Auto-choosing row-wise multi-threading, the overhead of testing was 0.015501 seconds.\n",
            "You can set `force_row_wise=true` to remove the overhead.\n",
            "And if memory is not enough, you can set `force_col_wise=true`.\n",
            "[LightGBM] [Info] Total Bins 950\n",
            "[LightGBM] [Info] Number of data points in the train set: 600000, number of used features: 10\n",
            "Training until validation scores don't improve for 50 rounds\n",
            "Did not meet early stopping. Best iteration is:\n",
            "[499]\ttrain's rmse: 12.8378\tvalid's rmse: 13.012\n",
            "Iteration 500:\n",
            "Train RMSE: 12.837825833386855\n",
            "Valid RMSE: 13.01195689048459\n",
            "[LightGBM] [Info] Auto-choosing col-wise multi-threading, the overhead of testing was 0.132409 seconds.\n",
            "You can set `force_col_wise=true` to remove the overhead.\n",
            "[LightGBM] [Info] Total Bins 950\n",
            "[LightGBM] [Info] Number of data points in the train set: 600000, number of used features: 10\n",
            "Training until validation scores don't improve for 50 rounds\n",
            "Did not meet early stopping. Best iteration is:\n",
            "[599]\ttrain's rmse: 12.7851\tvalid's rmse: 12.9989\n",
            "Iteration 600:\n",
            "Train RMSE: 12.785107191353953\n",
            "Valid RMSE: 12.998914654366216\n",
            "[LightGBM] [Info] Auto-choosing row-wise multi-threading, the overhead of testing was 0.015349 seconds.\n",
            "You can set `force_row_wise=true` to remove the overhead.\n",
            "And if memory is not enough, you can set `force_col_wise=true`.\n",
            "[LightGBM] [Info] Total Bins 950\n",
            "[LightGBM] [Info] Number of data points in the train set: 600000, number of used features: 10\n",
            "Training until validation scores don't improve for 50 rounds\n",
            "Did not meet early stopping. Best iteration is:\n",
            "[699]\ttrain's rmse: 12.7366\tvalid's rmse: 12.9891\n",
            "Iteration 700:\n",
            "Train RMSE: 12.736607707229185\n",
            "Valid RMSE: 12.989125929768484\n",
            "[LightGBM] [Info] Auto-choosing col-wise multi-threading, the overhead of testing was 0.154072 seconds.\n",
            "You can set `force_col_wise=true` to remove the overhead.\n",
            "[LightGBM] [Info] Total Bins 950\n",
            "[LightGBM] [Info] Number of data points in the train set: 600000, number of used features: 10\n",
            "Training until validation scores don't improve for 50 rounds\n",
            "Did not meet early stopping. Best iteration is:\n",
            "[797]\ttrain's rmse: 12.6922\tvalid's rmse: 12.9796\n",
            "Iteration 800:\n",
            "Train RMSE: 12.692177322838768\n",
            "Valid RMSE: 12.97964365238298\n",
            "[LightGBM] [Info] Auto-choosing col-wise multi-threading, the overhead of testing was 0.139741 seconds.\n",
            "You can set `force_col_wise=true` to remove the overhead.\n",
            "[LightGBM] [Info] Total Bins 950\n",
            "[LightGBM] [Info] Number of data points in the train set: 600000, number of used features: 10\n",
            "Training until validation scores don't improve for 50 rounds\n",
            "Did not meet early stopping. Best iteration is:\n",
            "[897]\ttrain's rmse: 12.6474\tvalid's rmse: 12.9738\n",
            "Iteration 900:\n",
            "Train RMSE: 12.647415233638492\n",
            "Valid RMSE: 12.973756088280421\n",
            "[LightGBM] [Info] Auto-choosing row-wise multi-threading, the overhead of testing was 0.015394 seconds.\n",
            "You can set `force_row_wise=true` to remove the overhead.\n",
            "And if memory is not enough, you can set `force_col_wise=true`.\n",
            "[LightGBM] [Info] Total Bins 950\n",
            "[LightGBM] [Info] Number of data points in the train set: 600000, number of used features: 10\n",
            "Training until validation scores don't improve for 50 rounds\n",
            "Did not meet early stopping. Best iteration is:\n",
            "[997]\ttrain's rmse: 12.6057\tvalid's rmse: 12.9668\n",
            "Iteration 1000:\n",
            "Train RMSE: 12.605730711936642\n",
            "Valid RMSE: 12.966820609649046\n"
          ]
        }
      ]
    },
    {
      "cell_type": "code",
      "source": [
        "#  Evaluate LightGBM Model on Validation Set\n",
        "\n",
        "# Predict\n",
        "val_preds_lgbm = lgbm_model.predict(X_val)\n",
        "\n",
        "# Calculate RMSE\n",
        "\n",
        "val_rmse_lgbm = np.sqrt(mean_squared_error(y_val, val_preds_lgbm)) # Calculate RMSE manually\n",
        "print(f\"LightGBM Validation RMSE: {val_rmse_lgbm:.4f}\")\n"
      ],
      "metadata": {
        "colab": {
          "base_uri": "https://localhost:8080/"
        },
        "id": "bxuxngulJ-Vx",
        "outputId": "83d23b96-8ba3-47cd-afeb-944c560f1893"
      },
      "execution_count": 21,
      "outputs": [
        {
          "output_type": "stream",
          "name": "stdout",
          "text": [
            "LightGBM Validation RMSE: 12.9668\n"
          ]
        }
      ]
    },
    {
      "cell_type": "code",
      "source": [
        "#  Plot Feature Importances\n",
        "\n",
        "lgb.plot_importance(lgbm_model, max_num_features=20, importance_type='gain', figsize=(12,6))\n",
        "plt.title(\"Top 20 Important Features (LightGBM)\")\n",
        "plt.show()\n"
      ],
      "metadata": {
        "colab": {
          "base_uri": "https://localhost:8080/",
          "height": 564
        },
        "id": "kWRF1DRfMqX7",
        "outputId": "039aa0cd-ffa8-44d2-fde0-1c0e6d93d678"
      },
      "execution_count": 22,
      "outputs": [
        {
          "output_type": "display_data",
          "data": {
            "text/plain": [
              "<Figure size 1200x600 with 1 Axes>"
            ],
            "image/png": "[encoded data removed]"
          },
          "metadata": {}
        }
      ]
    },
    {
      "cell_type": "code",
      "source": [
        "#  Make Predictions on Test Set\n",
        "\n",
        "# Predict test set\n",
        "test_preds_lgbm = lgbm_model.predict(X_test_scaled)\n",
        "\n",
        "# Prepare submission file\n",
        "submission_lgbm = sample_submission.copy()\n",
        "submission_lgbm['Listening_Time_minutes'] = test_preds_lgbm\n",
        "\n",
        "# Save submission\n",
        "submission_lgbm.to_csv('submission_lgbm.csv', index=False)\n",
        "\n",
        "print(\"LightGBM submission file created successfully.\")\n"
      ],
      "metadata": {
        "colab": {
          "base_uri": "https://localhost:8080/"
        },
        "id": "SI76C9E8M1pG",
        "outputId": "6585ebc3-657b-4d44-af8a-2b61738be2f2"
      },
      "execution_count": 23,
      "outputs": [
        {
          "output_type": "stream",
          "name": "stdout",
          "text": [
            "LightGBM submission file created successfully.\n"
          ]
        }
      ]
    },
    {
      "cell_type": "code",
      "source": [
        "# Let's Proceed to LightGBM Tuning (Beginner-Friendly)\n",
        "# We’ll use Optuna — it is simple, automatic, and very powerful."
      ],
      "metadata": {
        "id": "BXqDFXB_M8bl"
      },
      "execution_count": null,
      "outputs": []
    },
    {
      "cell_type": "code",
      "source": [
        "# Install optuna if not already installed\n",
        "!pip install optuna"
      ],
      "metadata": {
        "colab": {
          "base_uri": "https://localhost:8080/"
        },
        "collapsed": true,
        "id": "hT--ZPZjN39l",
        "outputId": "cb1766c2-4db2-4711-9019-faf0ec961136"
      },
      "execution_count": 11,
      "outputs": [
        {
          "output_type": "stream",
          "name": "stdout",
          "text": [
            "Collecting optuna\n",
            "  Downloading optuna-4.3.0-py3-none-any.whl.metadata (17 kB)\n",
            "Collecting alembic>=1.5.0 (from optuna)\n",
            "  Downloading alembic-1.15.2-py3-none-any.whl.metadata (7.3 kB)\n",
            "Collecting colorlog (from optuna)\n",
            "  Downloading colorlog-6.9.0-py3-none-any.whl.metadata (10 kB)\n",
            "Requirement already satisfied: numpy in /usr/local/lib/python3.11/dist-packages (from optuna) (2.0.2)\n",
            "Requirement already satisfied: packaging>=20.0 in /usr/local/lib/python3.11/dist-packages (from optuna) (24.2)\n",
            "Requirement already satisfied: sqlalchemy>=1.4.2 in /usr/local/lib/python3.11/dist-packages (from optuna) (2.0.40)\n",
            "Requirement already satisfied: tqdm in /usr/local/lib/python3.11/dist-packages (from optuna) (4.67.1)\n",
            "Requirement already satisfied: PyYAML in /usr/local/lib/python3.11/dist-packages (from optuna) (6.0.2)\n",
            "Requirement already satisfied: Mako in /usr/lib/python3/dist-packages (from alembic>=1.5.0->optuna) (1.1.3)\n",
            "Requirement already satisfied: typing-extensions>=4.12 in /usr/local/lib/python3.11/dist-packages (from alembic>=1.5.0->optuna) (4.13.2)\n",
            "Requirement already satisfied: greenlet>=1 in /usr/local/lib/python3.11/dist-packages (from sqlalchemy>=1.4.2->optuna) (3.2.1)\n",
            "Downloading optuna-4.3.0-py3-none-any.whl (386 kB)\n",
            "\u001b[2K   \u001b[90m━━━━━━━━━━━━━━━━━━━━━━━━━━━━━━━━━━━━━━━━\u001b[0m \u001b[32m386.6/386.6 kB\u001b[0m \u001b[31m10.1 MB/s\u001b[0m eta \u001b[36m0:00:00\u001b[0m\n",
            "\u001b[?25hDownloading alembic-1.15.2-py3-none-any.whl (231 kB)\n",
            "\u001b[2K   \u001b[90m━━━━━━━━━━━━━━━━━━━━━━━━━━━━━━━━━━━━━━━━\u001b[0m \u001b[32m231.9/231.9 kB\u001b[0m \u001b[31m23.6 MB/s\u001b[0m eta \u001b[36m0:00:00\u001b[0m\n",
            "\u001b[?25hDownloading colorlog-6.9.0-py3-none-any.whl (11 kB)\n",
            "Installing collected packages: colorlog, alembic, optuna\n",
            "Successfully installed alembic-1.15.2 colorlog-6.9.0 optuna-4.3.0\n"
          ]
        }
      ]
    },
    {
      "cell_type": "code",
      "source": [
        "# Import Optuna\n",
        "import optuna\n"
      ],
      "metadata": {
        "id": "dXy2fbd8N5_d"
      },
      "execution_count": 12,
      "outputs": []
    },
    {
      "cell_type": "markdown",
      "source": [
        "Define the Objective Function:\n",
        "\n",
        "This function will try different parameter combinations, train LightGBM, and return the RMSE."
      ],
      "metadata": {
        "id": "hF7894R2N_NY"
      }
    },
    {
      "cell_type": "code",
      "source": [
        "# Define objective function for Optuna\n",
        "def objective(trial):\n",
        "    # Define a set of hyperparameters to tune\n",
        "    params = {\n",
        "        'objective': 'regression',\n",
        "        'metric': 'rmse',\n",
        "        'boosting_type': 'gbdt',\n",
        "        'learning_rate': trial.suggest_float('learning_rate', 0.01, 0.3),\n",
        "        'num_leaves': trial.suggest_int('num_leaves', 20, 300),\n",
        "        'max_depth': trial.suggest_int('max_depth', 3, 15),\n",
        "        'min_child_samples': trial.suggest_int('min_child_samples', 5, 100),\n",
        "        'subsample': trial.suggest_float('subsample', 0.5, 1.0),\n",
        "        'colsample_bytree': trial.suggest_float('colsample_bytree', 0.5, 1.0),\n",
        "        'reg_alpha': trial.suggest_float('reg_alpha', 0.0, 5.0),\n",
        "        'reg_lambda': trial.suggest_float('reg_lambda', 0.0, 5.0),\n",
        "        'random_state': 42\n",
        "    }\n",
        "\n",
        "    # Train LightGBM with these parameters\n",
        "    lgb_train = lgb.Dataset(X_train, label=y_train)\n",
        "    lgb_val = lgb.Dataset(X_val, label=y_val)\n",
        "\n",
        "    model = lgb.train(\n",
        "        params,\n",
        "        lgb_train,\n",
        "        valid_sets=[lgb_train, lgb_val],\n",
        "        callbacks=[lgb.early_stopping(stopping_rounds=50), lgb.log_evaluation(period=100)],  # Log evaluation results every 100 iterations\n",
        "        # verbose_eval=False  # Remove this line\n",
        "    )\n",
        "\n",
        "    # Predict validation set\n",
        "    val_pred = model.predict(X_val)\n",
        "\n",
        "    # Calculate RMSE\n",
        "    # rmse = mean_squared_error(y_val, val_pred, squared=False) # Remove 'squared' parameter\n",
        "    rmse = np.sqrt(mean_squared_error(y_val, val_pred)) # Calculate RMSE manually\n",
        "\n",
        "    return rmse"
      ],
      "metadata": {
        "id": "rlZZbLnDN8Ob"
      },
      "execution_count": 32,
      "outputs": []
    },
    {
      "cell_type": "markdown",
      "source": [
        "trial.suggest_float and trial.suggest_int tell Optuna to try different values for each hyperparameter.\n",
        "\n",
        "Goal = find the set that gives lowest RMSE on validation."
      ],
      "metadata": {
        "id": "ngv3_6CZOH1q"
      }
    },
    {
      "cell_type": "code",
      "source": [
        "# Run Optuna Study\n",
        "# Create study and optimize\n",
        "study = optuna.create_study(direction=\"minimize\")  # We want to minimize RMSE\n",
        "study.optimize(objective, n_trials=30)  # Try 30 different sets (you can increase this number)\n",
        "\n",
        "# Best parameters\n",
        "print(\"Best Hyperparameters:\", study.best_params)\n",
        "print(\"Best RMSE:\", study.best_value)\n"
      ],
      "metadata": {
        "colab": {
          "base_uri": "https://localhost:8080/"
        },
        "collapsed": true,
        "id": "zbPG3igYOHKf",
        "outputId": "e4bd6de3-ac21-47e2-c722-7d5cbd3b132c"
      },
      "execution_count": 33,
      "outputs": [
        {
          "output_type": "stream",
          "name": "stderr",
          "text": [
            "[I 2025-04-28 11:50:09,700] A new study created in memory with name: no-name-790e5ac2-d767-4bdf-b2e8-f439d5ceded5\n"
          ]
        },
        {
          "output_type": "stream",
          "name": "stdout",
          "text": [
            "[LightGBM] [Info] Auto-choosing row-wise multi-threading, the overhead of testing was 0.014808 seconds.\n",
            "You can set `force_row_wise=true` to remove the overhead.\n",
            "And if memory is not enough, you can set `force_col_wise=true`.\n",
            "[LightGBM] [Info] Total Bins 950\n",
            "[LightGBM] [Info] Number of data points in the train set: 600000, number of used features: 10\n",
            "[LightGBM] [Info] Start training from score 45.447808\n",
            "[LightGBM] [Warning] No further splits with positive gain, best gain: -inf\n",
            "Training until validation scores don't improve for 50 rounds\n",
            "[LightGBM] [Warning] No further splits with positive gain, best gain: -inf\n",
            "[LightGBM] [Warning] No further splits with positive gain, best gain: -inf\n",
            "[LightGBM] [Warning] No further splits with positive gain, best gain: -inf\n",
            "[LightGBM] [Warning] No further splits with positive gain, best gain: -inf\n",
            "[LightGBM] [Warning] No further splits with positive gain, best gain: -inf\n",
            "[LightGBM] [Warning] No further splits with positive gain, best gain: -inf\n",
            "[LightGBM] [Warning] No further splits with positive gain, best gain: -inf\n",
            "[LightGBM] [Warning] No further splits with positive gain, best gain: -inf\n",
            "[LightGBM] [Warning] No further splits with positive gain, best gain: -inf\n",
            "[LightGBM] [Warning] No further splits with positive gain, best gain: -inf\n",
            "[LightGBM] [Warning] No further splits with positive gain, best gain: -inf\n",
            "[LightGBM] [Warning] No further splits with positive gain, best gain: -inf\n",
            "[LightGBM] [Warning] No further splits with positive gain, best gain: -inf\n",
            "[LightGBM] [Warning] No further splits with positive gain, best gain: -inf\n",
            "[LightGBM] [Warning] No further splits with positive gain, best gain: -inf\n",
            "[LightGBM] [Warning] No further splits with positive gain, best gain: -inf\n",
            "[LightGBM] [Warning] No further splits with positive gain, best gain: -inf\n",
            "[LightGBM] [Warning] No further splits with positive gain, best gain: -inf\n",
            "[LightGBM] [Warning] No further splits with positive gain, best gain: -inf\n",
            "[LightGBM] [Warning] No further splits with positive gain, best gain: -inf\n",
            "[LightGBM] [Warning] No further splits with positive gain, best gain: -inf\n",
            "[LightGBM] [Warning] No further splits with positive gain, best gain: -inf\n",
            "[LightGBM] [Warning] No further splits with positive gain, best gain: -inf\n",
            "[LightGBM] [Warning] No further splits with positive gain, best gain: -inf\n",
            "[LightGBM] [Warning] No further splits with positive gain, best gain: -inf\n",
            "[LightGBM] [Warning] No further splits with positive gain, best gain: -inf\n",
            "[LightGBM] [Warning] No further splits with positive gain, best gain: -inf\n",
            "[LightGBM] [Warning] No further splits with positive gain, best gain: -inf\n",
            "[LightGBM] [Warning] No further splits with positive gain, best gain: -inf\n",
            "[LightGBM] [Warning] No further splits with positive gain, best gain: -inf\n",
            "[LightGBM] [Warning] No further splits with positive gain, best gain: -inf\n",
            "[LightGBM] [Warning] No further splits with positive gain, best gain: -inf\n",
            "[LightGBM] [Warning] No further splits with positive gain, best gain: -inf\n",
            "[LightGBM] [Warning] No further splits with positive gain, best gain: -inf\n",
            "[LightGBM] [Warning] No further splits with positive gain, best gain: -inf\n",
            "[LightGBM] [Warning] No further splits with positive gain, best gain: -inf\n",
            "[LightGBM] [Warning] No further splits with positive gain, best gain: -inf\n",
            "[LightGBM] [Warning] No further splits with positive gain, best gain: -inf\n",
            "[LightGBM] [Warning] No further splits with positive gain, best gain: -inf\n",
            "[LightGBM] [Warning] No further splits with positive gain, best gain: -inf\n",
            "[LightGBM] [Warning] No further splits with positive gain, best gain: -inf\n",
            "[LightGBM] [Warning] No further splits with positive gain, best gain: -inf\n",
            "[LightGBM] [Warning] No further splits with positive gain, best gain: -inf\n",
            "[LightGBM] [Warning] No further splits with positive gain, best gain: -inf\n",
            "[LightGBM] [Warning] No further splits with positive gain, best gain: -inf\n",
            "[LightGBM] [Warning] No further splits with positive gain, best gain: -inf\n",
            "[LightGBM] [Warning] No further splits with positive gain, best gain: -inf\n",
            "[LightGBM] [Warning] No further splits with positive gain, best gain: -inf\n",
            "[LightGBM] [Warning] No further splits with positive gain, best gain: -inf\n",
            "[LightGBM] [Warning] No further splits with positive gain, best gain: -inf\n",
            "[LightGBM] [Warning] No further splits with positive gain, best gain: -inf\n",
            "[LightGBM] [Warning] No further splits with positive gain, best gain: -inf\n",
            "[LightGBM] [Warning] No further splits with positive gain, best gain: -inf\n",
            "[LightGBM] [Warning] No further splits with positive gain, best gain: -inf\n",
            "[LightGBM] [Warning] No further splits with positive gain, best gain: -inf\n",
            "[LightGBM] [Warning] No further splits with positive gain, best gain: -inf\n",
            "[LightGBM] [Warning] No further splits with positive gain, best gain: -inf\n",
            "[LightGBM] [Warning] No further splits with positive gain, best gain: -inf\n",
            "[LightGBM] [Warning] No further splits with positive gain, best gain: -inf\n",
            "[LightGBM] [Warning] No further splits with positive gain, best gain: -inf\n",
            "[LightGBM] [Warning] No further splits with positive gain, best gain: -inf\n",
            "[LightGBM] [Warning] No further splits with positive gain, best gain: -inf\n",
            "[LightGBM] [Warning] No further splits with positive gain, best gain: -inf\n",
            "[LightGBM] [Warning] No further splits with positive gain, best gain: -inf\n",
            "[LightGBM] [Warning] No further splits with positive gain, best gain: -inf\n",
            "[LightGBM] [Warning] No further splits with positive gain, best gain: -inf\n",
            "[LightGBM] [Warning] No further splits with positive gain, best gain: -inf\n",
            "[LightGBM] [Warning] No further splits with positive gain, best gain: -inf\n",
            "[LightGBM] [Warning] No further splits with positive gain, best gain: -inf\n",
            "[LightGBM] [Warning] No further splits with positive gain, best gain: -inf\n",
            "[LightGBM] [Warning] No further splits with positive gain, best gain: -inf\n",
            "[LightGBM] [Warning] No further splits with positive gain, best gain: -inf\n",
            "[LightGBM] [Warning] No further splits with positive gain, best gain: -inf\n",
            "[LightGBM] [Warning] No further splits with positive gain, best gain: -inf\n",
            "[LightGBM] [Warning] No further splits with positive gain, best gain: -inf\n",
            "[LightGBM] [Warning] No further splits with positive gain, best gain: -inf\n",
            "[LightGBM] [Warning] No further splits with positive gain, best gain: -inf\n",
            "[LightGBM] [Warning] No further splits with positive gain, best gain: -inf\n",
            "[LightGBM] [Warning] No further splits with positive gain, best gain: -inf\n",
            "[LightGBM] [Warning] No further splits with positive gain, best gain: -inf\n",
            "[LightGBM] [Warning] No further splits with positive gain, best gain: -inf\n",
            "[LightGBM] [Warning] No further splits with positive gain, best gain: -inf\n",
            "[LightGBM] [Warning] No further splits with positive gain, best gain: -inf\n",
            "[LightGBM] [Warning] No further splits with positive gain, best gain: -inf\n",
            "[LightGBM] [Warning] No further splits with positive gain, best gain: -inf\n",
            "[LightGBM] [Warning] No further splits with positive gain, best gain: -inf\n",
            "[LightGBM] [Warning] No further splits with positive gain, best gain: -inf\n",
            "[LightGBM] [Warning] No further splits with positive gain, best gain: -inf\n",
            "[LightGBM] [Warning] No further splits with positive gain, best gain: -inf\n",
            "[LightGBM] [Warning] No further splits with positive gain, best gain: -inf\n",
            "[LightGBM] [Warning] No further splits with positive gain, best gain: -inf\n",
            "[LightGBM] [Warning] No further splits with positive gain, best gain: -inf\n",
            "[LightGBM] [Warning] No further splits with positive gain, best gain: -inf\n",
            "[LightGBM] [Warning] No further splits with positive gain, best gain: -inf\n",
            "[LightGBM] [Warning] No further splits with positive gain, best gain: -inf\n",
            "[LightGBM] [Warning] No further splits with positive gain, best gain: -inf\n",
            "[LightGBM] [Warning] No further splits with positive gain, best gain: -inf\n",
            "[LightGBM] [Warning] No further splits with positive gain, best gain: -inf\n",
            "[LightGBM] [Warning] No further splits with positive gain, best gain: -inf\n",
            "[100]\ttraining's rmse: 12.9833\tvalid_1's rmse: 13.0271\n",
            "Did not meet early stopping. Best iteration is:\n",
            "[100]\ttraining's rmse: 12.9833\tvalid_1's rmse: 13.0271\n"
          ]
        },
        {
          "output_type": "stream",
          "name": "stderr",
          "text": [
            "[I 2025-04-28 11:50:14,644] Trial 0 finished with value: 13.02707380755647 and parameters: {'learning_rate': 0.21437595527651618, 'num_leaves': 115, 'max_depth': 5, 'min_child_samples': 90, 'subsample': 0.7872560973327729, 'colsample_bytree': 0.9351599583014394, 'reg_alpha': 4.577958664894791, 'reg_lambda': 1.283598152932216}. Best is trial 0 with value: 13.02707380755647.\n"
          ]
        },
        {
          "output_type": "stream",
          "name": "stdout",
          "text": [
            "[LightGBM] [Info] Auto-choosing col-wise multi-threading, the overhead of testing was 0.089797 seconds.\n",
            "You can set `force_col_wise=true` to remove the overhead.\n",
            "[LightGBM] [Info] Total Bins 950\n",
            "[LightGBM] [Info] Number of data points in the train set: 600000, number of used features: 10\n",
            "[LightGBM] [Info] Start training from score 45.447808\n",
            "[LightGBM] [Warning] No further splits with positive gain, best gain: -inf\n",
            "Training until validation scores don't improve for 50 rounds\n",
            "[LightGBM] [Warning] No further splits with positive gain, best gain: -inf\n",
            "[LightGBM] [Warning] No further splits with positive gain, best gain: -inf\n",
            "[LightGBM] [Warning] No further splits with positive gain, best gain: -inf\n",
            "[LightGBM] [Warning] No further splits with positive gain, best gain: -inf\n",
            "[LightGBM] [Warning] No further splits with positive gain, best gain: -inf\n",
            "[LightGBM] [Warning] No further splits with positive gain, best gain: -inf\n",
            "[LightGBM] [Warning] No further splits with positive gain, best gain: -inf\n",
            "[LightGBM] [Warning] No further splits with positive gain, best gain: -inf\n",
            "[LightGBM] [Warning] No further splits with positive gain, best gain: -inf\n",
            "[LightGBM] [Warning] No further splits with positive gain, best gain: -inf\n",
            "[LightGBM] [Warning] No further splits with positive gain, best gain: -inf\n",
            "[LightGBM] [Warning] No further splits with positive gain, best gain: -inf\n",
            "[LightGBM] [Warning] No further splits with positive gain, best gain: -inf\n",
            "[LightGBM] [Warning] No further splits with positive gain, best gain: -inf\n",
            "[LightGBM] [Warning] No further splits with positive gain, best gain: -inf\n",
            "[LightGBM] [Warning] No further splits with positive gain, best gain: -inf\n",
            "[LightGBM] [Warning] No further splits with positive gain, best gain: -inf\n",
            "[LightGBM] [Warning] No further splits with positive gain, best gain: -inf\n",
            "[LightGBM] [Warning] No further splits with positive gain, best gain: -inf\n",
            "[LightGBM] [Warning] No further splits with positive gain, best gain: -inf\n",
            "[LightGBM] [Warning] No further splits with positive gain, best gain: -inf\n",
            "[LightGBM] [Warning] No further splits with positive gain, best gain: -inf\n",
            "[LightGBM] [Warning] No further splits with positive gain, best gain: -inf\n",
            "[LightGBM] [Warning] No further splits with positive gain, best gain: -inf\n",
            "[LightGBM] [Warning] No further splits with positive gain, best gain: -inf\n",
            "[LightGBM] [Warning] No further splits with positive gain, best gain: -inf\n",
            "[LightGBM] [Warning] No further splits with positive gain, best gain: -inf\n",
            "[LightGBM] [Warning] No further splits with positive gain, best gain: -inf\n",
            "[LightGBM] [Warning] No further splits with positive gain, best gain: -inf\n",
            "[LightGBM] [Warning] No further splits with positive gain, best gain: -inf\n",
            "[LightGBM] [Warning] No further splits with positive gain, best gain: -inf\n",
            "[LightGBM] [Warning] No further splits with positive gain, best gain: -inf\n",
            "[LightGBM] [Warning] No further splits with positive gain, best gain: -inf\n",
            "[LightGBM] [Warning] No further splits with positive gain, best gain: -inf\n",
            "[LightGBM] [Warning] No further splits with positive gain, best gain: -inf\n",
            "[LightGBM] [Warning] No further splits with positive gain, best gain: -inf\n",
            "[LightGBM] [Warning] No further splits with positive gain, best gain: -inf\n",
            "[LightGBM] [Warning] No further splits with positive gain, best gain: -inf\n",
            "[LightGBM] [Warning] No further splits with positive gain, best gain: -inf\n",
            "[LightGBM] [Warning] No further splits with positive gain, best gain: -inf\n",
            "[LightGBM] [Warning] No further splits with positive gain, best gain: -inf\n",
            "[LightGBM] [Warning] No further splits with positive gain, best gain: -inf\n",
            "[LightGBM] [Warning] No further splits with positive gain, best gain: -inf\n",
            "[LightGBM] [Warning] No further splits with positive gain, best gain: -inf\n",
            "[LightGBM] [Warning] No further splits with positive gain, best gain: -inf\n",
            "[LightGBM] [Warning] No further splits with positive gain, best gain: -inf\n",
            "[LightGBM] [Warning] No further splits with positive gain, best gain: -inf\n",
            "[LightGBM] [Warning] No further splits with positive gain, best gain: -inf\n",
            "[LightGBM] [Warning] No further splits with positive gain, best gain: -inf\n",
            "[LightGBM] [Warning] No further splits with positive gain, best gain: -inf\n",
            "[LightGBM] [Warning] No further splits with positive gain, best gain: -inf\n",
            "[LightGBM] [Warning] No further splits with positive gain, best gain: -inf\n",
            "[LightGBM] [Warning] No further splits with positive gain, best gain: -inf\n",
            "[LightGBM] [Warning] No further splits with positive gain, best gain: -inf\n",
            "[LightGBM] [Warning] No further splits with positive gain, best gain: -inf\n",
            "[LightGBM] [Warning] No further splits with positive gain, best gain: -inf\n",
            "[LightGBM] [Warning] No further splits with positive gain, best gain: -inf\n",
            "[LightGBM] [Warning] No further splits with positive gain, best gain: -inf\n",
            "[LightGBM] [Warning] No further splits with positive gain, best gain: -inf\n",
            "[LightGBM] [Warning] No further splits with positive gain, best gain: -inf\n",
            "[LightGBM] [Warning] No further splits with positive gain, best gain: -inf\n",
            "[LightGBM] [Warning] No further splits with positive gain, best gain: -inf\n",
            "[LightGBM] [Warning] No further splits with positive gain, best gain: -inf\n",
            "[LightGBM] [Warning] No further splits with positive gain, best gain: -inf\n",
            "[LightGBM] [Warning] No further splits with positive gain, best gain: -inf\n",
            "[LightGBM] [Warning] No further splits with positive gain, best gain: -inf\n",
            "[LightGBM] [Warning] No further splits with positive gain, best gain: -inf\n",
            "[LightGBM] [Warning] No further splits with positive gain, best gain: -inf\n",
            "[LightGBM] [Warning] No further splits with positive gain, best gain: -inf\n",
            "[LightGBM] [Warning] No further splits with positive gain, best gain: -inf\n",
            "[LightGBM] [Warning] No further splits with positive gain, best gain: -inf\n",
            "[LightGBM] [Warning] No further splits with positive gain, best gain: -inf\n",
            "[LightGBM] [Warning] No further splits with positive gain, best gain: -inf\n",
            "[LightGBM] [Warning] No further splits with positive gain, best gain: -inf\n",
            "[LightGBM] [Warning] No further splits with positive gain, best gain: -inf\n",
            "[LightGBM] [Warning] No further splits with positive gain, best gain: -inf\n",
            "[LightGBM] [Warning] No further splits with positive gain, best gain: -inf\n",
            "[LightGBM] [Warning] No further splits with positive gain, best gain: -inf\n",
            "[LightGBM] [Warning] No further splits with positive gain, best gain: -inf\n",
            "[LightGBM] [Warning] No further splits with positive gain, best gain: -inf\n",
            "[LightGBM] [Warning] No further splits with positive gain, best gain: -inf\n",
            "[LightGBM] [Warning] No further splits with positive gain, best gain: -inf\n",
            "[LightGBM] [Warning] No further splits with positive gain, best gain: -inf\n",
            "[LightGBM] [Warning] No further splits with positive gain, best gain: -inf\n",
            "[LightGBM] [Warning] No further splits with positive gain, best gain: -inf\n",
            "[LightGBM] [Warning] No further splits with positive gain, best gain: -inf\n",
            "[LightGBM] [Warning] No further splits with positive gain, best gain: -inf\n",
            "[LightGBM] [Warning] No further splits with positive gain, best gain: -inf\n",
            "[LightGBM] [Warning] No further splits with positive gain, best gain: -inf\n",
            "[LightGBM] [Warning] No further splits with positive gain, best gain: -inf\n",
            "[LightGBM] [Warning] No further splits with positive gain, best gain: -inf\n",
            "[LightGBM] [Warning] No further splits with positive gain, best gain: -inf\n",
            "[LightGBM] [Warning] No further splits with positive gain, best gain: -inf\n",
            "[LightGBM] [Warning] No further splits with positive gain, best gain: -inf\n",
            "[LightGBM] [Warning] No further splits with positive gain, best gain: -inf\n",
            "[LightGBM] [Warning] No further splits with positive gain, best gain: -inf\n",
            "[LightGBM] [Warning] No further splits with positive gain, best gain: -inf\n",
            "[LightGBM] [Warning] No further splits with positive gain, best gain: -inf\n",
            "[LightGBM] [Warning] No further splits with positive gain, best gain: -inf\n",
            "[100]\ttraining's rmse: 12.7064\tvalid_1's rmse: 12.966\n",
            "Did not meet early stopping. Best iteration is:\n",
            "[100]\ttraining's rmse: 12.7064\tvalid_1's rmse: 12.966\n"
          ]
        },
        {
          "output_type": "stream",
          "name": "stderr",
          "text": [
            "[I 2025-04-28 11:50:23,343] Trial 1 finished with value: 12.965954607623807 and parameters: {'learning_rate': 0.21009614020589215, 'num_leaves': 129, 'max_depth': 7, 'min_child_samples': 95, 'subsample': 0.5379205054311671, 'colsample_bytree': 0.966669862184876, 'reg_alpha': 0.884525005980093, 'reg_lambda': 4.571429545326124}. Best is trial 1 with value: 12.965954607623807.\n"
          ]
        },
        {
          "output_type": "stream",
          "name": "stdout",
          "text": [
            "[LightGBM] [Info] Auto-choosing row-wise multi-threading, the overhead of testing was 0.015407 seconds.\n",
            "You can set `force_row_wise=true` to remove the overhead.\n",
            "And if memory is not enough, you can set `force_col_wise=true`.\n",
            "[LightGBM] [Info] Total Bins 950\n",
            "[LightGBM] [Info] Number of data points in the train set: 600000, number of used features: 10\n",
            "[LightGBM] [Info] Start training from score 45.447808\n",
            "[LightGBM] [Warning] No further splits with positive gain, best gain: -inf\n",
            "Training until validation scores don't improve for 50 rounds\n",
            "[LightGBM] [Warning] No further splits with positive gain, best gain: -inf\n",
            "[LightGBM] [Warning] No further splits with positive gain, best gain: -inf\n",
            "[LightGBM] [Warning] No further splits with positive gain, best gain: -inf\n",
            "[LightGBM] [Warning] No further splits with positive gain, best gain: -inf\n",
            "[LightGBM] [Warning] No further splits with positive gain, best gain: -inf\n",
            "[LightGBM] [Warning] No further splits with positive gain, best gain: -inf\n",
            "[LightGBM] [Warning] No further splits with positive gain, best gain: -inf\n",
            "[LightGBM] [Warning] No further splits with positive gain, best gain: -inf\n",
            "[LightGBM] [Warning] No further splits with positive gain, best gain: -inf\n",
            "[LightGBM] [Warning] No further splits with positive gain, best gain: -inf\n",
            "[LightGBM] [Warning] No further splits with positive gain, best gain: -inf\n",
            "[LightGBM] [Warning] No further splits with positive gain, best gain: -inf\n",
            "[LightGBM] [Warning] No further splits with positive gain, best gain: -inf\n",
            "[LightGBM] [Warning] No further splits with positive gain, best gain: -inf\n",
            "[LightGBM] [Warning] No further splits with positive gain, best gain: -inf\n",
            "[LightGBM] [Warning] No further splits with positive gain, best gain: -inf\n",
            "[LightGBM] [Warning] No further splits with positive gain, best gain: -inf\n",
            "[LightGBM] [Warning] No further splits with positive gain, best gain: -inf\n",
            "[LightGBM] [Warning] No further splits with positive gain, best gain: -inf\n",
            "[LightGBM] [Warning] No further splits with positive gain, best gain: -inf\n",
            "[LightGBM] [Warning] No further splits with positive gain, best gain: -inf\n",
            "[LightGBM] [Warning] No further splits with positive gain, best gain: -inf\n",
            "[LightGBM] [Warning] No further splits with positive gain, best gain: -inf\n",
            "[LightGBM] [Warning] No further splits with positive gain, best gain: -inf\n",
            "[LightGBM] [Warning] No further splits with positive gain, best gain: -inf\n",
            "[LightGBM] [Warning] No further splits with positive gain, best gain: -inf\n",
            "[LightGBM] [Warning] No further splits with positive gain, best gain: -inf\n",
            "[LightGBM] [Warning] No further splits with positive gain, best gain: -inf\n",
            "[LightGBM] [Warning] No further splits with positive gain, best gain: -inf\n",
            "[LightGBM] [Warning] No further splits with positive gain, best gain: -inf\n",
            "[LightGBM] [Warning] No further splits with positive gain, best gain: -inf\n",
            "[LightGBM] [Warning] No further splits with positive gain, best gain: -inf\n",
            "[LightGBM] [Warning] No further splits with positive gain, best gain: -inf\n",
            "[LightGBM] [Warning] No further splits with positive gain, best gain: -inf\n",
            "[LightGBM] [Warning] No further splits with positive gain, best gain: -inf\n",
            "[LightGBM] [Warning] No further splits with positive gain, best gain: -inf\n",
            "[LightGBM] [Warning] No further splits with positive gain, best gain: -inf\n",
            "[LightGBM] [Warning] No further splits with positive gain, best gain: -inf\n",
            "[LightGBM] [Warning] No further splits with positive gain, best gain: -inf\n",
            "[LightGBM] [Warning] No further splits with positive gain, best gain: -inf\n",
            "[LightGBM] [Warning] No further splits with positive gain, best gain: -inf\n",
            "[LightGBM] [Warning] No further splits with positive gain, best gain: -inf\n",
            "[LightGBM] [Warning] No further splits with positive gain, best gain: -inf\n",
            "[LightGBM] [Warning] No further splits with positive gain, best gain: -inf\n",
            "[LightGBM] [Warning] No further splits with positive gain, best gain: -inf\n",
            "[LightGBM] [Warning] No further splits with positive gain, best gain: -inf\n",
            "[LightGBM] [Warning] No further splits with positive gain, best gain: -inf\n",
            "[LightGBM] [Warning] No further splits with positive gain, best gain: -inf\n",
            "[LightGBM] [Warning] No further splits with positive gain, best gain: -inf\n",
            "[LightGBM] [Warning] No further splits with positive gain, best gain: -inf\n",
            "[LightGBM] [Warning] No further splits with positive gain, best gain: -inf\n",
            "[LightGBM] [Warning] No further splits with positive gain, best gain: -inf\n",
            "[LightGBM] [Warning] No further splits with positive gain, best gain: -inf\n",
            "[LightGBM] [Warning] No further splits with positive gain, best gain: -inf\n",
            "[LightGBM] [Warning] No further splits with positive gain, best gain: -inf\n",
            "[LightGBM] [Warning] No further splits with positive gain, best gain: -inf\n",
            "[LightGBM] [Warning] No further splits with positive gain, best gain: -inf\n",
            "[LightGBM] [Warning] No further splits with positive gain, best gain: -inf\n",
            "[LightGBM] [Warning] No further splits with positive gain, best gain: -inf\n",
            "[LightGBM] [Warning] No further splits with positive gain, best gain: -inf\n",
            "[LightGBM] [Warning] No further splits with positive gain, best gain: -inf\n",
            "[LightGBM] [Warning] No further splits with positive gain, best gain: -inf\n",
            "[LightGBM] [Warning] No further splits with positive gain, best gain: -inf\n",
            "[LightGBM] [Warning] No further splits with positive gain, best gain: -inf\n",
            "[LightGBM] [Warning] No further splits with positive gain, best gain: -inf\n",
            "[LightGBM] [Warning] No further splits with positive gain, best gain: -inf\n",
            "[LightGBM] [Warning] No further splits with positive gain, best gain: -inf\n",
            "[LightGBM] [Warning] No further splits with positive gain, best gain: -inf\n",
            "[LightGBM] [Warning] No further splits with positive gain, best gain: -inf\n",
            "[LightGBM] [Warning] No further splits with positive gain, best gain: -inf\n",
            "[LightGBM] [Warning] No further splits with positive gain, best gain: -inf\n",
            "[LightGBM] [Warning] No further splits with positive gain, best gain: -inf\n",
            "[LightGBM] [Warning] No further splits with positive gain, best gain: -inf\n",
            "[LightGBM] [Warning] No further splits with positive gain, best gain: -inf\n",
            "[LightGBM] [Warning] No further splits with positive gain, best gain: -inf\n",
            "[LightGBM] [Warning] No further splits with positive gain, best gain: -inf\n",
            "[LightGBM] [Warning] No further splits with positive gain, best gain: -inf\n",
            "[LightGBM] [Warning] No further splits with positive gain, best gain: -inf\n",
            "[LightGBM] [Warning] No further splits with positive gain, best gain: -inf\n",
            "[LightGBM] [Warning] No further splits with positive gain, best gain: -inf\n",
            "[LightGBM] [Warning] No further splits with positive gain, best gain: -inf\n",
            "[LightGBM] [Warning] No further splits with positive gain, best gain: -inf\n",
            "[LightGBM] [Warning] No further splits with positive gain, best gain: -inf\n",
            "[LightGBM] [Warning] No further splits with positive gain, best gain: -inf\n",
            "[LightGBM] [Warning] No further splits with positive gain, best gain: -inf\n",
            "[LightGBM] [Warning] No further splits with positive gain, best gain: -inf\n",
            "[LightGBM] [Warning] No further splits with positive gain, best gain: -inf\n",
            "[LightGBM] [Warning] No further splits with positive gain, best gain: -inf\n",
            "[LightGBM] [Warning] No further splits with positive gain, best gain: -inf\n",
            "[LightGBM] [Warning] No further splits with positive gain, best gain: -inf\n",
            "[LightGBM] [Warning] No further splits with positive gain, best gain: -inf\n",
            "[LightGBM] [Warning] No further splits with positive gain, best gain: -inf\n",
            "[LightGBM] [Warning] No further splits with positive gain, best gain: -inf\n",
            "[LightGBM] [Warning] No further splits with positive gain, best gain: -inf\n",
            "[LightGBM] [Warning] No further splits with positive gain, best gain: -inf\n",
            "[LightGBM] [Warning] No further splits with positive gain, best gain: -inf\n",
            "[LightGBM] [Warning] No further splits with positive gain, best gain: -inf\n",
            "[LightGBM] [Warning] No further splits with positive gain, best gain: -inf\n",
            "[LightGBM] [Warning] No further splits with positive gain, best gain: -inf\n",
            "[100]\ttraining's rmse: 12.675\tvalid_1's rmse: 12.968\n",
            "Did not meet early stopping. Best iteration is:\n",
            "[100]\ttraining's rmse: 12.675\tvalid_1's rmse: 12.968\n"
          ]
        },
        {
          "output_type": "stream",
          "name": "stderr",
          "text": [
            "[I 2025-04-28 11:50:32,945] Trial 2 finished with value: 12.968049443963585 and parameters: {'learning_rate': 0.21791141556330565, 'num_leaves': 294, 'max_depth': 7, 'min_child_samples': 69, 'subsample': 0.5546731934457912, 'colsample_bytree': 0.9965252174428437, 'reg_alpha': 3.333980571617308, 'reg_lambda': 4.074732602866523}. Best is trial 1 with value: 12.965954607623807.\n"
          ]
        },
        {
          "output_type": "stream",
          "name": "stdout",
          "text": [
            "[LightGBM] [Info] Auto-choosing col-wise multi-threading, the overhead of testing was 0.164487 seconds.\n",
            "You can set `force_col_wise=true` to remove the overhead.\n",
            "[LightGBM] [Info] Total Bins 950\n",
            "[LightGBM] [Info] Number of data points in the train set: 600000, number of used features: 10\n",
            "[LightGBM] [Info] Start training from score 45.447808\n",
            "Training until validation scores don't improve for 50 rounds\n",
            "[100]\ttraining's rmse: 12.9626\tvalid_1's rmse: 13.0329\n",
            "Did not meet early stopping. Best iteration is:\n",
            "[100]\ttraining's rmse: 12.9626\tvalid_1's rmse: 13.0329\n"
          ]
        },
        {
          "output_type": "stream",
          "name": "stderr",
          "text": [
            "[I 2025-04-28 11:50:50,115] Trial 3 finished with value: 13.03293699360645 and parameters: {'learning_rate': 0.14341167521908957, 'num_leaves': 34, 'max_depth': 11, 'min_child_samples': 89, 'subsample': 0.7551778934811704, 'colsample_bytree': 0.8881523567408356, 'reg_alpha': 4.852979567736541, 'reg_lambda': 3.4497256004811723}. Best is trial 1 with value: 12.965954607623807.\n"
          ]
        },
        {
          "output_type": "stream",
          "name": "stdout",
          "text": [
            "[LightGBM] [Info] Auto-choosing row-wise multi-threading, the overhead of testing was 0.014860 seconds.\n",
            "You can set `force_row_wise=true` to remove the overhead.\n",
            "And if memory is not enough, you can set `force_col_wise=true`.\n",
            "[LightGBM] [Info] Total Bins 950\n",
            "[LightGBM] [Info] Number of data points in the train set: 600000, number of used features: 10\n",
            "[LightGBM] [Info] Start training from score 45.447808\n",
            "Training until validation scores don't improve for 50 rounds\n",
            "[100]\ttraining's rmse: 14.1688\tvalid_1's rmse: 14.224\n",
            "Did not meet early stopping. Best iteration is:\n",
            "[100]\ttraining's rmse: 14.1688\tvalid_1's rmse: 14.224\n"
          ]
        },
        {
          "output_type": "stream",
          "name": "stderr",
          "text": [
            "[I 2025-04-28 11:51:02,390] Trial 4 finished with value: 14.223998185765819 and parameters: {'learning_rate': 0.018493656903882584, 'num_leaves': 267, 'max_depth': 11, 'min_child_samples': 36, 'subsample': 0.5016653142678283, 'colsample_bytree': 0.8190343481135595, 'reg_alpha': 3.225178635162788, 'reg_lambda': 0.09400878673079927}. Best is trial 1 with value: 12.965954607623807.\n"
          ]
        },
        {
          "output_type": "stream",
          "name": "stdout",
          "text": [
            "[LightGBM] [Info] Auto-choosing col-wise multi-threading, the overhead of testing was 0.047957 seconds.\n",
            "You can set `force_col_wise=true` to remove the overhead.\n",
            "[LightGBM] [Info] Total Bins 950\n",
            "[LightGBM] [Info] Number of data points in the train set: 600000, number of used features: 10\n",
            "[LightGBM] [Info] Start training from score 45.447808\n",
            "[LightGBM] [Warning] No further splits with positive gain, best gain: -inf\n",
            "Training until validation scores don't improve for 50 rounds\n",
            "[LightGBM] [Warning] No further splits with positive gain, best gain: -inf\n",
            "[LightGBM] [Warning] No further splits with positive gain, best gain: -inf\n",
            "[LightGBM] [Warning] No further splits with positive gain, best gain: -inf\n",
            "[LightGBM] [Warning] No further splits with positive gain, best gain: -inf\n",
            "[LightGBM] [Warning] No further splits with positive gain, best gain: -inf\n",
            "[LightGBM] [Warning] No further splits with positive gain, best gain: -inf\n",
            "[LightGBM] [Warning] No further splits with positive gain, best gain: -inf\n",
            "[LightGBM] [Warning] No further splits with positive gain, best gain: -inf\n",
            "[LightGBM] [Warning] No further splits with positive gain, best gain: -inf\n",
            "[LightGBM] [Warning] No further splits with positive gain, best gain: -inf\n",
            "[LightGBM] [Warning] No further splits with positive gain, best gain: -inf\n",
            "[LightGBM] [Warning] No further splits with positive gain, best gain: -inf\n",
            "[LightGBM] [Warning] No further splits with positive gain, best gain: -inf\n",
            "[LightGBM] [Warning] No further splits with positive gain, best gain: -inf\n",
            "[LightGBM] [Warning] No further splits with positive gain, best gain: -inf\n",
            "[LightGBM] [Warning] No further splits with positive gain, best gain: -inf\n",
            "[LightGBM] [Warning] No further splits with positive gain, best gain: -inf\n",
            "[LightGBM] [Warning] No further splits with positive gain, best gain: -inf\n",
            "[LightGBM] [Warning] No further splits with positive gain, best gain: -inf\n",
            "[LightGBM] [Warning] No further splits with positive gain, best gain: -inf\n",
            "[LightGBM] [Warning] No further splits with positive gain, best gain: -inf\n",
            "[LightGBM] [Warning] No further splits with positive gain, best gain: -inf\n",
            "[LightGBM] [Warning] No further splits with positive gain, best gain: -inf\n",
            "[LightGBM] [Warning] No further splits with positive gain, best gain: -inf\n",
            "[LightGBM] [Warning] No further splits with positive gain, best gain: -inf\n",
            "[LightGBM] [Warning] No further splits with positive gain, best gain: -inf\n",
            "[LightGBM] [Warning] No further splits with positive gain, best gain: -inf\n",
            "[LightGBM] [Warning] No further splits with positive gain, best gain: -inf\n",
            "[LightGBM] [Warning] No further splits with positive gain, best gain: -inf\n",
            "[LightGBM] [Warning] No further splits with positive gain, best gain: -inf\n",
            "[LightGBM] [Warning] No further splits with positive gain, best gain: -inf\n",
            "[LightGBM] [Warning] No further splits with positive gain, best gain: -inf\n",
            "[LightGBM] [Warning] No further splits with positive gain, best gain: -inf\n",
            "[LightGBM] [Warning] No further splits with positive gain, best gain: -inf\n",
            "[LightGBM] [Warning] No further splits with positive gain, best gain: -inf\n",
            "[LightGBM] [Warning] No further splits with positive gain, best gain: -inf\n",
            "[LightGBM] [Warning] No further splits with positive gain, best gain: -inf\n",
            "[LightGBM] [Warning] No further splits with positive gain, best gain: -inf\n",
            "[LightGBM] [Warning] No further splits with positive gain, best gain: -inf\n",
            "[LightGBM] [Warning] No further splits with positive gain, best gain: -inf\n",
            "[LightGBM] [Warning] No further splits with positive gain, best gain: -inf\n",
            "[LightGBM] [Warning] No further splits with positive gain, best gain: -inf\n",
            "[LightGBM] [Warning] No further splits with positive gain, best gain: -inf\n",
            "[LightGBM] [Warning] No further splits with positive gain, best gain: -inf\n",
            "[LightGBM] [Warning] No further splits with positive gain, best gain: -inf\n",
            "[LightGBM] [Warning] No further splits with positive gain, best gain: -inf\n",
            "[LightGBM] [Warning] No further splits with positive gain, best gain: -inf\n",
            "[LightGBM] [Warning] No further splits with positive gain, best gain: -inf\n",
            "[LightGBM] [Warning] No further splits with positive gain, best gain: -inf\n",
            "[LightGBM] [Warning] No further splits with positive gain, best gain: -inf\n",
            "[LightGBM] [Warning] No further splits with positive gain, best gain: -inf\n",
            "[LightGBM] [Warning] No further splits with positive gain, best gain: -inf\n",
            "[LightGBM] [Warning] No further splits with positive gain, best gain: -inf\n",
            "[LightGBM] [Warning] No further splits with positive gain, best gain: -inf\n",
            "[LightGBM] [Warning] No further splits with positive gain, best gain: -inf\n",
            "[LightGBM] [Warning] No further splits with positive gain, best gain: -inf\n",
            "[LightGBM] [Warning] No further splits with positive gain, best gain: -inf\n",
            "[LightGBM] [Warning] No further splits with positive gain, best gain: -inf\n",
            "[LightGBM] [Warning] No further splits with positive gain, best gain: -inf\n",
            "[LightGBM] [Warning] No further splits with positive gain, best gain: -inf\n",
            "[LightGBM] [Warning] No further splits with positive gain, best gain: -inf\n",
            "[LightGBM] [Warning] No further splits with positive gain, best gain: -inf\n",
            "[LightGBM] [Warning] No further splits with positive gain, best gain: -inf\n",
            "[LightGBM] [Warning] No further splits with positive gain, best gain: -inf\n",
            "[LightGBM] [Warning] No further splits with positive gain, best gain: -inf\n",
            "[LightGBM] [Warning] No further splits with positive gain, best gain: -inf\n",
            "[LightGBM] [Warning] No further splits with positive gain, best gain: -inf\n",
            "[LightGBM] [Warning] No further splits with positive gain, best gain: -inf\n",
            "[LightGBM] [Warning] No further splits with positive gain, best gain: -inf\n",
            "[LightGBM] [Warning] No further splits with positive gain, best gain: -inf\n",
            "[LightGBM] [Warning] No further splits with positive gain, best gain: -inf\n",
            "[LightGBM] [Warning] No further splits with positive gain, best gain: -inf\n",
            "[LightGBM] [Warning] No further splits with positive gain, best gain: -inf\n",
            "[LightGBM] [Warning] No further splits with positive gain, best gain: -inf\n",
            "[LightGBM] [Warning] No further splits with positive gain, best gain: -inf\n",
            "[LightGBM] [Warning] No further splits with positive gain, best gain: -inf\n",
            "[LightGBM] [Warning] No further splits with positive gain, best gain: -inf\n",
            "[LightGBM] [Warning] No further splits with positive gain, best gain: -inf\n",
            "[LightGBM] [Warning] No further splits with positive gain, best gain: -inf\n",
            "[LightGBM] [Warning] No further splits with positive gain, best gain: -inf\n",
            "[LightGBM] [Warning] No further splits with positive gain, best gain: -inf\n",
            "[LightGBM] [Warning] No further splits with positive gain, best gain: -inf\n",
            "[LightGBM] [Warning] No further splits with positive gain, best gain: -inf\n",
            "[LightGBM] [Warning] No further splits with positive gain, best gain: -inf\n",
            "[LightGBM] [Warning] No further splits with positive gain, best gain: -inf\n",
            "[LightGBM] [Warning] No further splits with positive gain, best gain: -inf\n",
            "[LightGBM] [Warning] No further splits with positive gain, best gain: -inf\n",
            "[LightGBM] [Warning] No further splits with positive gain, best gain: -inf\n",
            "[LightGBM] [Warning] No further splits with positive gain, best gain: -inf\n",
            "[LightGBM] [Warning] No further splits with positive gain, best gain: -inf\n",
            "[LightGBM] [Warning] No further splits with positive gain, best gain: -inf\n",
            "[LightGBM] [Warning] No further splits with positive gain, best gain: -inf\n",
            "[LightGBM] [Warning] No further splits with positive gain, best gain: -inf\n",
            "[LightGBM] [Warning] No further splits with positive gain, best gain: -inf\n",
            "[LightGBM] [Warning] No further splits with positive gain, best gain: -inf\n",
            "[LightGBM] [Warning] No further splits with positive gain, best gain: -inf\n",
            "[LightGBM] [Warning] No further splits with positive gain, best gain: -inf\n",
            "[LightGBM] [Warning] No further splits with positive gain, best gain: -inf\n",
            "[LightGBM] [Warning] No further splits with positive gain, best gain: -inf\n",
            "[100]\ttraining's rmse: 13.1758\tvalid_1's rmse: 13.133\n",
            "Did not meet early stopping. Best iteration is:\n",
            "[100]\ttraining's rmse: 13.1758\tvalid_1's rmse: 13.133\n"
          ]
        },
        {
          "output_type": "stream",
          "name": "stderr",
          "text": [
            "[I 2025-04-28 11:51:05,783] Trial 5 finished with value: 13.13300055516255 and parameters: {'learning_rate': 0.1707730813474188, 'num_leaves': 294, 'max_depth': 3, 'min_child_samples': 49, 'subsample': 0.641193849916184, 'colsample_bytree': 0.6032289704974996, 'reg_alpha': 4.541509473231703, 'reg_lambda': 4.14251587243584}. Best is trial 1 with value: 12.965954607623807.\n"
          ]
        },
        {
          "output_type": "stream",
          "name": "stdout",
          "text": [
            "[LightGBM] [Info] Auto-choosing col-wise multi-threading, the overhead of testing was 0.049272 seconds.\n",
            "You can set `force_col_wise=true` to remove the overhead.\n",
            "[LightGBM] [Info] Total Bins 950\n",
            "[LightGBM] [Info] Number of data points in the train set: 600000, number of used features: 10\n",
            "[LightGBM] [Info] Start training from score 45.447808\n",
            "Training until validation scores don't improve for 50 rounds\n",
            "[100]\ttraining's rmse: 12.6052\tvalid_1's rmse: 12.9537\n",
            "Did not meet early stopping. Best iteration is:\n",
            "[100]\ttraining's rmse: 12.6052\tvalid_1's rmse: 12.9537\n"
          ]
        },
        {
          "output_type": "stream",
          "name": "stderr",
          "text": [
            "[I 2025-04-28 11:51:15,609] Trial 6 finished with value: 12.95366065150256 and parameters: {'learning_rate': 0.08822537764822405, 'num_leaves': 229, 'max_depth': 15, 'min_child_samples': 54, 'subsample': 0.7891083418104303, 'colsample_bytree': 0.6550368775547768, 'reg_alpha': 1.5061919727124158, 'reg_lambda': 3.3902816088915078}. Best is trial 6 with value: 12.95366065150256.\n"
          ]
        },
        {
          "output_type": "stream",
          "name": "stdout",
          "text": [
            "[LightGBM] [Info] Auto-choosing row-wise multi-threading, the overhead of testing was 0.014748 seconds.\n",
            "You can set `force_row_wise=true` to remove the overhead.\n",
            "And if memory is not enough, you can set `force_col_wise=true`.\n",
            "[LightGBM] [Info] Total Bins 950\n",
            "[LightGBM] [Info] Number of data points in the train set: 600000, number of used features: 10\n",
            "[LightGBM] [Info] Start training from score 45.447808\n",
            "Training until validation scores don't improve for 50 rounds\n",
            "[100]\ttraining's rmse: 12.5937\tvalid_1's rmse: 12.9481\n",
            "Did not meet early stopping. Best iteration is:\n",
            "[100]\ttraining's rmse: 12.5937\tvalid_1's rmse: 12.9481\n"
          ]
        },
        {
          "output_type": "stream",
          "name": "stderr",
          "text": [
            "[I 2025-04-28 11:51:25,661] Trial 7 finished with value: 12.948083219180267 and parameters: {'learning_rate': 0.08715643860990809, 'num_leaves': 208, 'max_depth': 15, 'min_child_samples': 94, 'subsample': 0.8806567582606342, 'colsample_bytree': 0.8656581267168588, 'reg_alpha': 3.2264860225806977, 'reg_lambda': 2.760784484252839}. Best is trial 7 with value: 12.948083219180267.\n"
          ]
        },
        {
          "output_type": "stream",
          "name": "stdout",
          "text": [
            "[LightGBM] [Info] Auto-choosing col-wise multi-threading, the overhead of testing was 0.048035 seconds.\n",
            "You can set `force_col_wise=true` to remove the overhead.\n",
            "[LightGBM] [Info] Total Bins 950\n",
            "[LightGBM] [Info] Number of data points in the train set: 600000, number of used features: 10\n",
            "[LightGBM] [Info] Start training from score 45.447808\n",
            "[LightGBM] [Warning] No further splits with positive gain, best gain: -inf\n",
            "Training until validation scores don't improve for 50 rounds\n",
            "[LightGBM] [Warning] No further splits with positive gain, best gain: -inf\n",
            "[LightGBM] [Warning] No further splits with positive gain, best gain: -inf\n",
            "[LightGBM] [Warning] No further splits with positive gain, best gain: -inf\n",
            "[LightGBM] [Warning] No further splits with positive gain, best gain: -inf\n",
            "[LightGBM] [Warning] No further splits with positive gain, best gain: -inf\n",
            "[LightGBM] [Warning] No further splits with positive gain, best gain: -inf\n",
            "[LightGBM] [Warning] No further splits with positive gain, best gain: -inf\n",
            "[LightGBM] [Warning] No further splits with positive gain, best gain: -inf\n",
            "[LightGBM] [Warning] No further splits with positive gain, best gain: -inf\n",
            "[LightGBM] [Warning] No further splits with positive gain, best gain: -inf\n",
            "[LightGBM] [Warning] No further splits with positive gain, best gain: -inf\n",
            "[LightGBM] [Warning] No further splits with positive gain, best gain: -inf\n",
            "[LightGBM] [Warning] No further splits with positive gain, best gain: -inf\n",
            "[LightGBM] [Warning] No further splits with positive gain, best gain: -inf\n",
            "[LightGBM] [Warning] No further splits with positive gain, best gain: -inf\n",
            "[LightGBM] [Warning] No further splits with positive gain, best gain: -inf\n",
            "[LightGBM] [Warning] No further splits with positive gain, best gain: -inf\n",
            "[LightGBM] [Warning] No further splits with positive gain, best gain: -inf\n",
            "[LightGBM] [Warning] No further splits with positive gain, best gain: -inf\n",
            "[LightGBM] [Warning] No further splits with positive gain, best gain: -inf\n",
            "[LightGBM] [Warning] No further splits with positive gain, best gain: -inf\n",
            "[LightGBM] [Warning] No further splits with positive gain, best gain: -inf\n",
            "[LightGBM] [Warning] No further splits with positive gain, best gain: -inf\n",
            "[LightGBM] [Warning] No further splits with positive gain, best gain: -inf\n",
            "[LightGBM] [Warning] No further splits with positive gain, best gain: -inf\n",
            "[LightGBM] [Warning] No further splits with positive gain, best gain: -inf\n",
            "[LightGBM] [Warning] No further splits with positive gain, best gain: -inf\n",
            "[LightGBM] [Warning] No further splits with positive gain, best gain: -inf\n",
            "[LightGBM] [Warning] No further splits with positive gain, best gain: -inf\n",
            "[LightGBM] [Warning] No further splits with positive gain, best gain: -inf\n",
            "[LightGBM] [Warning] No further splits with positive gain, best gain: -inf\n",
            "[LightGBM] [Warning] No further splits with positive gain, best gain: -inf\n",
            "[LightGBM] [Warning] No further splits with positive gain, best gain: -inf\n",
            "[LightGBM] [Warning] No further splits with positive gain, best gain: -inf\n",
            "[LightGBM] [Warning] No further splits with positive gain, best gain: -inf\n",
            "[LightGBM] [Warning] No further splits with positive gain, best gain: -inf\n",
            "[LightGBM] [Warning] No further splits with positive gain, best gain: -inf\n",
            "[LightGBM] [Warning] No further splits with positive gain, best gain: -inf\n",
            "[LightGBM] [Warning] No further splits with positive gain, best gain: -inf\n",
            "[LightGBM] [Warning] No further splits with positive gain, best gain: -inf\n",
            "[LightGBM] [Warning] No further splits with positive gain, best gain: -inf\n",
            "[LightGBM] [Warning] No further splits with positive gain, best gain: -inf\n",
            "[LightGBM] [Warning] No further splits with positive gain, best gain: -inf\n",
            "[LightGBM] [Warning] No further splits with positive gain, best gain: -inf\n",
            "[LightGBM] [Warning] No further splits with positive gain, best gain: -inf\n",
            "[LightGBM] [Warning] No further splits with positive gain, best gain: -inf\n",
            "[LightGBM] [Warning] No further splits with positive gain, best gain: -inf\n",
            "[LightGBM] [Warning] No further splits with positive gain, best gain: -inf\n",
            "[LightGBM] [Warning] No further splits with positive gain, best gain: -inf\n",
            "[LightGBM] [Warning] No further splits with positive gain, best gain: -inf\n",
            "[LightGBM] [Warning] No further splits with positive gain, best gain: -inf\n",
            "[LightGBM] [Warning] No further splits with positive gain, best gain: -inf\n",
            "[LightGBM] [Warning] No further splits with positive gain, best gain: -inf\n",
            "[LightGBM] [Warning] No further splits with positive gain, best gain: -inf\n",
            "[LightGBM] [Warning] No further splits with positive gain, best gain: -inf\n",
            "[LightGBM] [Warning] No further splits with positive gain, best gain: -inf\n",
            "[LightGBM] [Warning] No further splits with positive gain, best gain: -inf\n",
            "[LightGBM] [Warning] No further splits with positive gain, best gain: -inf\n",
            "[LightGBM] [Warning] No further splits with positive gain, best gain: -inf\n",
            "[LightGBM] [Warning] No further splits with positive gain, best gain: -inf\n",
            "[LightGBM] [Warning] No further splits with positive gain, best gain: -inf\n",
            "[LightGBM] [Warning] No further splits with positive gain, best gain: -inf\n",
            "[LightGBM] [Warning] No further splits with positive gain, best gain: -inf\n",
            "[LightGBM] [Warning] No further splits with positive gain, best gain: -inf\n",
            "[LightGBM] [Warning] No further splits with positive gain, best gain: -inf\n",
            "[LightGBM] [Warning] No further splits with positive gain, best gain: -inf\n",
            "[LightGBM] [Warning] No further splits with positive gain, best gain: -inf\n",
            "[LightGBM] [Warning] No further splits with positive gain, best gain: -inf\n",
            "[LightGBM] [Warning] No further splits with positive gain, best gain: -inf\n",
            "[LightGBM] [Warning] No further splits with positive gain, best gain: -inf\n",
            "[LightGBM] [Warning] No further splits with positive gain, best gain: -inf\n",
            "[LightGBM] [Warning] No further splits with positive gain, best gain: -inf\n",
            "[LightGBM] [Warning] No further splits with positive gain, best gain: -inf\n",
            "[LightGBM] [Warning] No further splits with positive gain, best gain: -inf\n",
            "[LightGBM] [Warning] No further splits with positive gain, best gain: -inf\n",
            "[LightGBM] [Warning] No further splits with positive gain, best gain: -inf\n",
            "[LightGBM] [Warning] No further splits with positive gain, best gain: -inf\n",
            "[LightGBM] [Warning] No further splits with positive gain, best gain: -inf\n",
            "[LightGBM] [Warning] No further splits with positive gain, best gain: -inf\n",
            "[LightGBM] [Warning] No further splits with positive gain, best gain: -inf\n",
            "[LightGBM] [Warning] No further splits with positive gain, best gain: -inf\n",
            "[LightGBM] [Warning] No further splits with positive gain, best gain: -inf\n",
            "[LightGBM] [Warning] No further splits with positive gain, best gain: -inf\n",
            "[LightGBM] [Warning] No further splits with positive gain, best gain: -inf\n",
            "[LightGBM] [Warning] No further splits with positive gain, best gain: -inf\n",
            "[LightGBM] [Warning] No further splits with positive gain, best gain: -inf\n",
            "[LightGBM] [Warning] No further splits with positive gain, best gain: -inf\n",
            "[LightGBM] [Warning] No further splits with positive gain, best gain: -inf\n",
            "[LightGBM] [Warning] No further splits with positive gain, best gain: -inf\n",
            "[LightGBM] [Warning] No further splits with positive gain, best gain: -inf\n",
            "[LightGBM] [Warning] No further splits with positive gain, best gain: -inf\n",
            "[LightGBM] [Warning] No further splits with positive gain, best gain: -inf\n",
            "[LightGBM] [Warning] No further splits with positive gain, best gain: -inf\n",
            "[LightGBM] [Warning] No further splits with positive gain, best gain: -inf\n",
            "[LightGBM] [Warning] No further splits with positive gain, best gain: -inf\n",
            "[LightGBM] [Warning] No further splits with positive gain, best gain: -inf\n",
            "[LightGBM] [Warning] No further splits with positive gain, best gain: -inf\n",
            "[LightGBM] [Warning] No further splits with positive gain, best gain: -inf\n",
            "[LightGBM] [Warning] No further splits with positive gain, best gain: -inf\n",
            "[100]\ttraining's rmse: 13.1864\tvalid_1's rmse: 13.1412\n",
            "Did not meet early stopping. Best iteration is:\n",
            "[100]\ttraining's rmse: 13.1864\tvalid_1's rmse: 13.1412\n"
          ]
        },
        {
          "output_type": "stream",
          "name": "stderr",
          "text": [
            "[I 2025-04-28 11:51:29,211] Trial 8 finished with value: 13.141200232375356 and parameters: {'learning_rate': 0.11759024539111956, 'num_leaves': 215, 'max_depth': 3, 'min_child_samples': 9, 'subsample': 0.6671844079211006, 'colsample_bytree': 0.5533648000393236, 'reg_alpha': 2.1055799036990805, 'reg_lambda': 0.7989255410492119}. Best is trial 7 with value: 12.948083219180267.\n"
          ]
        },
        {
          "output_type": "stream",
          "name": "stdout",
          "text": [
            "[LightGBM] [Info] Auto-choosing row-wise multi-threading, the overhead of testing was 0.014654 seconds.\n",
            "You can set `force_row_wise=true` to remove the overhead.\n",
            "And if memory is not enough, you can set `force_col_wise=true`.\n",
            "[LightGBM] [Info] Total Bins 950\n",
            "[LightGBM] [Info] Number of data points in the train set: 600000, number of used features: 10\n",
            "[LightGBM] [Info] Start training from score 45.447808\n",
            "Training until validation scores don't improve for 50 rounds\n",
            "[LightGBM] [Warning] No further splits with positive gain, best gain: -inf\n",
            "[LightGBM] [Warning] No further splits with positive gain, best gain: -inf\n",
            "[LightGBM] [Warning] No further splits with positive gain, best gain: -inf\n",
            "[100]\ttraining's rmse: 12.9326\tvalid_1's rmse: 13.0175\n",
            "Did not meet early stopping. Best iteration is:\n",
            "[100]\ttraining's rmse: 12.9326\tvalid_1's rmse: 13.0175\n"
          ]
        },
        {
          "output_type": "stream",
          "name": "stderr",
          "text": [
            "[I 2025-04-28 11:51:40,450] Trial 9 finished with value: 13.017477345802162 and parameters: {'learning_rate': 0.06633152769712607, 'num_leaves': 158, 'max_depth': 8, 'min_child_samples': 88, 'subsample': 0.5205207719120266, 'colsample_bytree': 0.7823376101350152, 'reg_alpha': 4.437807286397622, 'reg_lambda': 2.790688788231569}. Best is trial 7 with value: 12.948083219180267.\n"
          ]
        },
        {
          "output_type": "stream",
          "name": "stdout",
          "text": [
            "[LightGBM] [Info] Auto-choosing col-wise multi-threading, the overhead of testing was 0.050207 seconds.\n",
            "You can set `force_col_wise=true` to remove the overhead.\n",
            "[LightGBM] [Info] Total Bins 950\n",
            "[LightGBM] [Info] Number of data points in the train set: 600000, number of used features: 10\n",
            "[LightGBM] [Info] Start training from score 45.447808\n",
            "Training until validation scores don't improve for 50 rounds\n",
            "[100]\ttraining's rmse: 14.0386\tvalid_1's rmse: 14.1055\n",
            "Did not meet early stopping. Best iteration is:\n",
            "[100]\ttraining's rmse: 14.0386\tvalid_1's rmse: 14.1055\n"
          ]
        },
        {
          "output_type": "stream",
          "name": "stderr",
          "text": [
            "[I 2025-04-28 11:51:49,140] Trial 10 finished with value: 14.105533849606196 and parameters: {'learning_rate': 0.02266451515921844, 'num_leaves': 204, 'max_depth': 15, 'min_child_samples': 71, 'subsample': 0.985516890278057, 'colsample_bytree': 0.6923034816803171, 'reg_alpha': 0.2689920737554683, 'reg_lambda': 1.7568354455427155}. Best is trial 7 with value: 12.948083219180267.\n"
          ]
        },
        {
          "output_type": "stream",
          "name": "stdout",
          "text": [
            "[LightGBM] [Info] Auto-choosing col-wise multi-threading, the overhead of testing was 0.120866 seconds.\n",
            "You can set `force_col_wise=true` to remove the overhead.\n",
            "[LightGBM] [Info] Total Bins 950\n",
            "[LightGBM] [Info] Number of data points in the train set: 600000, number of used features: 10\n",
            "[LightGBM] [Info] Start training from score 45.447808\n",
            "Training until validation scores don't improve for 50 rounds\n",
            "[100]\ttraining's rmse: 12.0171\tvalid_1's rmse: 12.9775\n",
            "Did not meet early stopping. Best iteration is:\n",
            "[100]\ttraining's rmse: 12.0171\tvalid_1's rmse: 12.9775\n"
          ]
        },
        {
          "output_type": "stream",
          "name": "stderr",
          "text": [
            "[I 2025-04-28 11:51:55,733] Trial 11 finished with value: 12.977523810977955 and parameters: {'learning_rate': 0.28831896220011766, 'num_leaves': 225, 'max_depth': 15, 'min_child_samples': 23, 'subsample': 0.9002701207510512, 'colsample_bytree': 0.6807157103559268, 'reg_alpha': 1.608296048234195, 'reg_lambda': 2.605729581688783}. Best is trial 7 with value: 12.948083219180267.\n"
          ]
        },
        {
          "output_type": "stream",
          "name": "stdout",
          "text": [
            "[LightGBM] [Info] Auto-choosing col-wise multi-threading, the overhead of testing was 0.051022 seconds.\n",
            "You can set `force_col_wise=true` to remove the overhead.\n",
            "[LightGBM] [Info] Total Bins 950\n",
            "[LightGBM] [Info] Number of data points in the train set: 600000, number of used features: 10\n",
            "[LightGBM] [Info] Start training from score 45.447808\n",
            "Training until validation scores don't improve for 50 rounds\n",
            "[100]\ttraining's rmse: 12.6995\tvalid_1's rmse: 12.9635\n",
            "Did not meet early stopping. Best iteration is:\n",
            "[100]\ttraining's rmse: 12.6995\tvalid_1's rmse: 12.9635\n"
          ]
        },
        {
          "output_type": "stream",
          "name": "stderr",
          "text": [
            "[I 2025-04-28 11:52:05,593] Trial 12 finished with value: 12.963451052158415 and parameters: {'learning_rate': 0.08382535114492842, 'num_leaves': 177, 'max_depth': 13, 'min_child_samples': 67, 'subsample': 0.8531680502830542, 'colsample_bytree': 0.8476735028273299, 'reg_alpha': 3.106482962959615, 'reg_lambda': 3.3342076288236604}. Best is trial 7 with value: 12.948083219180267.\n"
          ]
        },
        {
          "output_type": "stream",
          "name": "stdout",
          "text": [
            "[LightGBM] [Info] Auto-choosing col-wise multi-threading, the overhead of testing was 0.047940 seconds.\n",
            "You can set `force_col_wise=true` to remove the overhead.\n",
            "[LightGBM] [Info] Total Bins 950\n",
            "[LightGBM] [Info] Number of data points in the train set: 600000, number of used features: 10\n",
            "[LightGBM] [Info] Start training from score 45.447808\n",
            "Training until validation scores don't improve for 50 rounds\n",
            "[100]\ttraining's rmse: 12.6082\tvalid_1's rmse: 12.9527\n",
            "Did not meet early stopping. Best iteration is:\n",
            "[100]\ttraining's rmse: 12.6082\tvalid_1's rmse: 12.9527\n"
          ]
        },
        {
          "output_type": "stream",
          "name": "stderr",
          "text": [
            "[I 2025-04-28 11:52:13,508] Trial 13 finished with value: 12.952655266706603 and parameters: {'learning_rate': 0.08510315890150816, 'num_leaves': 245, 'max_depth': 13, 'min_child_samples': 50, 'subsample': 0.8657919295413422, 'colsample_bytree': 0.7161627521455631, 'reg_alpha': 1.373604712318584, 'reg_lambda': 2.016127846443134}. Best is trial 7 with value: 12.948083219180267.\n"
          ]
        },
        {
          "output_type": "stream",
          "name": "stdout",
          "text": [
            "[LightGBM] [Info] Auto-choosing col-wise multi-threading, the overhead of testing was 0.054352 seconds.\n",
            "You can set `force_col_wise=true` to remove the overhead.\n",
            "[LightGBM] [Info] Total Bins 950\n",
            "[LightGBM] [Info] Number of data points in the train set: 600000, number of used features: 10\n",
            "[LightGBM] [Info] Start training from score 45.447808\n",
            "Training until validation scores don't improve for 50 rounds\n",
            "[100]\ttraining's rmse: 12.8052\tvalid_1's rmse: 13.0086\n",
            "Did not meet early stopping. Best iteration is:\n",
            "[100]\ttraining's rmse: 12.8052\tvalid_1's rmse: 13.0086\n"
          ]
        },
        {
          "output_type": "stream",
          "name": "stderr",
          "text": [
            "[I 2025-04-28 11:52:24,192] Trial 14 finished with value: 13.00858335839099 and parameters: {'learning_rate': 0.05301804443935542, 'num_leaves': 249, 'max_depth': 12, 'min_child_samples': 45, 'subsample': 0.9212524592646255, 'colsample_bytree': 0.7370837323799546, 'reg_alpha': 2.4805319707772395, 'reg_lambda': 1.969755934860411}. Best is trial 7 with value: 12.948083219180267.\n"
          ]
        },
        {
          "output_type": "stream",
          "name": "stdout",
          "text": [
            "[LightGBM] [Info] Auto-choosing row-wise multi-threading, the overhead of testing was 0.014838 seconds.\n",
            "You can set `force_row_wise=true` to remove the overhead.\n",
            "And if memory is not enough, you can set `force_col_wise=true`.\n",
            "[LightGBM] [Info] Total Bins 950\n",
            "[LightGBM] [Info] Number of data points in the train set: 600000, number of used features: 10\n",
            "[LightGBM] [Info] Start training from score 45.447808\n",
            "Training until validation scores don't improve for 50 rounds\n",
            "[100]\ttraining's rmse: 12.5688\tvalid_1's rmse: 12.9565\n",
            "Did not meet early stopping. Best iteration is:\n",
            "[100]\ttraining's rmse: 12.5688\tvalid_1's rmse: 12.9565\n"
          ]
        },
        {
          "output_type": "stream",
          "name": "stderr",
          "text": [
            "[I 2025-04-28 11:52:33,067] Trial 15 finished with value: 12.956535286585515 and parameters: {'learning_rate': 0.12464589472075162, 'num_leaves': 170, 'max_depth': 13, 'min_child_samples': 32, 'subsample': 0.855693159510876, 'colsample_bytree': 0.7594102347942421, 'reg_alpha': 3.8604860691801552, 'reg_lambda': 1.8697800572434415}. Best is trial 7 with value: 12.948083219180267.\n"
          ]
        },
        {
          "output_type": "stream",
          "name": "stdout",
          "text": [
            "[LightGBM] [Info] Auto-choosing col-wise multi-threading, the overhead of testing was 0.051419 seconds.\n",
            "You can set `force_col_wise=true` to remove the overhead.\n",
            "[LightGBM] [Info] Total Bins 950\n",
            "[LightGBM] [Info] Number of data points in the train set: 600000, number of used features: 10\n",
            "[LightGBM] [Info] Start training from score 45.447808\n",
            "Training until validation scores don't improve for 50 rounds\n",
            "[100]\ttraining's rmse: 12.7343\tvalid_1's rmse: 12.9803\n",
            "Did not meet early stopping. Best iteration is:\n",
            "[97]\ttraining's rmse: 12.7431\tvalid_1's rmse: 12.9799\n"
          ]
        },
        {
          "output_type": "stream",
          "name": "stderr",
          "text": [
            "[I 2025-04-28 11:52:38,473] Trial 16 finished with value: 12.979906816141556 and parameters: {'learning_rate': 0.16779753216111082, 'num_leaves': 84, 'max_depth': 10, 'min_child_samples': 58, 'subsample': 0.9727827669982277, 'colsample_bytree': 0.8886305621578936, 'reg_alpha': 0.8760564041925717, 'reg_lambda': 2.352471134839284}. Best is trial 7 with value: 12.948083219180267.\n"
          ]
        },
        {
          "output_type": "stream",
          "name": "stdout",
          "text": [
            "[LightGBM] [Info] Auto-choosing row-wise multi-threading, the overhead of testing was 0.014707 seconds.\n",
            "You can set `force_row_wise=true` to remove the overhead.\n",
            "And if memory is not enough, you can set `force_col_wise=true`.\n",
            "[LightGBM] [Info] Total Bins 950\n",
            "[LightGBM] [Info] Number of data points in the train set: 600000, number of used features: 10\n",
            "[LightGBM] [Info] Start training from score 45.447808\n",
            "Training until validation scores don't improve for 50 rounds\n",
            "[100]\ttraining's rmse: 12.4689\tvalid_1's rmse: 12.9279\n",
            "Did not meet early stopping. Best iteration is:\n",
            "[100]\ttraining's rmse: 12.4689\tvalid_1's rmse: 12.9279\n"
          ]
        },
        {
          "output_type": "stream",
          "name": "stderr",
          "text": [
            "[I 2025-04-28 11:52:48,912] Trial 17 finished with value: 12.92786041274109 and parameters: {'learning_rate': 0.1048010636832974, 'num_leaves': 262, 'max_depth': 13, 'min_child_samples': 74, 'subsample': 0.8450851770604612, 'colsample_bytree': 0.8214361344960373, 'reg_alpha': 2.1518061083153164, 'reg_lambda': 1.0629064751290507}. Best is trial 17 with value: 12.92786041274109.\n"
          ]
        },
        {
          "output_type": "stream",
          "name": "stdout",
          "text": [
            "[LightGBM] [Info] Auto-choosing row-wise multi-threading, the overhead of testing was 0.014681 seconds.\n",
            "You can set `force_row_wise=true` to remove the overhead.\n",
            "And if memory is not enough, you can set `force_col_wise=true`.\n",
            "[LightGBM] [Info] Total Bins 950\n",
            "[LightGBM] [Info] Number of data points in the train set: 600000, number of used features: 10\n",
            "[LightGBM] [Info] Start training from score 45.447808\n",
            "Training until validation scores don't improve for 50 rounds\n",
            "[100]\ttraining's rmse: 12.5775\tvalid_1's rmse: 12.9443\n",
            "Did not meet early stopping. Best iteration is:\n",
            "[100]\ttraining's rmse: 12.5775\tvalid_1's rmse: 12.9443\n"
          ]
        },
        {
          "output_type": "stream",
          "name": "stderr",
          "text": [
            "[I 2025-04-28 11:52:58,048] Trial 18 finished with value: 12.944329274320877 and parameters: {'learning_rate': 0.11340767720843348, 'num_leaves': 189, 'max_depth': 14, 'min_child_samples': 81, 'subsample': 0.7114754596011948, 'colsample_bytree': 0.8182448884501468, 'reg_alpha': 2.482830120710072, 'reg_lambda': 0.6407104072985551}. Best is trial 17 with value: 12.92786041274109.\n"
          ]
        },
        {
          "output_type": "stream",
          "name": "stdout",
          "text": [
            "[LightGBM] [Info] Auto-choosing row-wise multi-threading, the overhead of testing was 0.014629 seconds.\n",
            "You can set `force_row_wise=true` to remove the overhead.\n",
            "And if memory is not enough, you can set `force_col_wise=true`.\n",
            "[LightGBM] [Info] Total Bins 950\n",
            "[LightGBM] [Info] Number of data points in the train set: 600000, number of used features: 10\n",
            "[LightGBM] [Info] Start training from score 45.447808\n",
            "Training until validation scores don't improve for 50 rounds\n",
            "[LightGBM] [Warning] No further splits with positive gain, best gain: -inf\n",
            "[LightGBM] [Warning] No further splits with positive gain, best gain: -inf\n",
            "[LightGBM] [Warning] No further splits with positive gain, best gain: -inf\n",
            "[LightGBM] [Warning] No further splits with positive gain, best gain: -inf\n",
            "[LightGBM] [Warning] No further splits with positive gain, best gain: -inf\n",
            "[LightGBM] [Warning] No further splits with positive gain, best gain: -inf\n",
            "[LightGBM] [Warning] No further splits with positive gain, best gain: -inf\n",
            "[LightGBM] [Warning] No further splits with positive gain, best gain: -inf\n",
            "[LightGBM] [Warning] No further splits with positive gain, best gain: -inf\n",
            "[LightGBM] [Warning] No further splits with positive gain, best gain: -inf\n",
            "[LightGBM] [Warning] No further splits with positive gain, best gain: -inf\n",
            "[LightGBM] [Warning] No further splits with positive gain, best gain: -inf\n",
            "[LightGBM] [Warning] No further splits with positive gain, best gain: -inf\n",
            "[LightGBM] [Warning] No further splits with positive gain, best gain: -inf\n",
            "[LightGBM] [Warning] No further splits with positive gain, best gain: -inf\n",
            "[LightGBM] [Warning] No further splits with positive gain, best gain: -inf\n",
            "[LightGBM] [Warning] No further splits with positive gain, best gain: -inf\n",
            "[LightGBM] [Warning] No further splits with positive gain, best gain: -inf\n",
            "[LightGBM] [Warning] No further splits with positive gain, best gain: -inf\n",
            "[LightGBM] [Warning] No further splits with positive gain, best gain: -inf\n",
            "[LightGBM] [Warning] No further splits with positive gain, best gain: -inf\n",
            "[LightGBM] [Warning] No further splits with positive gain, best gain: -inf\n",
            "[LightGBM] [Warning] No further splits with positive gain, best gain: -inf\n",
            "[LightGBM] [Warning] No further splits with positive gain, best gain: -inf\n",
            "[LightGBM] [Warning] No further splits with positive gain, best gain: -inf\n",
            "[LightGBM] [Warning] No further splits with positive gain, best gain: -inf\n",
            "[LightGBM] [Warning] No further splits with positive gain, best gain: -inf\n",
            "[LightGBM] [Warning] No further splits with positive gain, best gain: -inf\n",
            "[LightGBM] [Warning] No further splits with positive gain, best gain: -inf\n",
            "[LightGBM] [Warning] No further splits with positive gain, best gain: -inf\n",
            "[LightGBM] [Warning] No further splits with positive gain, best gain: -inf\n",
            "[LightGBM] [Warning] No further splits with positive gain, best gain: -inf\n",
            "[LightGBM] [Warning] No further splits with positive gain, best gain: -inf\n",
            "[100]\ttraining's rmse: 12.6073\tvalid_1's rmse: 12.9469\n",
            "Did not meet early stopping. Best iteration is:\n",
            "[100]\ttraining's rmse: 12.6073\tvalid_1's rmse: 12.9469\n"
          ]
        },
        {
          "output_type": "stream",
          "name": "stderr",
          "text": [
            "[I 2025-04-28 11:53:06,665] Trial 19 finished with value: 12.946887780455787 and parameters: {'learning_rate': 0.12506343602264877, 'num_leaves': 273, 'max_depth': 9, 'min_child_samples': 80, 'subsample': 0.6829751083670099, 'colsample_bytree': 0.7981552363682207, 'reg_alpha': 2.2240073002793745, 'reg_lambda': 0.16273443726954884}. Best is trial 17 with value: 12.92786041274109.\n"
          ]
        },
        {
          "output_type": "stream",
          "name": "stdout",
          "text": [
            "[LightGBM] [Info] Auto-choosing row-wise multi-threading, the overhead of testing was 0.014819 seconds.\n",
            "You can set `force_row_wise=true` to remove the overhead.\n",
            "And if memory is not enough, you can set `force_col_wise=true`.\n",
            "[LightGBM] [Info] Total Bins 950\n",
            "[LightGBM] [Info] Number of data points in the train set: 600000, number of used features: 10\n",
            "[LightGBM] [Info] Start training from score 45.447808\n",
            "Training until validation scores don't improve for 50 rounds\n",
            "[100]\ttraining's rmse: 12.0979\tvalid_1's rmse: 12.9675\n",
            "Did not meet early stopping. Best iteration is:\n",
            "[94]\ttraining's rmse: 12.1417\tvalid_1's rmse: 12.9655\n"
          ]
        },
        {
          "output_type": "stream",
          "name": "stderr",
          "text": [
            "[I 2025-04-28 11:53:14,280] Trial 20 finished with value: 12.965495542824135 and parameters: {'learning_rate': 0.29639196893004943, 'num_leaves': 186, 'max_depth': 13, 'min_child_samples': 80, 'subsample': 0.7291689597305598, 'colsample_bytree': 0.9212151092439267, 'reg_alpha': 1.9293258641481565, 'reg_lambda': 0.8270725154252812}. Best is trial 17 with value: 12.92786041274109.\n"
          ]
        },
        {
          "output_type": "stream",
          "name": "stdout",
          "text": [
            "[LightGBM] [Info] Auto-choosing row-wise multi-threading, the overhead of testing was 0.014980 seconds.\n",
            "You can set `force_row_wise=true` to remove the overhead.\n",
            "And if memory is not enough, you can set `force_col_wise=true`.\n",
            "[LightGBM] [Info] Total Bins 950\n",
            "[LightGBM] [Info] Number of data points in the train set: 600000, number of used features: 10\n",
            "[LightGBM] [Info] Start training from score 45.447808\n",
            "Training until validation scores don't improve for 50 rounds\n",
            "[LightGBM] [Warning] No further splits with positive gain, best gain: -inf\n",
            "[LightGBM] [Warning] No further splits with positive gain, best gain: -inf\n",
            "[LightGBM] [Warning] No further splits with positive gain, best gain: -inf\n",
            "[LightGBM] [Warning] No further splits with positive gain, best gain: -inf\n",
            "[LightGBM] [Warning] No further splits with positive gain, best gain: -inf\n",
            "[LightGBM] [Warning] No further splits with positive gain, best gain: -inf\n",
            "[LightGBM] [Warning] No further splits with positive gain, best gain: -inf\n",
            "[LightGBM] [Warning] No further splits with positive gain, best gain: -inf\n",
            "[LightGBM] [Warning] No further splits with positive gain, best gain: -inf\n",
            "[LightGBM] [Warning] No further splits with positive gain, best gain: -inf\n",
            "[LightGBM] [Warning] No further splits with positive gain, best gain: -inf\n",
            "[LightGBM] [Warning] No further splits with positive gain, best gain: -inf\n",
            "[LightGBM] [Warning] No further splits with positive gain, best gain: -inf\n",
            "[LightGBM] [Warning] No further splits with positive gain, best gain: -inf\n",
            "[LightGBM] [Warning] No further splits with positive gain, best gain: -inf\n",
            "[LightGBM] [Warning] No further splits with positive gain, best gain: -inf\n",
            "[LightGBM] [Warning] No further splits with positive gain, best gain: -inf\n",
            "[LightGBM] [Warning] No further splits with positive gain, best gain: -inf\n",
            "[LightGBM] [Warning] No further splits with positive gain, best gain: -inf\n",
            "[LightGBM] [Warning] No further splits with positive gain, best gain: -inf\n",
            "[LightGBM] [Warning] No further splits with positive gain, best gain: -inf\n",
            "[LightGBM] [Warning] No further splits with positive gain, best gain: -inf\n",
            "[LightGBM] [Warning] No further splits with positive gain, best gain: -inf\n",
            "[LightGBM] [Warning] No further splits with positive gain, best gain: -inf\n",
            "[LightGBM] [Warning] No further splits with positive gain, best gain: -inf\n",
            "[LightGBM] [Warning] No further splits with positive gain, best gain: -inf\n",
            "[LightGBM] [Warning] No further splits with positive gain, best gain: -inf\n",
            "[LightGBM] [Warning] No further splits with positive gain, best gain: -inf\n",
            "[LightGBM] [Warning] No further splits with positive gain, best gain: -inf\n",
            "[LightGBM] [Warning] No further splits with positive gain, best gain: -inf\n",
            "[LightGBM] [Warning] No further splits with positive gain, best gain: -inf\n",
            "[LightGBM] [Warning] No further splits with positive gain, best gain: -inf\n",
            "[LightGBM] [Warning] No further splits with positive gain, best gain: -inf\n",
            "[LightGBM] [Warning] No further splits with positive gain, best gain: -inf\n",
            "[100]\ttraining's rmse: 12.612\tvalid_1's rmse: 12.9511\n",
            "Did not meet early stopping. Best iteration is:\n",
            "[100]\ttraining's rmse: 12.612\tvalid_1's rmse: 12.9511\n"
          ]
        },
        {
          "output_type": "stream",
          "name": "stderr",
          "text": [
            "[I 2025-04-28 11:53:23,475] Trial 21 finished with value: 12.951146212758406 and parameters: {'learning_rate': 0.12428135793626242, 'num_leaves': 264, 'max_depth': 9, 'min_child_samples': 79, 'subsample': 0.6876377235201808, 'colsample_bytree': 0.8108339461170649, 'reg_alpha': 2.4787809719787415, 'reg_lambda': 0.04254717372774086}. Best is trial 17 with value: 12.92786041274109.\n"
          ]
        },
        {
          "output_type": "stream",
          "name": "stdout",
          "text": [
            "[LightGBM] [Info] Auto-choosing col-wise multi-threading, the overhead of testing was 0.117558 seconds.\n",
            "You can set `force_col_wise=true` to remove the overhead.\n",
            "[LightGBM] [Info] Total Bins 950\n",
            "[LightGBM] [Info] Number of data points in the train set: 600000, number of used features: 10\n",
            "[LightGBM] [Info] Start training from score 45.447808\n",
            "Training until validation scores don't improve for 50 rounds\n",
            "[LightGBM] [Warning] No further splits with positive gain, best gain: -inf\n",
            "[LightGBM] [Warning] No further splits with positive gain, best gain: -inf\n",
            "[LightGBM] [Warning] No further splits with positive gain, best gain: -inf\n",
            "[LightGBM] [Warning] No further splits with positive gain, best gain: -inf\n",
            "[LightGBM] [Warning] No further splits with positive gain, best gain: -inf\n",
            "[LightGBM] [Warning] No further splits with positive gain, best gain: -inf\n",
            "[100]\ttraining's rmse: 12.3783\tvalid_1's rmse: 12.9241\n",
            "Did not meet early stopping. Best iteration is:\n",
            "[100]\ttraining's rmse: 12.3783\tvalid_1's rmse: 12.9241\n"
          ]
        },
        {
          "output_type": "stream",
          "name": "stderr",
          "text": [
            "[I 2025-04-28 11:53:32,137] Trial 22 finished with value: 12.924112621396445 and parameters: {'learning_rate': 0.1498853339640888, 'num_leaves': 274, 'max_depth': 11, 'min_child_samples': 79, 'subsample': 0.6141599476181621, 'colsample_bytree': 0.7924060583088387, 'reg_alpha': 2.869443903911091, 'reg_lambda': 0.5898069529139096}. Best is trial 22 with value: 12.924112621396445.\n"
          ]
        },
        {
          "output_type": "stream",
          "name": "stdout",
          "text": [
            "[LightGBM] [Info] Auto-choosing row-wise multi-threading, the overhead of testing was 0.014619 seconds.\n",
            "You can set `force_row_wise=true` to remove the overhead.\n",
            "And if memory is not enough, you can set `force_col_wise=true`.\n",
            "[LightGBM] [Info] Total Bins 950\n",
            "[LightGBM] [Info] Number of data points in the train set: 600000, number of used features: 10\n",
            "[LightGBM] [Info] Start training from score 45.447808\n",
            "Training until validation scores don't improve for 50 rounds\n",
            "[100]\ttraining's rmse: 12.5357\tvalid_1's rmse: 12.9543\n",
            "Did not meet early stopping. Best iteration is:\n",
            "[100]\ttraining's rmse: 12.5357\tvalid_1's rmse: 12.9543\n"
          ]
        },
        {
          "output_type": "stream",
          "name": "stderr",
          "text": [
            "[I 2025-04-28 11:53:40,265] Trial 23 finished with value: 12.95431477518963 and parameters: {'learning_rate': 0.18622690144682144, 'num_leaves': 143, 'max_depth': 11, 'min_child_samples': 64, 'subsample': 0.6193263563148282, 'colsample_bytree': 0.8323556107981331, 'reg_alpha': 2.9483212385050965, 'reg_lambda': 0.7308382517406786}. Best is trial 22 with value: 12.924112621396445.\n"
          ]
        },
        {
          "output_type": "stream",
          "name": "stdout",
          "text": [
            "[LightGBM] [Info] Auto-choosing row-wise multi-threading, the overhead of testing was 0.014614 seconds.\n",
            "You can set `force_row_wise=true` to remove the overhead.\n",
            "And if memory is not enough, you can set `force_col_wise=true`.\n",
            "[LightGBM] [Info] Total Bins 950\n",
            "[LightGBM] [Info] Number of data points in the train set: 600000, number of used features: 10\n",
            "[LightGBM] [Info] Start training from score 45.447808\n",
            "Training until validation scores don't improve for 50 rounds\n",
            "[100]\ttraining's rmse: 12.2295\tvalid_1's rmse: 12.9158\n",
            "Did not meet early stopping. Best iteration is:\n",
            "[100]\ttraining's rmse: 12.2295\tvalid_1's rmse: 12.9158\n"
          ]
        },
        {
          "output_type": "stream",
          "name": "stderr",
          "text": [
            "[I 2025-04-28 11:53:47,857] Trial 24 finished with value: 12.915784945588186 and parameters: {'learning_rate': 0.14306449891181977, 'num_leaves': 299, 'max_depth': 14, 'min_child_samples': 75, 'subsample': 0.5890030704459424, 'colsample_bytree': 0.7623991136429377, 'reg_alpha': 3.5389895622726906, 'reg_lambda': 1.2284014919350503}. Best is trial 24 with value: 12.915784945588186.\n"
          ]
        },
        {
          "output_type": "stream",
          "name": "stdout",
          "text": [
            "[LightGBM] [Info] Auto-choosing row-wise multi-threading, the overhead of testing was 0.014653 seconds.\n",
            "You can set `force_row_wise=true` to remove the overhead.\n",
            "And if memory is not enough, you can set `force_col_wise=true`.\n",
            "[LightGBM] [Info] Total Bins 950\n",
            "[LightGBM] [Info] Number of data points in the train set: 600000, number of used features: 10\n",
            "[LightGBM] [Info] Start training from score 45.447808\n",
            "Training until validation scores don't improve for 50 rounds\n",
            "[LightGBM] [Warning] No further splits with positive gain, best gain: -inf\n",
            "[LightGBM] [Warning] No further splits with positive gain, best gain: -inf\n",
            "[100]\ttraining's rmse: 12.2596\tvalid_1's rmse: 12.9125\n",
            "Did not meet early stopping. Best iteration is:\n",
            "[100]\ttraining's rmse: 12.2596\tvalid_1's rmse: 12.9125\n"
          ]
        },
        {
          "output_type": "stream",
          "name": "stderr",
          "text": [
            "[I 2025-04-28 11:53:58,005] Trial 25 finished with value: 12.912480089215464 and parameters: {'learning_rate': 0.1509484637002944, 'num_leaves': 300, 'max_depth': 12, 'min_child_samples': 74, 'subsample': 0.5911224084099078, 'colsample_bytree': 0.7591494232695849, 'reg_alpha': 3.801267816222229, 'reg_lambda': 1.362919245130364}. Best is trial 25 with value: 12.912480089215464.\n"
          ]
        },
        {
          "output_type": "stream",
          "name": "stdout",
          "text": [
            "[LightGBM] [Info] Auto-choosing col-wise multi-threading, the overhead of testing was 0.047394 seconds.\n",
            "You can set `force_col_wise=true` to remove the overhead.\n",
            "[LightGBM] [Info] Total Bins 950\n",
            "[LightGBM] [Info] Number of data points in the train set: 600000, number of used features: 10\n",
            "[LightGBM] [Info] Start training from score 45.447808\n",
            "Training until validation scores don't improve for 50 rounds\n",
            "[LightGBM] [Warning] No further splits with positive gain, best gain: -inf\n",
            "[LightGBM] [Warning] No further splits with positive gain, best gain: -inf\n",
            "[LightGBM] [Warning] No further splits with positive gain, best gain: -inf\n",
            "[LightGBM] [Warning] No further splits with positive gain, best gain: -inf\n",
            "[100]\ttraining's rmse: 12.1657\tvalid_1's rmse: 12.9662\n",
            "Did not meet early stopping. Best iteration is:\n",
            "[99]\ttraining's rmse: 12.174\tvalid_1's rmse: 12.9652\n"
          ]
        },
        {
          "output_type": "stream",
          "name": "stderr",
          "text": [
            "[I 2025-04-28 11:54:07,436] Trial 26 finished with value: 12.965234461062684 and parameters: {'learning_rate': 0.2430154287581669, 'num_leaves': 300, 'max_depth': 12, 'min_child_samples': 100, 'subsample': 0.5875456922862005, 'colsample_bytree': 0.6277415489463432, 'reg_alpha': 3.901026096816386, 'reg_lambda': 1.4249555553440227}. Best is trial 25 with value: 12.912480089215464.\n"
          ]
        },
        {
          "output_type": "stream",
          "name": "stdout",
          "text": [
            "[LightGBM] [Info] Auto-choosing row-wise multi-threading, the overhead of testing was 0.014800 seconds.\n",
            "You can set `force_row_wise=true` to remove the overhead.\n",
            "And if memory is not enough, you can set `force_col_wise=true`.\n",
            "[LightGBM] [Info] Total Bins 950\n",
            "[LightGBM] [Info] Number of data points in the train set: 600000, number of used features: 10\n",
            "[LightGBM] [Info] Start training from score 45.447808\n",
            "Training until validation scores don't improve for 50 rounds\n",
            "[LightGBM] [Warning] No further splits with positive gain, best gain: -inf\n",
            "[LightGBM] [Warning] No further splits with positive gain, best gain: -inf\n",
            "[LightGBM] [Warning] No further splits with positive gain, best gain: -inf\n",
            "[LightGBM] [Warning] No further splits with positive gain, best gain: -inf\n",
            "[LightGBM] [Warning] No further splits with positive gain, best gain: -inf\n",
            "[LightGBM] [Warning] No further splits with positive gain, best gain: -inf\n",
            "[LightGBM] [Warning] No further splits with positive gain, best gain: -inf\n",
            "[LightGBM] [Warning] No further splits with positive gain, best gain: -inf\n",
            "[LightGBM] [Warning] No further splits with positive gain, best gain: -inf\n",
            "[LightGBM] [Warning] No further splits with positive gain, best gain: -inf\n",
            "[LightGBM] [Warning] No further splits with positive gain, best gain: -inf\n",
            "[LightGBM] [Warning] No further splits with positive gain, best gain: -inf\n",
            "[LightGBM] [Warning] No further splits with positive gain, best gain: -inf\n",
            "[LightGBM] [Warning] No further splits with positive gain, best gain: -inf\n",
            "[LightGBM] [Warning] No further splits with positive gain, best gain: -inf\n",
            "[LightGBM] [Warning] No further splits with positive gain, best gain: -inf\n",
            "[100]\ttraining's rmse: 12.4216\tvalid_1's rmse: 12.9316\n",
            "Did not meet early stopping. Best iteration is:\n",
            "[100]\ttraining's rmse: 12.4216\tvalid_1's rmse: 12.9316\n"
          ]
        },
        {
          "output_type": "stream",
          "name": "stderr",
          "text": [
            "[I 2025-04-28 11:54:16,400] Trial 27 finished with value: 12.931599660431836 and parameters: {'learning_rate': 0.14589422823106712, 'num_leaves': 279, 'max_depth': 10, 'min_child_samples': 62, 'subsample': 0.5849612244173488, 'colsample_bytree': 0.7555008721486429, 'reg_alpha': 3.860964592608119, 'reg_lambda': 1.4748737617910443}. Best is trial 25 with value: 12.912480089215464.\n"
          ]
        },
        {
          "output_type": "stream",
          "name": "stdout",
          "text": [
            "[LightGBM] [Info] Auto-choosing col-wise multi-threading, the overhead of testing was 0.121923 seconds.\n",
            "You can set `force_col_wise=true` to remove the overhead.\n",
            "[LightGBM] [Info] Total Bins 950\n",
            "[LightGBM] [Info] Number of data points in the train set: 600000, number of used features: 10\n",
            "[LightGBM] [Info] Start training from score 45.447808\n",
            "Training until validation scores don't improve for 50 rounds\n",
            "[100]\ttraining's rmse: 12.3024\tvalid_1's rmse: 12.9339\n",
            "Did not meet early stopping. Best iteration is:\n",
            "[100]\ttraining's rmse: 12.3024\tvalid_1's rmse: 12.9339\n"
          ]
        },
        {
          "output_type": "stream",
          "name": "stderr",
          "text": [
            "[I 2025-04-28 11:54:23,946] Trial 28 finished with value: 12.933881088255548 and parameters: {'learning_rate': 0.19401074213555153, 'num_leaves': 243, 'max_depth': 12, 'min_child_samples': 72, 'subsample': 0.5955474887488242, 'colsample_bytree': 0.7053456909242143, 'reg_alpha': 3.5764658900555792, 'reg_lambda': 1.1251631901277803}. Best is trial 25 with value: 12.912480089215464.\n"
          ]
        },
        {
          "output_type": "stream",
          "name": "stdout",
          "text": [
            "[LightGBM] [Info] Auto-choosing row-wise multi-threading, the overhead of testing was 0.014621 seconds.\n",
            "You can set `force_row_wise=true` to remove the overhead.\n",
            "And if memory is not enough, you can set `force_col_wise=true`.\n",
            "[LightGBM] [Info] Total Bins 950\n",
            "[LightGBM] [Info] Number of data points in the train set: 600000, number of used features: 10\n",
            "[LightGBM] [Info] Start training from score 45.447808\n",
            "Training until validation scores don't improve for 50 rounds\n",
            "[100]\ttraining's rmse: 12.7863\tvalid_1's rmse: 12.9922\n",
            "Did not meet early stopping. Best iteration is:\n",
            "[100]\ttraining's rmse: 12.7863\tvalid_1's rmse: 12.9922\n"
          ]
        },
        {
          "output_type": "stream",
          "name": "stderr",
          "text": [
            "[I 2025-04-28 11:54:30,986] Trial 29 finished with value: 12.99217452818162 and parameters: {'learning_rate': 0.15541890586576904, 'num_leaves': 79, 'max_depth': 14, 'min_child_samples': 85, 'subsample': 0.6361280724372018, 'colsample_bytree': 0.7787021622656661, 'reg_alpha': 4.225566127527665, 'reg_lambda': 0.44523343047254826}. Best is trial 25 with value: 12.912480089215464.\n"
          ]
        },
        {
          "output_type": "stream",
          "name": "stdout",
          "text": [
            "Best Hyperparameters: {'learning_rate': 0.1509484637002944, 'num_leaves': 300, 'max_depth': 12, 'min_child_samples': 74, 'subsample': 0.5911224084099078, 'colsample_bytree': 0.7591494232695849, 'reg_alpha': 3.801267816222229, 'reg_lambda': 1.362919245130364}\n",
            "Best RMSE: 12.912480089215464\n"
          ]
        }
      ]
    },
    {
      "cell_type": "code",
      "source": [
        "# Train LightGBM Again with Best Hyperparameters\n",
        "# Train final LightGBM with best hyperparameters\n",
        "\n",
        "best_params = study.best_params\n",
        "best_params['objective'] = 'regression'\n",
        "best_params['metric'] = 'rmse'\n",
        "best_params['boosting_type'] = 'gbdt'\n",
        "best_params['random_state'] = 42\n",
        "\n",
        "# Retrain model\n",
        "final_lgbm_model = lgb.train(\n",
        "    best_params,\n",
        "    lgb.Dataset(X_train, label=y_train),\n",
        "    valid_sets=[lgb.Dataset(X_train), lgb.Dataset(X_val)],\n",
        "    callbacks=[lgb.early_stopping(stopping_rounds=50), lgb.log_evaluation(period=100)], # Use early_stopping and log_evaluation callbacks\n",
        "    # verbose_eval=100  # Remove or comment out this line\n",
        ")\n",
        "\n",
        "\n",
        "\n",
        "# Evaluate\n",
        "val_preds_final = final_lgbm_model.predict(X_val)\n",
        "# final_rmse = mean_squared_error(y_val, val_preds_final, squared=False) # This line caused the error\n",
        "final_rmse = np.sqrt(mean_squared_error(y_val, val_preds_final)) # Calculate RMSE manually\n",
        "print(f\"Final Tuned LightGBM Validation RMSE: {final_rmse:.4f}\")"
      ],
      "metadata": {
        "colab": {
          "base_uri": "https://localhost:8080/"
        },
        "id": "2te8ZfdPON7K",
        "outputId": "51758149-56bc-4828-9ced-25230a9f306a"
      },
      "execution_count": 37,
      "outputs": [
        {
          "output_type": "stream",
          "name": "stdout",
          "text": [
            "[LightGBM] [Info] Auto-choosing row-wise multi-threading, the overhead of testing was 0.014729 seconds.\n",
            "You can set `force_row_wise=true` to remove the overhead.\n",
            "And if memory is not enough, you can set `force_col_wise=true`.\n",
            "[LightGBM] [Info] Total Bins 950\n",
            "[LightGBM] [Info] Number of data points in the train set: 600000, number of used features: 10\n",
            "[LightGBM] [Info] Start training from score 45.447808\n",
            "Training until validation scores don't improve for 50 rounds\n",
            "Early stopping, best iteration is:\n",
            "[1]\tvalid_0's rmse: 45.5878\tvalid_1's rmse: 45.5824\n",
            "Final Tuned LightGBM Validation RMSE: 24.0586\n"
          ]
        }
      ]
    },
    {
      "cell_type": "markdown",
      "source": [
        "Model             | Validation RMSE\n",
        "\n",
        "Random Forest     | 12.6630\n",
        "\n",
        "LightGBM (default params) | 12.9668\n",
        "\n",
        "LightGBM (Optuna tuned) | 24.0586\n",
        "\n",
        "Why did this happen?\n",
        "\n",
        "Because Optuna selected bad hyperparameters in the search space.\n",
        "\n",
        "We only ran 30 trials, which is very low for a wide search space.\n",
        "\n",
        "Also, it started overfitting or underfitting because the learning rate and number of leaves might have been set poorly.\n",
        "\n",
        "In simple words: The tuning was too random and shallow."
      ],
      "metadata": {
        "id": "cYyw9ueIVUTr"
      }
    },
    {
      "cell_type": "markdown",
      "source": [
        "New Plan: \"Smart LightGBM Tuning\"\n",
        "\n",
        "-  Fix some important parameters\n",
        "-  Tune only a few critical ones\n",
        "-  Get RMSE lower than Random Forest"
      ],
      "metadata": {
        "id": "oM5fbSMraTXu"
      }
    },
    {
      "cell_type": "code",
      "source": [
        "# Step 1: Define a better fixed LightGBM parameter base\n",
        "\n",
        "fixed_params = {\n",
        "    'objective': 'regression',\n",
        "    'metric': 'rmse',\n",
        "    'boosting_type': 'gbdt',\n",
        "    'learning_rate': 0.05,  # safer\n",
        "    'random_state': 42,\n",
        "    'verbose': -1\n",
        "}\n",
        "\n",
        "# Step 2: Define objective function tuning only important parameters\n",
        "def objective_important(trial):\n",
        "    params = {\n",
        "        **fixed_params,\n",
        "        'num_leaves': trial.suggest_int('num_leaves', 20, 100),\n",
        "        'max_depth': trial.suggest_int('max_depth', 5, 15),\n",
        "        'min_child_samples': trial.suggest_int('min_child_samples', 10, 100),\n",
        "        'subsample': trial.suggest_float('subsample', 0.6, 1.0),\n",
        "        'colsample_bytree': trial.suggest_float('colsample_bytree', 0.6, 1.0)\n",
        "    }\n",
        "\n",
        "    model = lgb.train(\n",
        "        params,\n",
        "        lgb.Dataset(X_train, label=y_train),\n",
        "        valid_sets=[lgb.Dataset(X_train), lgb.Dataset(X_val)],\n",
        "        # early_stopping_rounds=50, # Removed this line\n",
        "        callbacks=[lgb.early_stopping(stopping_rounds=50), lgb.log_evaluation(period=100)], # Added this line and log_evaluation for controlling logging frequency\n",
        "        # verbose_eval=False # Remove verbose_eval\n",
        "    )\n",
        "\n",
        "    preds = model.predict(X_val)\n",
        "    # rmse = mean_squared_error(y_val, preds, squared=False) # This line caused the error. Removing 'squared=False' to be compatible with older scikit-learn versions.\n",
        "    rmse = np.sqrt(mean_squared_error(y_val, preds)) # Calculate RMSE manually if 'squared=False' is not supported.\n",
        "    return rmse\n",
        "\n",
        "# Step 3: Run Optuna\n",
        "study = optuna.create_study(direction=\"minimize\")\n",
        "study.optimize(objective_important, n_trials=40)  # try 40 better trials\n",
        "\n",
        "print(\"Best Parameters:\", study.best_params)\n",
        "print(\"Best RMSE:\", study.best_value)"
      ],
      "metadata": {
        "colab": {
          "base_uri": "https://localhost:8080/"
        },
        "id": "TOVa6xW7UH_X",
        "outputId": "57ddbef6-6879-401b-9132-a61e9eee25ad"
      },
      "execution_count": 16,
      "outputs": [
        {
          "output_type": "stream",
          "name": "stderr",
          "text": [
            "[I 2025-04-28 12:44:31,389] A new study created in memory with name: no-name-4c4f9ac2-5abb-462e-91a6-69155b58a0b0\n"
          ]
        },
        {
          "output_type": "stream",
          "name": "stdout",
          "text": [
            "Training until validation scores don't improve for 50 rounds\n"
          ]
        },
        {
          "output_type": "stream",
          "name": "stderr",
          "text": [
            "[I 2025-04-28 12:44:40,187] Trial 0 finished with value: 26.099357152790404 and parameters: {'num_leaves': 62, 'max_depth': 8, 'min_child_samples': 54, 'subsample': 0.8077652580841039, 'colsample_bytree': 0.9890695021353304}. Best is trial 0 with value: 26.099357152790404.\n"
          ]
        },
        {
          "output_type": "stream",
          "name": "stdout",
          "text": [
            "Early stopping, best iteration is:\n",
            "[1]\tvalid_0's rmse: 45.4632\tvalid_1's rmse: 45.4613\n",
            "Training until validation scores don't improve for 50 rounds\n"
          ]
        },
        {
          "output_type": "stream",
          "name": "stderr",
          "text": [
            "[I 2025-04-28 12:44:44,874] Trial 1 finished with value: 26.10426819984926 and parameters: {'num_leaves': 32, 'max_depth': 9, 'min_child_samples': 33, 'subsample': 0.8248067760925282, 'colsample_bytree': 0.6661900023246968}. Best is trial 0 with value: 26.099357152790404.\n"
          ]
        },
        {
          "output_type": "stream",
          "name": "stdout",
          "text": [
            "Early stopping, best iteration is:\n",
            "[1]\tvalid_0's rmse: 45.4632\tvalid_1's rmse: 45.4613\n",
            "Training until validation scores don't improve for 50 rounds\n"
          ]
        },
        {
          "output_type": "stream",
          "name": "stderr",
          "text": [
            "[I 2025-04-28 12:44:51,565] Trial 2 finished with value: 26.107108652216414 and parameters: {'num_leaves': 24, 'max_depth': 10, 'min_child_samples': 34, 'subsample': 0.6816197875928591, 'colsample_bytree': 0.7039017435235453}. Best is trial 0 with value: 26.099357152790404.\n"
          ]
        },
        {
          "output_type": "stream",
          "name": "stdout",
          "text": [
            "Early stopping, best iteration is:\n",
            "[1]\tvalid_0's rmse: 45.4631\tvalid_1's rmse: 45.4612\n",
            "Training until validation scores don't improve for 50 rounds\n"
          ]
        },
        {
          "output_type": "stream",
          "name": "stderr",
          "text": [
            "[I 2025-04-28 12:44:57,155] Trial 3 finished with value: 26.1001103718805 and parameters: {'num_leaves': 53, 'max_depth': 13, 'min_child_samples': 63, 'subsample': 0.8317465988201993, 'colsample_bytree': 0.9950075698904329}. Best is trial 0 with value: 26.099357152790404.\n"
          ]
        },
        {
          "output_type": "stream",
          "name": "stdout",
          "text": [
            "Early stopping, best iteration is:\n",
            "[1]\tvalid_0's rmse: 45.4632\tvalid_1's rmse: 45.4613\n",
            "Training until validation scores don't improve for 50 rounds\n"
          ]
        },
        {
          "output_type": "stream",
          "name": "stderr",
          "text": [
            "[I 2025-04-28 12:45:04,158] Trial 4 finished with value: 26.105262458448347 and parameters: {'num_leaves': 29, 'max_depth': 11, 'min_child_samples': 54, 'subsample': 0.6829444522925088, 'colsample_bytree': 0.8240264781544473}. Best is trial 0 with value: 26.099357152790404.\n"
          ]
        },
        {
          "output_type": "stream",
          "name": "stdout",
          "text": [
            "Early stopping, best iteration is:\n",
            "[1]\tvalid_0's rmse: 45.4631\tvalid_1's rmse: 45.4612\n",
            "Training until validation scores don't improve for 50 rounds\n"
          ]
        },
        {
          "output_type": "stream",
          "name": "stderr",
          "text": [
            "[I 2025-04-28 12:45:08,871] Trial 5 finished with value: 27.092727109794083 and parameters: {'num_leaves': 41, 'max_depth': 14, 'min_child_samples': 39, 'subsample': 0.9556275337987586, 'colsample_bytree': 0.6211693767424267}. Best is trial 0 with value: 26.099357152790404.\n"
          ]
        },
        {
          "output_type": "stream",
          "name": "stdout",
          "text": [
            "Early stopping, best iteration is:\n",
            "[1]\tvalid_0's rmse: 45.4483\tvalid_1's rmse: 45.4483\n",
            "Training until validation scores don't improve for 50 rounds\n"
          ]
        },
        {
          "output_type": "stream",
          "name": "stderr",
          "text": [
            "[I 2025-04-28 12:45:14,159] Trial 6 finished with value: 26.10011629463037 and parameters: {'num_leaves': 71, 'max_depth': 6, 'min_child_samples': 41, 'subsample': 0.695875979461027, 'colsample_bytree': 0.682495725766483}. Best is trial 0 with value: 26.099357152790404.\n"
          ]
        },
        {
          "output_type": "stream",
          "name": "stdout",
          "text": [
            "Early stopping, best iteration is:\n",
            "[1]\tvalid_0's rmse: 45.4632\tvalid_1's rmse: 45.4611\n",
            "Training until validation scores don't improve for 50 rounds\n"
          ]
        },
        {
          "output_type": "stream",
          "name": "stderr",
          "text": [
            "[I 2025-04-28 12:45:20,729] Trial 7 finished with value: 26.105914672976652 and parameters: {'num_leaves': 27, 'max_depth': 8, 'min_child_samples': 74, 'subsample': 0.6963833776589817, 'colsample_bytree': 0.8928984286474364}. Best is trial 0 with value: 26.099357152790404.\n"
          ]
        },
        {
          "output_type": "stream",
          "name": "stdout",
          "text": [
            "Early stopping, best iteration is:\n",
            "[1]\tvalid_0's rmse: 45.4631\tvalid_1's rmse: 45.4612\n",
            "Training until validation scores don't improve for 50 rounds\n"
          ]
        },
        {
          "output_type": "stream",
          "name": "stderr",
          "text": [
            "[I 2025-04-28 12:45:25,424] Trial 8 finished with value: 26.10364055396037 and parameters: {'num_leaves': 34, 'max_depth': 14, 'min_child_samples': 37, 'subsample': 0.8146175465875877, 'colsample_bytree': 0.7208894303309679}. Best is trial 0 with value: 26.099357152790404.\n"
          ]
        },
        {
          "output_type": "stream",
          "name": "stdout",
          "text": [
            "Early stopping, best iteration is:\n",
            "[1]\tvalid_0's rmse: 45.4632\tvalid_1's rmse: 45.4613\n",
            "Training until validation scores don't improve for 50 rounds\n"
          ]
        },
        {
          "output_type": "stream",
          "name": "stderr",
          "text": [
            "[I 2025-04-28 12:45:32,015] Trial 9 finished with value: 26.105133197009245 and parameters: {'num_leaves': 85, 'max_depth': 5, 'min_child_samples': 98, 'subsample': 0.7796436083866057, 'colsample_bytree': 0.7392273402260466}. Best is trial 0 with value: 26.099357152790404.\n"
          ]
        },
        {
          "output_type": "stream",
          "name": "stdout",
          "text": [
            "Early stopping, best iteration is:\n",
            "[1]\tvalid_0's rmse: 45.4631\tvalid_1's rmse: 45.4612\n",
            "Training until validation scores don't improve for 50 rounds\n"
          ]
        },
        {
          "output_type": "stream",
          "name": "stderr",
          "text": [
            "[I 2025-04-28 12:45:38,225] Trial 10 finished with value: 26.097806280050598 and parameters: {'num_leaves': 99, 'max_depth': 7, 'min_child_samples': 18, 'subsample': 0.9372387295558767, 'colsample_bytree': 0.9781594543175063}. Best is trial 10 with value: 26.097806280050598.\n"
          ]
        },
        {
          "output_type": "stream",
          "name": "stdout",
          "text": [
            "Early stopping, best iteration is:\n",
            "[1]\tvalid_0's rmse: 45.4632\tvalid_1's rmse: 45.4613\n",
            "Training until validation scores don't improve for 50 rounds\n"
          ]
        },
        {
          "output_type": "stream",
          "name": "stderr",
          "text": [
            "[I 2025-04-28 12:45:46,536] Trial 11 finished with value: 26.09786697832981 and parameters: {'num_leaves': 96, 'max_depth': 7, 'min_child_samples': 14, 'subsample': 0.9829621198373429, 'colsample_bytree': 0.9963027519636434}. Best is trial 10 with value: 26.097806280050598.\n"
          ]
        },
        {
          "output_type": "stream",
          "name": "stdout",
          "text": [
            "Early stopping, best iteration is:\n",
            "[1]\tvalid_0's rmse: 45.4632\tvalid_1's rmse: 45.4613\n",
            "Training until validation scores don't improve for 50 rounds\n"
          ]
        },
        {
          "output_type": "stream",
          "name": "stderr",
          "text": [
            "[I 2025-04-28 12:45:52,714] Trial 12 finished with value: 26.097805908710907 and parameters: {'num_leaves': 100, 'max_depth': 7, 'min_child_samples': 11, 'subsample': 0.9946331305905104, 'colsample_bytree': 0.9118375218012934}. Best is trial 12 with value: 26.097805908710907.\n"
          ]
        },
        {
          "output_type": "stream",
          "name": "stdout",
          "text": [
            "Early stopping, best iteration is:\n",
            "[1]\tvalid_0's rmse: 45.4632\tvalid_1's rmse: 45.4613\n",
            "Training until validation scores don't improve for 50 rounds\n"
          ]
        },
        {
          "output_type": "stream",
          "name": "stderr",
          "text": [
            "[I 2025-04-28 12:45:59,827] Trial 13 finished with value: 26.105133197009245 and parameters: {'num_leaves': 100, 'max_depth': 5, 'min_child_samples': 15, 'subsample': 0.9125198383567328, 'colsample_bytree': 0.9078439122986848}. Best is trial 12 with value: 26.097805908710907.\n"
          ]
        },
        {
          "output_type": "stream",
          "name": "stdout",
          "text": [
            "Early stopping, best iteration is:\n",
            "[1]\tvalid_0's rmse: 45.4631\tvalid_1's rmse: 45.4612\n",
            "Training until validation scores don't improve for 50 rounds\n"
          ]
        },
        {
          "output_type": "stream",
          "name": "stderr",
          "text": [
            "[I 2025-04-28 12:46:05,809] Trial 14 finished with value: 26.098326215558213 and parameters: {'num_leaves': 82, 'max_depth': 7, 'min_child_samples': 10, 'subsample': 0.8957402913215855, 'colsample_bytree': 0.9124421568032057}. Best is trial 12 with value: 26.097805908710907.\n"
          ]
        },
        {
          "output_type": "stream",
          "name": "stdout",
          "text": [
            "Early stopping, best iteration is:\n",
            "[1]\tvalid_0's rmse: 45.4632\tvalid_1's rmse: 45.4613\n",
            "Training until validation scores don't improve for 50 rounds\n"
          ]
        },
        {
          "output_type": "stream",
          "name": "stderr",
          "text": [
            "[I 2025-04-28 12:46:13,881] Trial 15 finished with value: 26.0978740946824 and parameters: {'num_leaves': 86, 'max_depth': 12, 'min_child_samples': 23, 'subsample': 0.9967425614808333, 'colsample_bytree': 0.835891615791288}. Best is trial 12 with value: 26.097805908710907.\n"
          ]
        },
        {
          "output_type": "stream",
          "name": "stdout",
          "text": [
            "Early stopping, best iteration is:\n",
            "[1]\tvalid_0's rmse: 45.4633\tvalid_1's rmse: 45.4612\n",
            "Training until validation scores don't improve for 50 rounds\n"
          ]
        },
        {
          "output_type": "stream",
          "name": "stderr",
          "text": [
            "[I 2025-04-28 12:46:20,364] Trial 16 finished with value: 26.0985899399101 and parameters: {'num_leaves': 74, 'max_depth': 9, 'min_child_samples': 24, 'subsample': 0.6014885742624341, 'colsample_bytree': 0.9384489010396844}. Best is trial 12 with value: 26.097805908710907.\n"
          ]
        },
        {
          "output_type": "stream",
          "name": "stdout",
          "text": [
            "Early stopping, best iteration is:\n",
            "[1]\tvalid_0's rmse: 45.4632\tvalid_1's rmse: 45.4613\n",
            "Training until validation scores don't improve for 50 rounds\n"
          ]
        },
        {
          "output_type": "stream",
          "name": "stderr",
          "text": [
            "[I 2025-04-28 12:46:28,931] Trial 17 finished with value: 26.097975750625352 and parameters: {'num_leaves': 92, 'max_depth': 7, 'min_child_samples': 23, 'subsample': 0.9172971824324273, 'colsample_bytree': 0.8543972283916988}. Best is trial 12 with value: 26.097805908710907.\n"
          ]
        },
        {
          "output_type": "stream",
          "name": "stdout",
          "text": [
            "Early stopping, best iteration is:\n",
            "[1]\tvalid_0's rmse: 45.4632\tvalid_1's rmse: 45.4613\n",
            "Training until validation scores don't improve for 50 rounds\n"
          ]
        },
        {
          "output_type": "stream",
          "name": "stderr",
          "text": [
            "[I 2025-04-28 12:46:35,122] Trial 18 finished with value: 26.10011629463037 and parameters: {'num_leaves': 75, 'max_depth': 6, 'min_child_samples': 95, 'subsample': 0.8719959244600312, 'colsample_bytree': 0.7723464450892612}. Best is trial 12 with value: 26.097805908710907.\n"
          ]
        },
        {
          "output_type": "stream",
          "name": "stdout",
          "text": [
            "Early stopping, best iteration is:\n",
            "[1]\tvalid_0's rmse: 45.4632\tvalid_1's rmse: 45.4611\n",
            "Training until validation scores don't improve for 50 rounds\n"
          ]
        },
        {
          "output_type": "stream",
          "name": "stderr",
          "text": [
            "[I 2025-04-28 12:46:42,318] Trial 19 finished with value: 26.09969419671398 and parameters: {'num_leaves': 58, 'max_depth': 10, 'min_child_samples': 84, 'subsample': 0.9538365376666073, 'colsample_bytree': 0.9342293153272703}. Best is trial 12 with value: 26.097805908710907.\n"
          ]
        },
        {
          "output_type": "stream",
          "name": "stdout",
          "text": [
            "Early stopping, best iteration is:\n",
            "[1]\tvalid_0's rmse: 45.4632\tvalid_1's rmse: 45.4613\n",
            "Training until validation scores don't improve for 50 rounds\n"
          ]
        },
        {
          "output_type": "stream",
          "name": "stderr",
          "text": [
            "[I 2025-04-28 12:46:48,968] Trial 20 finished with value: 26.09788280235552 and parameters: {'num_leaves': 90, 'max_depth': 8, 'min_child_samples': 26, 'subsample': 0.9478421450201566, 'colsample_bytree': 0.8696237749875589}. Best is trial 12 with value: 26.097805908710907.\n"
          ]
        },
        {
          "output_type": "stream",
          "name": "stdout",
          "text": [
            "Early stopping, best iteration is:\n",
            "[1]\tvalid_0's rmse: 45.4633\tvalid_1's rmse: 45.4612\n",
            "Training until validation scores don't improve for 50 rounds\n"
          ]
        },
        {
          "output_type": "stream",
          "name": "stderr",
          "text": [
            "[I 2025-04-28 12:46:56,802] Trial 21 finished with value: 26.097806280050598 and parameters: {'num_leaves': 99, 'max_depth': 7, 'min_child_samples': 10, 'subsample': 0.9947965538179508, 'colsample_bytree': 0.9606850107558936}. Best is trial 12 with value: 26.097805908710907.\n"
          ]
        },
        {
          "output_type": "stream",
          "name": "stdout",
          "text": [
            "Early stopping, best iteration is:\n",
            "[1]\tvalid_0's rmse: 45.4632\tvalid_1's rmse: 45.4613\n",
            "Training until validation scores don't improve for 50 rounds\n"
          ]
        },
        {
          "output_type": "stream",
          "name": "stderr",
          "text": [
            "[I 2025-04-28 12:47:04,300] Trial 22 finished with value: 26.10011629463037 and parameters: {'num_leaves': 100, 'max_depth': 6, 'min_child_samples': 11, 'subsample': 0.9928934960453218, 'colsample_bytree': 0.9562375098958248}. Best is trial 12 with value: 26.097805908710907.\n"
          ]
        },
        {
          "output_type": "stream",
          "name": "stdout",
          "text": [
            "Early stopping, best iteration is:\n",
            "[1]\tvalid_0's rmse: 45.4632\tvalid_1's rmse: 45.4611\n",
            "Training until validation scores don't improve for 50 rounds\n"
          ]
        },
        {
          "output_type": "stream",
          "name": "stderr",
          "text": [
            "[I 2025-04-28 12:47:21,831] Trial 23 finished with value: 26.09767571073356 and parameters: {'num_leaves': 93, 'max_depth': 9, 'min_child_samples': 47, 'subsample': 0.8632470374714418, 'colsample_bytree': 0.9567700982245757}. Best is trial 23 with value: 26.09767571073356.\n"
          ]
        },
        {
          "output_type": "stream",
          "name": "stdout",
          "text": [
            "Early stopping, best iteration is:\n",
            "[1]\tvalid_0's rmse: 45.4633\tvalid_1's rmse: 45.4611\n",
            "Training until validation scores don't improve for 50 rounds\n"
          ]
        },
        {
          "output_type": "stream",
          "name": "stderr",
          "text": [
            "[I 2025-04-28 12:47:27,727] Trial 24 finished with value: 26.098085036849927 and parameters: {'num_leaves': 81, 'max_depth': 9, 'min_child_samples': 47, 'subsample': 0.8493566013483299, 'colsample_bytree': 0.7992770308408101}. Best is trial 23 with value: 26.09767571073356.\n"
          ]
        },
        {
          "output_type": "stream",
          "name": "stdout",
          "text": [
            "Early stopping, best iteration is:\n",
            "[1]\tvalid_0's rmse: 45.4632\tvalid_1's rmse: 45.4613\n",
            "Training until validation scores don't improve for 50 rounds\n"
          ]
        },
        {
          "output_type": "stream",
          "name": "stderr",
          "text": [
            "[I 2025-04-28 12:47:36,014] Trial 25 finished with value: 26.097665418886262 and parameters: {'num_leaves': 92, 'max_depth': 10, 'min_child_samples': 65, 'subsample': 0.7564034732460778, 'colsample_bytree': 0.8822824104552303}. Best is trial 25 with value: 26.097665418886262.\n"
          ]
        },
        {
          "output_type": "stream",
          "name": "stdout",
          "text": [
            "Early stopping, best iteration is:\n",
            "[1]\tvalid_0's rmse: 45.4633\tvalid_1's rmse: 45.4612\n",
            "Training until validation scores don't improve for 50 rounds\n"
          ]
        },
        {
          "output_type": "stream",
          "name": "stderr",
          "text": [
            "[I 2025-04-28 12:47:42,520] Trial 26 finished with value: 26.097747643806997 and parameters: {'num_leaves': 91, 'max_depth': 11, 'min_child_samples': 66, 'subsample': 0.7488228666089207, 'colsample_bytree': 0.8847480241100656}. Best is trial 25 with value: 26.097665418886262.\n"
          ]
        },
        {
          "output_type": "stream",
          "name": "stdout",
          "text": [
            "Early stopping, best iteration is:\n",
            "[1]\tvalid_0's rmse: 45.4633\tvalid_1's rmse: 45.4611\n",
            "Training until validation scores don't improve for 50 rounds\n"
          ]
        },
        {
          "output_type": "stream",
          "name": "stderr",
          "text": [
            "[I 2025-04-28 12:47:50,191] Trial 27 finished with value: 26.09890408471223 and parameters: {'num_leaves': 69, 'max_depth': 11, 'min_child_samples': 64, 'subsample': 0.7457337040995593, 'colsample_bytree': 0.8738322410858197}. Best is trial 25 with value: 26.097665418886262.\n"
          ]
        },
        {
          "output_type": "stream",
          "name": "stdout",
          "text": [
            "Early stopping, best iteration is:\n",
            "[1]\tvalid_0's rmse: 45.4632\tvalid_1's rmse: 45.4612\n",
            "Training until validation scores don't improve for 50 rounds\n"
          ]
        },
        {
          "output_type": "stream",
          "name": "stderr",
          "text": [
            "[I 2025-04-28 12:48:01,388] Trial 28 finished with value: 26.097740000304682 and parameters: {'num_leaves': 90, 'max_depth': 12, 'min_child_samples': 72, 'subsample': 0.7676146760947663, 'colsample_bytree': 0.7895513741404522}. Best is trial 25 with value: 26.097665418886262.\n"
          ]
        },
        {
          "output_type": "stream",
          "name": "stdout",
          "text": [
            "Early stopping, best iteration is:\n",
            "[1]\tvalid_0's rmse: 45.4633\tvalid_1's rmse: 45.4612\n",
            "Training until validation scores don't improve for 50 rounds\n"
          ]
        },
        {
          "output_type": "stream",
          "name": "stderr",
          "text": [
            "[I 2025-04-28 12:48:07,049] Trial 29 finished with value: 26.099155409205483 and parameters: {'num_leaves': 64, 'max_depth': 12, 'min_child_samples': 74, 'subsample': 0.7813729200542142, 'colsample_bytree': 0.7744192938004197}. Best is trial 25 with value: 26.097665418886262.\n"
          ]
        },
        {
          "output_type": "stream",
          "name": "stdout",
          "text": [
            "Early stopping, best iteration is:\n",
            "[1]\tvalid_0's rmse: 45.4632\tvalid_1's rmse: 45.4613\n",
            "Training until validation scores don't improve for 50 rounds\n"
          ]
        },
        {
          "output_type": "stream",
          "name": "stderr",
          "text": [
            "[I 2025-04-28 12:48:15,148] Trial 30 finished with value: 26.098227577880834 and parameters: {'num_leaves': 80, 'max_depth': 15, 'min_child_samples': 55, 'subsample': 0.7335720749818341, 'colsample_bytree': 0.8286952069504551}. Best is trial 25 with value: 26.097665418886262.\n"
          ]
        },
        {
          "output_type": "stream",
          "name": "stdout",
          "text": [
            "Early stopping, best iteration is:\n",
            "[1]\tvalid_0's rmse: 45.4632\tvalid_1's rmse: 45.4612\n",
            "Training until validation scores don't improve for 50 rounds\n"
          ]
        },
        {
          "output_type": "stream",
          "name": "stderr",
          "text": [
            "[I 2025-04-28 12:48:21,167] Trial 31 finished with value: 26.09771007465729 and parameters: {'num_leaves': 91, 'max_depth': 11, 'min_child_samples': 66, 'subsample': 0.733889093509672, 'colsample_bytree': 0.7961809087554059}. Best is trial 25 with value: 26.097665418886262.\n"
          ]
        },
        {
          "output_type": "stream",
          "name": "stdout",
          "text": [
            "Early stopping, best iteration is:\n",
            "[1]\tvalid_0's rmse: 45.4633\tvalid_1's rmse: 45.4611\n",
            "Training until validation scores don't improve for 50 rounds\n"
          ]
        },
        {
          "output_type": "stream",
          "name": "stderr",
          "text": [
            "[I 2025-04-28 12:48:29,452] Trial 32 finished with value: 26.09762006562748 and parameters: {'num_leaves': 92, 'max_depth': 10, 'min_child_samples': 75, 'subsample': 0.7881000520287922, 'colsample_bytree': 0.7946076019533467}. Best is trial 32 with value: 26.09762006562748.\n"
          ]
        },
        {
          "output_type": "stream",
          "name": "stdout",
          "text": [
            "Early stopping, best iteration is:\n",
            "[1]\tvalid_0's rmse: 45.4633\tvalid_1's rmse: 45.4612\n",
            "Training until validation scores don't improve for 50 rounds\n"
          ]
        },
        {
          "output_type": "stream",
          "name": "stderr",
          "text": [
            "[I 2025-04-28 12:48:35,119] Trial 33 finished with value: 26.097645113600972 and parameters: {'num_leaves': 94, 'max_depth': 10, 'min_child_samples': 81, 'subsample': 0.7242999275632538, 'colsample_bytree': 0.7441928367671081}. Best is trial 32 with value: 26.09762006562748.\n"
          ]
        },
        {
          "output_type": "stream",
          "name": "stdout",
          "text": [
            "Early stopping, best iteration is:\n",
            "[1]\tvalid_0's rmse: 45.4633\tvalid_1's rmse: 45.4611\n",
            "Training until validation scores don't improve for 50 rounds\n"
          ]
        },
        {
          "output_type": "stream",
          "name": "stderr",
          "text": [
            "[I 2025-04-28 12:48:43,329] Trial 34 finished with value: 26.09785273096716 and parameters: {'num_leaves': 86, 'max_depth': 10, 'min_child_samples': 85, 'subsample': 0.6460727822387603, 'colsample_bytree': 0.7513733443587005}. Best is trial 32 with value: 26.09762006562748.\n"
          ]
        },
        {
          "output_type": "stream",
          "name": "stdout",
          "text": [
            "Early stopping, best iteration is:\n",
            "[1]\tvalid_0's rmse: 45.4633\tvalid_1's rmse: 45.4612\n",
            "Training until validation scores don't improve for 50 rounds\n"
          ]
        },
        {
          "output_type": "stream",
          "name": "stderr",
          "text": [
            "[I 2025-04-28 12:48:48,456] Trial 35 finished with value: 26.100793021964453 and parameters: {'num_leaves': 47, 'max_depth': 9, 'min_child_samples': 81, 'subsample': 0.7998274106857461, 'colsample_bytree': 0.6535990167785901}. Best is trial 32 with value: 26.09762006562748.\n"
          ]
        },
        {
          "output_type": "stream",
          "name": "stdout",
          "text": [
            "Early stopping, best iteration is:\n",
            "[1]\tvalid_0's rmse: 45.4632\tvalid_1's rmse: 45.4613\n",
            "Training until validation scores don't improve for 50 rounds\n"
          ]
        },
        {
          "output_type": "stream",
          "name": "stderr",
          "text": [
            "[I 2025-04-28 12:48:56,329] Trial 36 finished with value: 26.097681843411735 and parameters: {'num_leaves': 94, 'max_depth': 9, 'min_child_samples': 48, 'subsample': 0.8448244425954563, 'colsample_bytree': 0.7052946775440335}. Best is trial 32 with value: 26.09762006562748.\n"
          ]
        },
        {
          "output_type": "stream",
          "name": "stdout",
          "text": [
            "Early stopping, best iteration is:\n",
            "[1]\tvalid_0's rmse: 45.4633\tvalid_1's rmse: 45.4611\n",
            "Training until validation scores don't improve for 50 rounds\n"
          ]
        },
        {
          "output_type": "stream",
          "name": "stderr",
          "text": [
            "[I 2025-04-28 12:49:02,525] Trial 37 finished with value: 26.098278542552162 and parameters: {'num_leaves': 78, 'max_depth': 10, 'min_child_samples': 59, 'subsample': 0.7181635668266447, 'colsample_bytree': 0.7493817019184656}. Best is trial 32 with value: 26.09762006562748.\n"
          ]
        },
        {
          "output_type": "stream",
          "name": "stdout",
          "text": [
            "Early stopping, best iteration is:\n",
            "[1]\tvalid_0's rmse: 45.4632\tvalid_1's rmse: 45.4613\n",
            "Training until validation scores don't improve for 50 rounds\n"
          ]
        },
        {
          "output_type": "stream",
          "name": "stderr",
          "text": [
            "[I 2025-04-28 12:49:10,345] Trial 38 finished with value: 26.09785273096716 and parameters: {'num_leaves': 86, 'max_depth': 10, 'min_child_samples': 88, 'subsample': 0.7998457622328499, 'colsample_bytree': 0.8307461405477152}. Best is trial 32 with value: 26.09762006562748.\n"
          ]
        },
        {
          "output_type": "stream",
          "name": "stdout",
          "text": [
            "Early stopping, best iteration is:\n",
            "[1]\tvalid_0's rmse: 45.4633\tvalid_1's rmse: 45.4612\n",
            "Training until validation scores don't improve for 50 rounds\n"
          ]
        },
        {
          "output_type": "stream",
          "name": "stderr",
          "text": [
            "[I 2025-04-28 12:49:18,016] Trial 39 finished with value: 26.09773157646511 and parameters: {'num_leaves': 95, 'max_depth': 8, 'min_child_samples': 48, 'subsample': 0.6612016745537579, 'colsample_bytree': 0.8517270048942528}. Best is trial 32 with value: 26.09762006562748.\n"
          ]
        },
        {
          "output_type": "stream",
          "name": "stdout",
          "text": [
            "Early stopping, best iteration is:\n",
            "[1]\tvalid_0's rmse: 45.4633\tvalid_1's rmse: 45.4612\n",
            "Best Parameters: {'num_leaves': 92, 'max_depth': 10, 'min_child_samples': 75, 'subsample': 0.7881000520287922, 'colsample_bytree': 0.7946076019533467}\n",
            "Best RMSE: 26.09762006562748\n"
          ]
        }
      ]
    },
    {
      "cell_type": "code",
      "source": [
        "# Train final model with best parameters\n",
        "best_params = {**fixed_params, **study.best_params}\n",
        "\n",
        "final_model = lgb.train(\n",
        "    best_params,\n",
        "    lgb.Dataset(X_train, label=y_train),\n",
        "    valid_sets=[lgb.Dataset(X_train), lgb.Dataset(X_val)],\n",
        "    # early_stopping_rounds=50,  # Remove this line\n",
        "    callbacks=[lgb.early_stopping(stopping_rounds=50), lgb.log_evaluation(period=100)], # Add this line instead for controlling evaluation logging frequency\n",
        "    # verbose_eval=100 # Remove this line - causing the error\n",
        ")\n",
        "\n"
      ],
      "metadata": {
        "colab": {
          "base_uri": "https://localhost:8080/"
        },
        "id": "GpWWvAMQawB9",
        "outputId": "050c8240-4198-413d-97d5-183b8bd6db75"
      },
      "execution_count": 19,
      "outputs": [
        {
          "output_type": "stream",
          "name": "stdout",
          "text": [
            "Training until validation scores don't improve for 50 rounds\n",
            "Early stopping, best iteration is:\n",
            "[1]\tvalid_0's rmse: 45.4633\tvalid_1's rmse: 45.4612\n"
          ]
        }
      ]
    },
    {
      "cell_type": "code",
      "source": [
        "# Evaluate\n",
        "val_preds_final = final_model.predict(X_val)\n",
        "# final_rmse = mean_squared_error(y_val, val_preds_final, squared=False) # This line caused the error, removing 'squared=False'\n",
        "final_rmse = np.sqrt(mean_squared_error(y_val, val_preds_final)) # Calculate RMSE manually if 'squared=False' is not supported.\n",
        "print(f\"Final Smart Tuned LightGBM Validation RMSE: {final_rmse:.4f}\")"
      ],
      "metadata": {
        "colab": {
          "base_uri": "https://localhost:8080/"
        },
        "id": "2LUlKwFgcoEj",
        "outputId": "24561f10-e2b7-4f1f-b3d4-681c00f0d008"
      },
      "execution_count": 21,
      "outputs": [
        {
          "output_type": "stream",
          "name": "stdout",
          "text": [
            "Final Smart Tuned LightGBM Validation RMSE: 26.0976\n"
          ]
        }
      ]
    },
    {
      "cell_type": "markdown",
      "source": [
        "Model | Validation RMSE\n",
        "\n",
        "- Random Forest | 12.6630 (Best so far)\n",
        "- LightGBM (Default) | 12.9668\n",
        "- LightGBM (Tuned) | 24.05 / 26.09 (bad)"
      ],
      "metadata": {
        "id": "V5mwF0Iddppt"
      }
    },
    {
      "cell_type": "code",
      "source": [
        "# ExtraTrees Regressor:\n",
        "\n",
        "from sklearn.ensemble import ExtraTreesRegressor\n",
        "\n",
        "# Create and train ExtraTrees model\n",
        "extra_model = ExtraTreesRegressor(\n",
        "    n_estimators=200,\n",
        "    max_depth=None,\n",
        "    random_state=42,\n",
        "    n_jobs=-1\n",
        ")\n",
        "\n",
        "extra_model.fit(X_train, y_train)\n",
        "\n",
        "\n"
      ],
      "metadata": {
        "colab": {
          "base_uri": "https://localhost:8080/",
          "height": 80
        },
        "id": "Qv19P41ZdRSt",
        "outputId": "1cf162be-9c3d-42ac-cabd-8a4e13349499"
      },
      "execution_count": 9,
      "outputs": [
        {
          "output_type": "execute_result",
          "data": {
            "text/plain": [
              "ExtraTreesRegressor(n_estimators=200, n_jobs=-1, random_state=42)"
            ],
            "text/html": [
              "<style>#sk-container-id-1 {\n",
              "  /* Definition of color scheme common for light and dark mode */\n",
              "  --sklearn-color-text: #000;\n",
              "  --sklearn-color-text-muted: #666;\n",
              "  --sklearn-color-line: gray;\n",
              "  /* Definition of color scheme for unfitted estimators */\n",
              "  --sklearn-color-unfitted-level-0: #fff5e6;\n",
              "  --sklearn-color-unfitted-level-1: #f6e4d2;\n",
              "  --sklearn-color-unfitted-level-2: #ffe0b3;\n",
              "  --sklearn-color-unfitted-level-3: chocolate;\n",
              "  /* Definition of color scheme for fitted estimators */\n",
              "  --sklearn-color-fitted-level-0: #f0f8ff;\n",
              "  --sklearn-color-fitted-level-1: #d4ebff;\n",
              "  --sklearn-color-fitted-level-2: #b3dbfd;\n",
              "  --sklearn-color-fitted-level-3: cornflowerblue;\n",
              "\n",
              "  /* Specific color for light theme */\n",
              "  --sklearn-color-text-on-default-background: var(--sg-text-color, var(--theme-code-foreground, var(--jp-content-font-color1, black)));\n",
              "  --sklearn-color-background: var(--sg-background-color, var(--theme-background, var(--jp-layout-color0, white)));\n",
              "  --sklearn-color-border-box: var(--sg-text-color, var(--theme-code-foreground, var(--jp-content-font-color1, black)));\n",
              "  --sklearn-color-icon: #696969;\n",
              "\n",
              "  @media (prefers-color-scheme: dark) {\n",
              "    /* Redefinition of color scheme for dark theme */\n",
              "    --sklearn-color-text-on-default-background: var(--sg-text-color, var(--theme-code-foreground, var(--jp-content-font-color1, white)));\n",
              "    --sklearn-color-background: var(--sg-background-color, var(--theme-background, var(--jp-layout-color0, #111)));\n",
              "    --sklearn-color-border-box: var(--sg-text-color, var(--theme-code-foreground, var(--jp-content-font-color1, white)));\n",
              "    --sklearn-color-icon: #878787;\n",
              "  }\n",
              "}\n",
              "\n",
              "#sk-container-id-1 {\n",
              "  color: var(--sklearn-color-text);\n",
              "}\n",
              "\n",
              "#sk-container-id-1 pre {\n",
              "  padding: 0;\n",
              "}\n",
              "\n",
              "#sk-container-id-1 input.sk-hidden--visually {\n",
              "  border: 0;\n",
              "  clip: rect(1px 1px 1px 1px);\n",
              "  clip: rect(1px, 1px, 1px, 1px);\n",
              "  height: 1px;\n",
              "  margin: -1px;\n",
              "  overflow: hidden;\n",
              "  padding: 0;\n",
              "  position: absolute;\n",
              "  width: 1px;\n",
              "}\n",
              "\n",
              "#sk-container-id-1 div.sk-dashed-wrapped {\n",
              "  border: 1px dashed var(--sklearn-color-line);\n",
              "  margin: 0 0.4em 0.5em 0.4em;\n",
              "  box-sizing: border-box;\n",
              "  padding-bottom: 0.4em;\n",
              "  background-color: var(--sklearn-color-background);\n",
              "}\n",
              "\n",
              "#sk-container-id-1 div.sk-container {\n",
              "  /* jupyter's `normalize.less` sets `[hidden] { display: none; }`\n",
              "     but bootstrap.min.css set `[hidden] { display: none !important; }`\n",
              "     so we also need the `!important` here to be able to override the\n",
              "     default hidden behavior on the sphinx rendered scikit-learn.org.\n",
              "     See: https://github.com/scikit-learn/scikit-learn/issues/21755 */\n",
              "  display: inline-block !important;\n",
              "  position: relative;\n",
              "}\n",
              "\n",
              "#sk-container-id-1 div.sk-text-repr-fallback {\n",
              "  display: none;\n",
              "}\n",
              "\n",
              "div.sk-parallel-item,\n",
              "div.sk-serial,\n",
              "div.sk-item {\n",
              "  /* draw centered vertical line to link estimators */\n",
              "  background-image: linear-gradient(var(--sklearn-color-text-on-default-background), var(--sklearn-color-text-on-default-background));\n",
              "  background-size: 2px 100%;\n",
              "  background-repeat: no-repeat;\n",
              "  background-position: center center;\n",
              "}\n",
              "\n",
              "/* Parallel-specific style estimator block */\n",
              "\n",
              "#sk-container-id-1 div.sk-parallel-item::after {\n",
              "  content: \"\";\n",
              "  width: 100%;\n",
              "  border-bottom: 2px solid var(--sklearn-color-text-on-default-background);\n",
              "  flex-grow: 1;\n",
              "}\n",
              "\n",
              "#sk-container-id-1 div.sk-parallel {\n",
              "  display: flex;\n",
              "  align-items: stretch;\n",
              "  justify-content: center;\n",
              "  background-color: var(--sklearn-color-background);\n",
              "  position: relative;\n",
              "}\n",
              "\n",
              "#sk-container-id-1 div.sk-parallel-item {\n",
              "  display: flex;\n",
              "  flex-direction: column;\n",
              "}\n",
              "\n",
              "#sk-container-id-1 div.sk-parallel-item:first-child::after {\n",
              "  align-self: flex-end;\n",
              "  width: 50%;\n",
              "}\n",
              "\n",
              "#sk-container-id-1 div.sk-parallel-item:last-child::after {\n",
              "  align-self: flex-start;\n",
              "  width: 50%;\n",
              "}\n",
              "\n",
              "#sk-container-id-1 div.sk-parallel-item:only-child::after {\n",
              "  width: 0;\n",
              "}\n",
              "\n",
              "/* Serial-specific style estimator block */\n",
              "\n",
              "#sk-container-id-1 div.sk-serial {\n",
              "  display: flex;\n",
              "  flex-direction: column;\n",
              "  align-items: center;\n",
              "  background-color: var(--sklearn-color-background);\n",
              "  padding-right: 1em;\n",
              "  padding-left: 1em;\n",
              "}\n",
              "\n",
              "\n",
              "/* Toggleable style: style used for estimator/Pipeline/ColumnTransformer box that is\n",
              "clickable and can be expanded/collapsed.\n",
              "- Pipeline and ColumnTransformer use this feature and define the default style\n",
              "- Estimators will overwrite some part of the style using the `sk-estimator` class\n",
              "*/\n",
              "\n",
              "/* Pipeline and ColumnTransformer style (default) */\n",
              "\n",
              "#sk-container-id-1 div.sk-toggleable {\n",
              "  /* Default theme specific background. It is overwritten whether we have a\n",
              "  specific estimator or a Pipeline/ColumnTransformer */\n",
              "  background-color: var(--sklearn-color-background);\n",
              "}\n",
              "\n",
              "/* Toggleable label */\n",
              "#sk-container-id-1 label.sk-toggleable__label {\n",
              "  cursor: pointer;\n",
              "  display: flex;\n",
              "  width: 100%;\n",
              "  margin-bottom: 0;\n",
              "  padding: 0.5em;\n",
              "  box-sizing: border-box;\n",
              "  text-align: center;\n",
              "  align-items: start;\n",
              "  justify-content: space-between;\n",
              "  gap: 0.5em;\n",
              "}\n",
              "\n",
              "#sk-container-id-1 label.sk-toggleable__label .caption {\n",
              "  font-size: 0.6rem;\n",
              "  font-weight: lighter;\n",
              "  color: var(--sklearn-color-text-muted);\n",
              "}\n",
              "\n",
              "#sk-container-id-1 label.sk-toggleable__label-arrow:before {\n",
              "  /* Arrow on the left of the label */\n",
              "  content: \"▸\";\n",
              "  float: left;\n",
              "  margin-right: 0.25em;\n",
              "  color: var(--sklearn-color-icon);\n",
              "}\n",
              "\n",
              "#sk-container-id-1 label.sk-toggleable__label-arrow:hover:before {\n",
              "  color: var(--sklearn-color-text);\n",
              "}\n",
              "\n",
              "/* Toggleable content - dropdown */\n",
              "\n",
              "#sk-container-id-1 div.sk-toggleable__content {\n",
              "  max-height: 0;\n",
              "  max-width: 0;\n",
              "  overflow: hidden;\n",
              "  text-align: left;\n",
              "  /* unfitted */\n",
              "  background-color: var(--sklearn-color-unfitted-level-0);\n",
              "}\n",
              "\n",
              "#sk-container-id-1 div.sk-toggleable__content.fitted {\n",
              "  /* fitted */\n",
              "  background-color: var(--sklearn-color-fitted-level-0);\n",
              "}\n",
              "\n",
              "#sk-container-id-1 div.sk-toggleable__content pre {\n",
              "  margin: 0.2em;\n",
              "  border-radius: 0.25em;\n",
              "  color: var(--sklearn-color-text);\n",
              "  /* unfitted */\n",
              "  background-color: var(--sklearn-color-unfitted-level-0);\n",
              "}\n",
              "\n",
              "#sk-container-id-1 div.sk-toggleable__content.fitted pre {\n",
              "  /* unfitted */\n",
              "  background-color: var(--sklearn-color-fitted-level-0);\n",
              "}\n",
              "\n",
              "#sk-container-id-1 input.sk-toggleable__control:checked~div.sk-toggleable__content {\n",
              "  /* Expand drop-down */\n",
              "  max-height: 200px;\n",
              "  max-width: 100%;\n",
              "  overflow: auto;\n",
              "}\n",
              "\n",
              "#sk-container-id-1 input.sk-toggleable__control:checked~label.sk-toggleable__label-arrow:before {\n",
              "  content: \"▾\";\n",
              "}\n",
              "\n",
              "/* Pipeline/ColumnTransformer-specific style */\n",
              "\n",
              "#sk-container-id-1 div.sk-label input.sk-toggleable__control:checked~label.sk-toggleable__label {\n",
              "  color: var(--sklearn-color-text);\n",
              "  background-color: var(--sklearn-color-unfitted-level-2);\n",
              "}\n",
              "\n",
              "#sk-container-id-1 div.sk-label.fitted input.sk-toggleable__control:checked~label.sk-toggleable__label {\n",
              "  background-color: var(--sklearn-color-fitted-level-2);\n",
              "}\n",
              "\n",
              "/* Estimator-specific style */\n",
              "\n",
              "/* Colorize estimator box */\n",
              "#sk-container-id-1 div.sk-estimator input.sk-toggleable__control:checked~label.sk-toggleable__label {\n",
              "  /* unfitted */\n",
              "  background-color: var(--sklearn-color-unfitted-level-2);\n",
              "}\n",
              "\n",
              "#sk-container-id-1 div.sk-estimator.fitted input.sk-toggleable__control:checked~label.sk-toggleable__label {\n",
              "  /* fitted */\n",
              "  background-color: var(--sklearn-color-fitted-level-2);\n",
              "}\n",
              "\n",
              "#sk-container-id-1 div.sk-label label.sk-toggleable__label,\n",
              "#sk-container-id-1 div.sk-label label {\n",
              "  /* The background is the default theme color */\n",
              "  color: var(--sklearn-color-text-on-default-background);\n",
              "}\n",
              "\n",
              "/* On hover, darken the color of the background */\n",
              "#sk-container-id-1 div.sk-label:hover label.sk-toggleable__label {\n",
              "  color: var(--sklearn-color-text);\n",
              "  background-color: var(--sklearn-color-unfitted-level-2);\n",
              "}\n",
              "\n",
              "/* Label box, darken color on hover, fitted */\n",
              "#sk-container-id-1 div.sk-label.fitted:hover label.sk-toggleable__label.fitted {\n",
              "  color: var(--sklearn-color-text);\n",
              "  background-color: var(--sklearn-color-fitted-level-2);\n",
              "}\n",
              "\n",
              "/* Estimator label */\n",
              "\n",
              "#sk-container-id-1 div.sk-label label {\n",
              "  font-family: monospace;\n",
              "  font-weight: bold;\n",
              "  display: inline-block;\n",
              "  line-height: 1.2em;\n",
              "}\n",
              "\n",
              "#sk-container-id-1 div.sk-label-container {\n",
              "  text-align: center;\n",
              "}\n",
              "\n",
              "/* Estimator-specific */\n",
              "#sk-container-id-1 div.sk-estimator {\n",
              "  font-family: monospace;\n",
              "  border: 1px dotted var(--sklearn-color-border-box);\n",
              "  border-radius: 0.25em;\n",
              "  box-sizing: border-box;\n",
              "  margin-bottom: 0.5em;\n",
              "  /* unfitted */\n",
              "  background-color: var(--sklearn-color-unfitted-level-0);\n",
              "}\n",
              "\n",
              "#sk-container-id-1 div.sk-estimator.fitted {\n",
              "  /* fitted */\n",
              "  background-color: var(--sklearn-color-fitted-level-0);\n",
              "}\n",
              "\n",
              "/* on hover */\n",
              "#sk-container-id-1 div.sk-estimator:hover {\n",
              "  /* unfitted */\n",
              "  background-color: var(--sklearn-color-unfitted-level-2);\n",
              "}\n",
              "\n",
              "#sk-container-id-1 div.sk-estimator.fitted:hover {\n",
              "  /* fitted */\n",
              "  background-color: var(--sklearn-color-fitted-level-2);\n",
              "}\n",
              "\n",
              "/* Specification for estimator info (e.g. \"i\" and \"?\") */\n",
              "\n",
              "/* Common style for \"i\" and \"?\" */\n",
              "\n",
              ".sk-estimator-doc-link,\n",
              "a:link.sk-estimator-doc-link,\n",
              "a:visited.sk-estimator-doc-link {\n",
              "  float: right;\n",
              "  font-size: smaller;\n",
              "  line-height: 1em;\n",
              "  font-family: monospace;\n",
              "  background-color: var(--sklearn-color-background);\n",
              "  border-radius: 1em;\n",
              "  height: 1em;\n",
              "  width: 1em;\n",
              "  text-decoration: none !important;\n",
              "  margin-left: 0.5em;\n",
              "  text-align: center;\n",
              "  /* unfitted */\n",
              "  border: var(--sklearn-color-unfitted-level-1) 1pt solid;\n",
              "  color: var(--sklearn-color-unfitted-level-1);\n",
              "}\n",
              "\n",
              ".sk-estimator-doc-link.fitted,\n",
              "a:link.sk-estimator-doc-link.fitted,\n",
              "a:visited.sk-estimator-doc-link.fitted {\n",
              "  /* fitted */\n",
              "  border: var(--sklearn-color-fitted-level-1) 1pt solid;\n",
              "  color: var(--sklearn-color-fitted-level-1);\n",
              "}\n",
              "\n",
              "/* On hover */\n",
              "div.sk-estimator:hover .sk-estimator-doc-link:hover,\n",
              ".sk-estimator-doc-link:hover,\n",
              "div.sk-label-container:hover .sk-estimator-doc-link:hover,\n",
              ".sk-estimator-doc-link:hover {\n",
              "  /* unfitted */\n",
              "  background-color: var(--sklearn-color-unfitted-level-3);\n",
              "  color: var(--sklearn-color-background);\n",
              "  text-decoration: none;\n",
              "}\n",
              "\n",
              "div.sk-estimator.fitted:hover .sk-estimator-doc-link.fitted:hover,\n",
              ".sk-estimator-doc-link.fitted:hover,\n",
              "div.sk-label-container:hover .sk-estimator-doc-link.fitted:hover,\n",
              ".sk-estimator-doc-link.fitted:hover {\n",
              "  /* fitted */\n",
              "  background-color: var(--sklearn-color-fitted-level-3);\n",
              "  color: var(--sklearn-color-background);\n",
              "  text-decoration: none;\n",
              "}\n",
              "\n",
              "/* Span, style for the box shown on hovering the info icon */\n",
              ".sk-estimator-doc-link span {\n",
              "  display: none;\n",
              "  z-index: 9999;\n",
              "  position: relative;\n",
              "  font-weight: normal;\n",
              "  right: .2ex;\n",
              "  padding: .5ex;\n",
              "  margin: .5ex;\n",
              "  width: min-content;\n",
              "  min-width: 20ex;\n",
              "  max-width: 50ex;\n",
              "  color: var(--sklearn-color-text);\n",
              "  box-shadow: 2pt 2pt 4pt #999;\n",
              "  /* unfitted */\n",
              "  background: var(--sklearn-color-unfitted-level-0);\n",
              "  border: .5pt solid var(--sklearn-color-unfitted-level-3);\n",
              "}\n",
              "\n",
              ".sk-estimator-doc-link.fitted span {\n",
              "  /* fitted */\n",
              "  background: var(--sklearn-color-fitted-level-0);\n",
              "  border: var(--sklearn-color-fitted-level-3);\n",
              "}\n",
              "\n",
              ".sk-estimator-doc-link:hover span {\n",
              "  display: block;\n",
              "}\n",
              "\n",
              "/* \"?\"-specific style due to the `<a>` HTML tag */\n",
              "\n",
              "#sk-container-id-1 a.estimator_doc_link {\n",
              "  float: right;\n",
              "  font-size: 1rem;\n",
              "  line-height: 1em;\n",
              "  font-family: monospace;\n",
              "  background-color: var(--sklearn-color-background);\n",
              "  border-radius: 1rem;\n",
              "  height: 1rem;\n",
              "  width: 1rem;\n",
              "  text-decoration: none;\n",
              "  /* unfitted */\n",
              "  color: var(--sklearn-color-unfitted-level-1);\n",
              "  border: var(--sklearn-color-unfitted-level-1) 1pt solid;\n",
              "}\n",
              "\n",
              "#sk-container-id-1 a.estimator_doc_link.fitted {\n",
              "  /* fitted */\n",
              "  border: var(--sklearn-color-fitted-level-1) 1pt solid;\n",
              "  color: var(--sklearn-color-fitted-level-1);\n",
              "}\n",
              "\n",
              "/* On hover */\n",
              "#sk-container-id-1 a.estimator_doc_link:hover {\n",
              "  /* unfitted */\n",
              "  background-color: var(--sklearn-color-unfitted-level-3);\n",
              "  color: var(--sklearn-color-background);\n",
              "  text-decoration: none;\n",
              "}\n",
              "\n",
              "#sk-container-id-1 a.estimator_doc_link.fitted:hover {\n",
              "  /* fitted */\n",
              "  background-color: var(--sklearn-color-fitted-level-3);\n",
              "}\n",
              "</style><div id=\"sk-container-id-1\" class=\"sk-top-container\"><div class=\"sk-text-repr-fallback\"><pre>ExtraTreesRegressor(n_estimators=200, n_jobs=-1, random_state=42)</pre><b>In a Jupyter environment, please rerun this cell to show the HTML representation or trust the notebook. <br />On GitHub, the HTML representation is unable to render, please try loading this page with nbviewer.org.</b></div><div class=\"sk-container\" hidden><div class=\"sk-item\"><div class=\"sk-estimator fitted sk-toggleable\"><input class=\"sk-toggleable__control sk-hidden--visually\" id=\"sk-estimator-id-1\" type=\"checkbox\" checked><label for=\"sk-estimator-id-1\" class=\"sk-toggleable__label fitted sk-toggleable__label-arrow\"><div><div>ExtraTreesRegressor</div></div><div><a class=\"sk-estimator-doc-link fitted\" rel=\"noreferrer\" target=\"_blank\" href=\"https://scikit-learn.org/1.6/modules/generated/sklearn.ensemble.ExtraTreesRegressor.html\">?<span>Documentation for ExtraTreesRegressor</span></a><span class=\"sk-estimator-doc-link fitted\">i<span>Fitted</span></span></div></label><div class=\"sk-toggleable__content fitted\"><pre>ExtraTreesRegressor(n_estimators=200, n_jobs=-1, random_state=42)</pre></div> </div></div></div></div>"
            ]
          },
          "metadata": {},
          "execution_count": 9
        }
      ]
    },
    {
      "cell_type": "code",
      "source": [
        "# Validation prediction\n",
        "extra_preds = extra_model.predict(X_val)\n",
        "\n"
      ],
      "metadata": {
        "id": "Ha0hKD8Xd6iD"
      },
      "execution_count": null,
      "outputs": []
    },
    {
      "cell_type": "code",
      "source": [
        "# Calculate RMSE\n",
        "#extra_rmse = mean_squared_error(y_val, extra_preds, squared=False) # This line caused the error.\n",
        "extra_rmse = np.sqrt(mean_squared_error(y_val, extra_preds)) # Calculate RMSE manually if 'squared=False' is not supported.\n",
        "print(f\"ExtraTrees Validation RMSE: {extra_rmse:.4f}\")"
      ],
      "metadata": {
        "colab": {
          "base_uri": "https://localhost:8080/"
        },
        "id": "xQwvQqOlgpg7",
        "outputId": "7800e8bd-1dd2-47c9-c82b-1acd6398e5d1"
      },
      "execution_count": 12,
      "outputs": [
        {
          "output_type": "stream",
          "name": "stdout",
          "text": [
            "ExtraTrees Validation RMSE: 12.6693\n"
          ]
        }
      ]
    },
    {
      "cell_type": "markdown",
      "source": [
        "Model | Validation RMSE\n",
        "- Random Forest | 12.6630  (Best)\n",
        "- ExtraTrees Regressor | 12.6693"
      ],
      "metadata": {
        "id": "QPQjtrekhHTE"
      }
    },
    {
      "cell_type": "markdown",
      "source": [
        "Conclusion:\n",
        "\n",
        "Random Forest is still slightly better than ExtraTrees.\n",
        "\n",
        "The difference is very tiny (0.006)\n",
        "\n"
      ],
      "metadata": {
        "id": "0WpmXOgehOID"
      }
    },
    {
      "cell_type": "code",
      "source": [],
      "metadata": {
        "id": "4MEzA_tagwK4"
      },
      "execution_count": null,
      "outputs": []
    }
  ]
}